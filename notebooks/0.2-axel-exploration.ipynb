{
 "cells": [
  {
   "cell_type": "markdown",
   "source": "# Data exploration",
   "metadata": {
    "cell_id": "9703282e-b28b-4d15-8c0d-23b9e7bbd784",
    "tags": [],
    "is_collapsed": false,
    "deepnote_cell_type": "text-cell-h1"
   }
  },
  {
   "cell_type": "markdown",
   "source": "In this notebook we're analyzing the cleaned dataset as a first step in the project.\n\nHere we'll plot the data as well as find summary statistics.",
   "metadata": {
    "cell_id": "a7577f14-d78c-4fca-9a53-ea0a0c3e4e58",
    "tags": [],
    "deepnote_cell_type": "markdown"
   }
  },
  {
   "cell_type": "code",
   "metadata": {
    "tags": [],
    "cell_id": "17ee1ebd-6222-4944-89ee-704dde66ee0c",
    "deepnote_to_be_reexecuted": false,
    "source_hash": "1643160e",
    "execution_start": 1644022365056,
    "execution_millis": 4267,
    "deepnote_cell_type": "code"
   },
   "source": "#libs\nimport pandas as pd\nimport matplotlib.pyplot as plt\nimport seaborn as sns \nimport numpy as np\nimport os",
   "execution_count": 1,
   "outputs": []
  },
  {
   "cell_type": "markdown",
   "source": "Now, let's import our cleaned dataset. Remember that, because of raw data size, an auxiliar directory containing cleaned data was created. \n\n```\ndata/processed/cleaned_dataset.csv    -> This won't be available on GitHub, only in Deepnote\n\ndata_sent_github/cleaned_dataset.csv  -> This will be available in both GitHub and Deepnote\n```\n\nFor your convenience, I'll be working with the dataset which will be stored on GitHub.",
   "metadata": {
    "cell_id": "de352d00-9bde-4115-9070-0644932caccf",
    "tags": [],
    "deepnote_cell_type": "markdown"
   }
  },
  {
   "cell_type": "code",
   "metadata": {
    "cell_id": "5eae51e9-3f42-4df0-9c87-f9b5f4706345",
    "tags": [],
    "deepnote_to_be_reexecuted": false,
    "source_hash": "add48eb4",
    "execution_start": 1644022380861,
    "execution_millis": 9,
    "deepnote_cell_type": "code"
   },
   "source": "DATA_CLEANED_DIR = os.path.join(os.getcwd(), os.pardir, 'data_sent_github')\nprint(DATA_CLEANED_DIR)",
   "execution_count": 2,
   "outputs": [
    {
     "name": "stdout",
     "text": "/work/churn_predictive_model/notebooks/../data_sent_github\n",
     "output_type": "stream"
    }
   ]
  },
  {
   "cell_type": "code",
   "metadata": {
    "cell_id": "64d5004a-06e6-4fcd-919b-6cd903c6ede0",
    "tags": [],
    "deepnote_to_be_reexecuted": false,
    "source_hash": "e91f393c",
    "execution_start": 1644022395475,
    "execution_millis": 970,
    "deepnote_cell_type": "code"
   },
   "source": "df = pd.read_csv(DATA_CLEANED_DIR+'/cleaned_dataset.csv', index_col=[0])",
   "execution_count": 3,
   "outputs": []
  },
  {
   "cell_type": "code",
   "metadata": {
    "cell_id": "a4081ae5-09f4-4737-96d0-000302cfeaae",
    "tags": [],
    "deepnote_to_be_reexecuted": false,
    "source_hash": "f2eb8fb8",
    "execution_start": 1644022401519,
    "execution_millis": 84,
    "deepnote_output_heights": [
     21.1875
    ],
    "deepnote_cell_type": "code"
   },
   "source": "#Let's make sure there're no duplicates\ndf.drop_duplicates(subset=['CustomerId'], keep='first', inplace=True)",
   "execution_count": 4,
   "outputs": []
  },
  {
   "cell_type": "code",
   "metadata": {
    "cell_id": "231b6516-fa24-4695-8269-36fae52eab0e",
    "tags": [],
    "deepnote_to_be_reexecuted": false,
    "source_hash": "c085b6ba",
    "execution_start": 1644022412198,
    "execution_millis": 118,
    "deepnote_output_heights": [
     21.1875
    ],
    "deepnote_cell_type": "code"
   },
   "source": "df.head()",
   "execution_count": 5,
   "outputs": [
    {
     "output_type": "execute_result",
     "execution_count": 5,
     "data": {
      "application/vnd.deepnote.dataframe.v3+json": {
       "column_count": 26,
       "row_count": 5,
       "columns": [
        {
         "name": "CustomerId",
         "dtype": "int64",
         "stats": {
          "unique_count": 5,
          "nan_count": 0,
          "min": "14648573",
          "max": "15982728",
          "histogram": [
           {
            "bin_start": 14648573,
            "bin_end": 14781988.5,
            "count": 1
           },
           {
            "bin_start": 14781988.5,
            "bin_end": 14915404,
            "count": 0
           },
           {
            "bin_start": 14915404,
            "bin_end": 15048819.5,
            "count": 0
           },
           {
            "bin_start": 15048819.5,
            "bin_end": 15182235,
            "count": 1
           },
           {
            "bin_start": 15182235,
            "bin_end": 15315650.5,
            "count": 0
           },
           {
            "bin_start": 15315650.5,
            "bin_end": 15449066,
            "count": 1
           },
           {
            "bin_start": 15449066,
            "bin_end": 15582481.5,
            "count": 0
           },
           {
            "bin_start": 15582481.5,
            "bin_end": 15715897,
            "count": 0
           },
           {
            "bin_start": 15715897,
            "bin_end": 15849312.5,
            "count": 0
           },
           {
            "bin_start": 15849312.5,
            "bin_end": 15982728,
            "count": 2
           }
          ]
         }
        },
        {
         "name": "Surname",
         "dtype": "object",
         "stats": {
          "unique_count": 5,
          "nan_count": 0,
          "categories": [
           {
            "name": "NALLS",
            "count": 1
           },
           {
            "name": "LABIANCA",
            "count": 1
           },
           {
            "name": "3 others",
            "count": 3
           }
          ]
         }
        },
        {
         "name": "Geography",
         "dtype": "object",
         "stats": {
          "unique_count": 3,
          "nan_count": 0,
          "categories": [
           {
            "name": "Spain",
            "count": 2
           },
           {
            "name": "Germany",
            "count": 2
           },
           {
            "name": "France",
            "count": 1
           }
          ]
         }
        },
        {
         "name": "Gender",
         "dtype": "object",
         "stats": {
          "unique_count": 2,
          "nan_count": 0,
          "categories": [
           {
            "name": "Male",
            "count": 4
           },
           {
            "name": "Female",
            "count": 1
           }
          ]
         }
        },
        {
         "name": "HasCrCard",
         "dtype": "float64",
         "stats": {
          "unique_count": 2,
          "nan_count": 0,
          "min": "0.0",
          "max": "1.0",
          "histogram": [
           {
            "bin_start": 0,
            "bin_end": 0.1,
            "count": 2
           },
           {
            "bin_start": 0.1,
            "bin_end": 0.2,
            "count": 0
           },
           {
            "bin_start": 0.2,
            "bin_end": 0.30000000000000004,
            "count": 0
           },
           {
            "bin_start": 0.30000000000000004,
            "bin_end": 0.4,
            "count": 0
           },
           {
            "bin_start": 0.4,
            "bin_end": 0.5,
            "count": 0
           },
           {
            "bin_start": 0.5,
            "bin_end": 0.6000000000000001,
            "count": 0
           },
           {
            "bin_start": 0.6000000000000001,
            "bin_end": 0.7000000000000001,
            "count": 0
           },
           {
            "bin_start": 0.7000000000000001,
            "bin_end": 0.8,
            "count": 0
           },
           {
            "bin_start": 0.8,
            "bin_end": 0.9,
            "count": 0
           },
           {
            "bin_start": 0.9,
            "bin_end": 1,
            "count": 3
           }
          ]
         }
        },
        {
         "name": "IsActiveMember",
         "dtype": "float64",
         "stats": {
          "unique_count": 2,
          "nan_count": 0,
          "min": "0.0",
          "max": "1.0",
          "histogram": [
           {
            "bin_start": 0,
            "bin_end": 0.1,
            "count": 3
           },
           {
            "bin_start": 0.1,
            "bin_end": 0.2,
            "count": 0
           },
           {
            "bin_start": 0.2,
            "bin_end": 0.30000000000000004,
            "count": 0
           },
           {
            "bin_start": 0.30000000000000004,
            "bin_end": 0.4,
            "count": 0
           },
           {
            "bin_start": 0.4,
            "bin_end": 0.5,
            "count": 0
           },
           {
            "bin_start": 0.5,
            "bin_end": 0.6000000000000001,
            "count": 0
           },
           {
            "bin_start": 0.6000000000000001,
            "bin_end": 0.7000000000000001,
            "count": 0
           },
           {
            "bin_start": 0.7000000000000001,
            "bin_end": 0.8,
            "count": 0
           },
           {
            "bin_start": 0.8,
            "bin_end": 0.9,
            "count": 0
           },
           {
            "bin_start": 0.9,
            "bin_end": 1,
            "count": 2
           }
          ]
         }
        },
        {
         "name": "EstimatedSalary",
         "dtype": "float64",
         "stats": {
          "unique_count": 5,
          "nan_count": 0,
          "min": "2612.65",
          "max": "197095.28",
          "histogram": [
           {
            "bin_start": 2612.65,
            "bin_end": 22060.913,
            "count": 1
           },
           {
            "bin_start": 22060.913,
            "bin_end": 41509.176,
            "count": 0
           },
           {
            "bin_start": 41509.176,
            "bin_end": 60957.439,
            "count": 0
           },
           {
            "bin_start": 60957.439,
            "bin_end": 80405.70199999999,
            "count": 1
           },
           {
            "bin_start": 80405.70199999999,
            "bin_end": 99853.965,
            "count": 0
           },
           {
            "bin_start": 99853.965,
            "bin_end": 119302.22799999999,
            "count": 0
           },
           {
            "bin_start": 119302.22799999999,
            "bin_end": 138750.49099999998,
            "count": 1
           },
           {
            "bin_start": 138750.49099999998,
            "bin_end": 158198.754,
            "count": 1
           },
           {
            "bin_start": 158198.754,
            "bin_end": 177647.017,
            "count": 0
           },
           {
            "bin_start": 177647.017,
            "bin_end": 197095.28,
            "count": 1
           }
          ]
         }
        },
        {
         "name": "application_date",
         "dtype": "object",
         "stats": {
          "unique_count": 5,
          "nan_count": 0,
          "categories": [
           {
            "name": "2019-06-19",
            "count": 1
           },
           {
            "name": "2018-02-22",
            "count": 1
           },
           {
            "name": "3 others",
            "count": 3
           }
          ]
         }
        },
        {
         "name": "exit_date",
         "dtype": "object",
         "stats": {
          "unique_count": 3,
          "nan_count": 2,
          "categories": [
           {
            "name": "2019-06-11",
            "count": 1
           },
           {
            "name": "2 others",
            "count": 2
           },
           {
            "name": "Missing",
            "count": 2
           }
          ]
         }
        },
        {
         "name": "birth_date",
         "dtype": "object",
         "stats": {
          "unique_count": 5,
          "nan_count": 0,
          "categories": [
           {
            "name": "1979-02-27",
            "count": 1
           },
           {
            "name": "1974-07-11",
            "count": 1
           },
           {
            "name": "3 others",
            "count": 3
           }
          ]
         }
        },
        {
         "name": "application_date_year",
         "dtype": "int64",
         "stats": {
          "unique_count": 2,
          "nan_count": 0,
          "min": "2018",
          "max": "2019",
          "histogram": [
           {
            "bin_start": 2018,
            "bin_end": 2018.1,
            "count": 4
           },
           {
            "bin_start": 2018.1,
            "bin_end": 2018.2,
            "count": 0
           },
           {
            "bin_start": 2018.2,
            "bin_end": 2018.3,
            "count": 0
           },
           {
            "bin_start": 2018.3,
            "bin_end": 2018.4,
            "count": 0
           },
           {
            "bin_start": 2018.4,
            "bin_end": 2018.5,
            "count": 0
           },
           {
            "bin_start": 2018.5,
            "bin_end": 2018.6,
            "count": 0
           },
           {
            "bin_start": 2018.6,
            "bin_end": 2018.7,
            "count": 0
           },
           {
            "bin_start": 2018.7,
            "bin_end": 2018.8,
            "count": 0
           },
           {
            "bin_start": 2018.8,
            "bin_end": 2018.9,
            "count": 0
           },
           {
            "bin_start": 2018.9,
            "bin_end": 2019,
            "count": 1
           }
          ]
         }
        },
        {
         "name": "application_date_month",
         "dtype": "int64",
         "stats": {
          "unique_count": 2,
          "nan_count": 0,
          "min": "2",
          "max": "6",
          "histogram": [
           {
            "bin_start": 2,
            "bin_end": 2.4,
            "count": 2
           },
           {
            "bin_start": 2.4,
            "bin_end": 2.8,
            "count": 0
           },
           {
            "bin_start": 2.8,
            "bin_end": 3.2,
            "count": 0
           },
           {
            "bin_start": 3.2,
            "bin_end": 3.6,
            "count": 0
           },
           {
            "bin_start": 3.6,
            "bin_end": 4,
            "count": 0
           },
           {
            "bin_start": 4,
            "bin_end": 4.4,
            "count": 0
           },
           {
            "bin_start": 4.4,
            "bin_end": 4.800000000000001,
            "count": 0
           },
           {
            "bin_start": 4.800000000000001,
            "bin_end": 5.2,
            "count": 0
           },
           {
            "bin_start": 5.2,
            "bin_end": 5.6,
            "count": 0
           },
           {
            "bin_start": 5.6,
            "bin_end": 6,
            "count": 3
           }
          ]
         }
        },
        {
         "name": "application_date_day",
         "dtype": "int64",
         "stats": {
          "unique_count": 5,
          "nan_count": 0,
          "min": "2",
          "max": "22",
          "histogram": [
           {
            "bin_start": 2,
            "bin_end": 4,
            "count": 1
           },
           {
            "bin_start": 4,
            "bin_end": 6,
            "count": 0
           },
           {
            "bin_start": 6,
            "bin_end": 8,
            "count": 1
           },
           {
            "bin_start": 8,
            "bin_end": 10,
            "count": 1
           },
           {
            "bin_start": 10,
            "bin_end": 12,
            "count": 0
           },
           {
            "bin_start": 12,
            "bin_end": 14,
            "count": 0
           },
           {
            "bin_start": 14,
            "bin_end": 16,
            "count": 0
           },
           {
            "bin_start": 16,
            "bin_end": 18,
            "count": 0
           },
           {
            "bin_start": 18,
            "bin_end": 20,
            "count": 1
           },
           {
            "bin_start": 20,
            "bin_end": 22,
            "count": 1
           }
          ]
         }
        },
        {
         "name": "exit_date_year",
         "dtype": "float64",
         "stats": {
          "unique_count": 1,
          "nan_count": 2,
          "min": "2019.0",
          "max": "2019.0",
          "histogram": [
           {
            "bin_start": 2018.5,
            "bin_end": 2018.6,
            "count": 0
           },
           {
            "bin_start": 2018.6,
            "bin_end": 2018.7,
            "count": 0
           },
           {
            "bin_start": 2018.7,
            "bin_end": 2018.8,
            "count": 0
           },
           {
            "bin_start": 2018.8,
            "bin_end": 2018.9,
            "count": 0
           },
           {
            "bin_start": 2018.9,
            "bin_end": 2019,
            "count": 0
           },
           {
            "bin_start": 2019,
            "bin_end": 2019.1,
            "count": 3
           },
           {
            "bin_start": 2019.1,
            "bin_end": 2019.2,
            "count": 0
           },
           {
            "bin_start": 2019.2,
            "bin_end": 2019.3,
            "count": 0
           },
           {
            "bin_start": 2019.3,
            "bin_end": 2019.4,
            "count": 0
           },
           {
            "bin_start": 2019.4,
            "bin_end": 2019.5,
            "count": 0
           }
          ]
         }
        },
        {
         "name": "exit_date_month",
         "dtype": "float64",
         "stats": {
          "unique_count": 1,
          "nan_count": 2,
          "min": "6.0",
          "max": "6.0",
          "histogram": [
           {
            "bin_start": 5.5,
            "bin_end": 5.6,
            "count": 0
           },
           {
            "bin_start": 5.6,
            "bin_end": 5.7,
            "count": 0
           },
           {
            "bin_start": 5.7,
            "bin_end": 5.8,
            "count": 0
           },
           {
            "bin_start": 5.8,
            "bin_end": 5.9,
            "count": 0
           },
           {
            "bin_start": 5.9,
            "bin_end": 6,
            "count": 0
           },
           {
            "bin_start": 6,
            "bin_end": 6.1,
            "count": 3
           },
           {
            "bin_start": 6.1,
            "bin_end": 6.2,
            "count": 0
           },
           {
            "bin_start": 6.2,
            "bin_end": 6.3,
            "count": 0
           },
           {
            "bin_start": 6.3,
            "bin_end": 6.4,
            "count": 0
           },
           {
            "bin_start": 6.4,
            "bin_end": 6.5,
            "count": 0
           }
          ]
         }
        },
        {
         "name": "exit_date_day",
         "dtype": "float64",
         "stats": {
          "unique_count": 3,
          "nan_count": 2,
          "min": "1.0",
          "max": "16.0",
          "histogram": [
           {
            "bin_start": 1,
            "bin_end": 2.5,
            "count": 1
           },
           {
            "bin_start": 2.5,
            "bin_end": 4,
            "count": 0
           },
           {
            "bin_start": 4,
            "bin_end": 5.5,
            "count": 0
           },
           {
            "bin_start": 5.5,
            "bin_end": 7,
            "count": 0
           },
           {
            "bin_start": 7,
            "bin_end": 8.5,
            "count": 0
           },
           {
            "bin_start": 8.5,
            "bin_end": 10,
            "count": 0
           },
           {
            "bin_start": 10,
            "bin_end": 11.5,
            "count": 1
           },
           {
            "bin_start": 11.5,
            "bin_end": 13,
            "count": 0
           },
           {
            "bin_start": 13,
            "bin_end": 14.5,
            "count": 0
           },
           {
            "bin_start": 14.5,
            "bin_end": 16,
            "count": 1
           }
          ]
         }
        },
        {
         "name": "birth_date_year",
         "dtype": "float64",
         "stats": {
          "unique_count": 5,
          "nan_count": 0,
          "min": "1972.0",
          "max": "1998.0",
          "histogram": [
           {
            "bin_start": 1972,
            "bin_end": 1974.6,
            "count": 2
           },
           {
            "bin_start": 1974.6,
            "bin_end": 1977.2,
            "count": 0
           },
           {
            "bin_start": 1977.2,
            "bin_end": 1979.8,
            "count": 1
           },
           {
            "bin_start": 1979.8,
            "bin_end": 1982.4,
            "count": 0
           },
           {
            "bin_start": 1982.4,
            "bin_end": 1985,
            "count": 0
           },
           {
            "bin_start": 1985,
            "bin_end": 1987.6,
            "count": 0
           },
           {
            "bin_start": 1987.6,
            "bin_end": 1990.2,
            "count": 0
           },
           {
            "bin_start": 1990.2,
            "bin_end": 1992.8,
            "count": 0
           },
           {
            "bin_start": 1992.8,
            "bin_end": 1995.4,
            "count": 1
           },
           {
            "bin_start": 1995.4,
            "bin_end": 1998,
            "count": 1
           }
          ]
         }
        },
        {
         "name": "birth_date_month",
         "dtype": "float64",
         "stats": {
          "unique_count": 4,
          "nan_count": 0,
          "min": "2.0",
          "max": "12.0",
          "histogram": [
           {
            "bin_start": 2,
            "bin_end": 3,
            "count": 1
           },
           {
            "bin_start": 3,
            "bin_end": 4,
            "count": 0
           },
           {
            "bin_start": 4,
            "bin_end": 5,
            "count": 0
           },
           {
            "bin_start": 5,
            "bin_end": 6,
            "count": 1
           },
           {
            "bin_start": 6,
            "bin_end": 7,
            "count": 0
           },
           {
            "bin_start": 7,
            "bin_end": 8,
            "count": 2
           },
           {
            "bin_start": 8,
            "bin_end": 9,
            "count": 0
           },
           {
            "bin_start": 9,
            "bin_end": 10,
            "count": 0
           },
           {
            "bin_start": 10,
            "bin_end": 11,
            "count": 0
           },
           {
            "bin_start": 11,
            "bin_end": 12,
            "count": 1
           }
          ]
         }
        },
        {
         "name": "birth_date_day",
         "dtype": "float64",
         "stats": {
          "unique_count": 4,
          "nan_count": 0,
          "min": "2.0",
          "max": "12.0",
          "histogram": [
           {
            "bin_start": 2,
            "bin_end": 3,
            "count": 1
           },
           {
            "bin_start": 3,
            "bin_end": 4,
            "count": 0
           },
           {
            "bin_start": 4,
            "bin_end": 5,
            "count": 0
           },
           {
            "bin_start": 5,
            "bin_end": 6,
            "count": 1
           },
           {
            "bin_start": 6,
            "bin_end": 7,
            "count": 0
           },
           {
            "bin_start": 7,
            "bin_end": 8,
            "count": 2
           },
           {
            "bin_start": 8,
            "bin_end": 9,
            "count": 0
           },
           {
            "bin_start": 9,
            "bin_end": 10,
            "count": 0
           },
           {
            "bin_start": 10,
            "bin_end": 11,
            "count": 0
           },
           {
            "bin_start": 11,
            "bin_end": 12,
            "count": 1
           }
          ]
         }
        },
        {
         "name": "ContractId",
         "dtype": "object",
         "stats": {
          "unique_count": 5,
          "nan_count": 0,
          "categories": [
           {
            "name": "WWlyRDX8AsGnWUPYiYGjidGKI",
            "count": 1
           },
           {
            "name": "orIBQM9pK7Z7AYBQok1jypK6t",
            "count": 1
           },
           {
            "name": "3 others",
            "count": 3
           }
          ]
         }
        },
        {
         "name": "Products",
         "dtype": "object",
         "stats": {
          "unique_count": 3,
          "nan_count": 0,
          "categories": [
           {
            "name": "Product B",
            "count": 2
           },
           {
            "name": "Product D",
            "count": 2
           },
           {
            "name": "Product A",
            "count": 1
           }
          ]
         }
        },
        {
         "name": "Date",
         "dtype": "object",
         "stats": {
          "unique_count": 3,
          "nan_count": 0,
          "categories": [
           {
            "name": "2018-02",
            "count": 2
           },
           {
            "name": "2018-06",
            "count": 2
           },
           {
            "name": "2019-06",
            "count": 1
           }
          ]
         }
        },
        {
         "name": "Score",
         "dtype": "int64",
         "stats": {
          "unique_count": 5,
          "nan_count": 0,
          "min": "487",
          "max": "706",
          "histogram": [
           {
            "bin_start": 487,
            "bin_end": 508.9,
            "count": 1
           },
           {
            "bin_start": 508.9,
            "bin_end": 530.8,
            "count": 0
           },
           {
            "bin_start": 530.8,
            "bin_end": 552.7,
            "count": 1
           },
           {
            "bin_start": 552.7,
            "bin_end": 574.6,
            "count": 0
           },
           {
            "bin_start": 574.6,
            "bin_end": 596.5,
            "count": 1
           },
           {
            "bin_start": 596.5,
            "bin_end": 618.4,
            "count": 0
           },
           {
            "bin_start": 618.4,
            "bin_end": 640.3,
            "count": 0
           },
           {
            "bin_start": 640.3,
            "bin_end": 662.2,
            "count": 0
           },
           {
            "bin_start": 662.2,
            "bin_end": 684.1,
            "count": 1
           },
           {
            "bin_start": 684.1,
            "bin_end": 706,
            "count": 1
           }
          ]
         }
        },
        {
         "name": "Value",
         "dtype": "float64",
         "stats": {
          "unique_count": 4,
          "nan_count": 0,
          "min": "0.0",
          "max": "119657.24",
          "histogram": [
           {
            "bin_start": 0,
            "bin_end": 11965.724,
            "count": 2
           },
           {
            "bin_start": 11965.724,
            "bin_end": 23931.448,
            "count": 0
           },
           {
            "bin_start": 23931.448,
            "bin_end": 35897.172,
            "count": 0
           },
           {
            "bin_start": 35897.172,
            "bin_end": 47862.896,
            "count": 1
           },
           {
            "bin_start": 47862.896,
            "bin_end": 59828.62,
            "count": 0
           },
           {
            "bin_start": 59828.62,
            "bin_end": 71794.344,
            "count": 0
           },
           {
            "bin_start": 71794.344,
            "bin_end": 83760.068,
            "count": 0
           },
           {
            "bin_start": 83760.068,
            "bin_end": 95725.792,
            "count": 1
           },
           {
            "bin_start": 95725.792,
            "bin_end": 107691.516,
            "count": 0
           },
           {
            "bin_start": 107691.516,
            "bin_end": 119657.24,
            "count": 1
           }
          ]
         }
        },
        {
         "name": "eligible",
         "dtype": "int64",
         "stats": {
          "unique_count": 1,
          "nan_count": 0,
          "min": "0",
          "max": "0",
          "histogram": [
           {
            "bin_start": -0.5,
            "bin_end": -0.4,
            "count": 0
           },
           {
            "bin_start": -0.4,
            "bin_end": -0.3,
            "count": 0
           },
           {
            "bin_start": -0.3,
            "bin_end": -0.19999999999999996,
            "count": 0
           },
           {
            "bin_start": -0.19999999999999996,
            "bin_end": -0.09999999999999998,
            "count": 0
           },
           {
            "bin_start": -0.09999999999999998,
            "bin_end": 0,
            "count": 0
           },
           {
            "bin_start": 0,
            "bin_end": 0.10000000000000009,
            "count": 5
           },
           {
            "bin_start": 0.10000000000000009,
            "bin_end": 0.20000000000000007,
            "count": 0
           },
           {
            "bin_start": 0.20000000000000007,
            "bin_end": 0.30000000000000004,
            "count": 0
           },
           {
            "bin_start": 0.30000000000000004,
            "bin_end": 0.4,
            "count": 0
           },
           {
            "bin_start": 0.4,
            "bin_end": 0.5,
            "count": 0
           }
          ]
         }
        },
        {
         "name": "client_age",
         "dtype": "int64",
         "stats": {
          "unique_count": 5,
          "nan_count": 0,
          "min": "20",
          "max": "45",
          "histogram": [
           {
            "bin_start": 20,
            "bin_end": 22.5,
            "count": 1
           },
           {
            "bin_start": 22.5,
            "bin_end": 25,
            "count": 1
           },
           {
            "bin_start": 25,
            "bin_end": 27.5,
            "count": 0
           },
           {
            "bin_start": 27.5,
            "bin_end": 30,
            "count": 0
           },
           {
            "bin_start": 30,
            "bin_end": 32.5,
            "count": 0
           },
           {
            "bin_start": 32.5,
            "bin_end": 35,
            "count": 0
           },
           {
            "bin_start": 35,
            "bin_end": 37.5,
            "count": 0
           },
           {
            "bin_start": 37.5,
            "bin_end": 40,
            "count": 0
           },
           {
            "bin_start": 40,
            "bin_end": 42.5,
            "count": 1
           },
           {
            "bin_start": 42.5,
            "bin_end": 45,
            "count": 2
           }
          ]
         }
        },
        {
         "name": "_deepnote_index_column",
         "dtype": "int64"
        }
       ],
       "rows": [
        {
         "CustomerId": 14648573,
         "Surname": "NALLS",
         "Geography": "Spain",
         "Gender": "Male",
         "HasCrCard": 1,
         "IsActiveMember": 0,
         "EstimatedSalary": 140827.98,
         "application_date": "2019-06-19",
         "exit_date": "nan",
         "birth_date": "1979-02-27",
         "application_date_year": 2019,
         "application_date_month": 6,
         "application_date_day": 19,
         "exit_date_year": "nan",
         "exit_date_month": "nan",
         "exit_date_day": "nan",
         "birth_date_year": 1979,
         "birth_date_month": 2,
         "birth_date_day": 2,
         "ContractId": "WWlyRDX8AsGnWUPYiYGjidGKI",
         "Products": "Product B",
         "Date": "2019-06",
         "Score": 683,
         "Value": 0,
         "eligible": 0,
         "client_age": 40,
         "_deepnote_index_column": 0
        },
        {
         "CustomerId": 15165393,
         "Surname": "LABIANCA",
         "Geography": "Spain",
         "Gender": "Male",
         "HasCrCard": 1,
         "IsActiveMember": 1,
         "EstimatedSalary": 2612.65,
         "application_date": "2018-02-22",
         "exit_date": "2019-06-11",
         "birth_date": "1974-07-11",
         "application_date_year": 2018,
         "application_date_month": 2,
         "application_date_day": 22,
         "exit_date_year": 2019,
         "exit_date_month": 6,
         "exit_date_day": 11,
         "birth_date_year": 1974,
         "birth_date_month": 7,
         "birth_date_day": 7,
         "ContractId": "orIBQM9pK7Z7AYBQok1jypK6t",
         "Products": "Product D",
         "Date": "2018-02",
         "Score": 487,
         "Value": 119657.24,
         "eligible": 0,
         "client_age": 43,
         "_deepnote_index_column": 1
        },
        {
         "CustomerId": 15982728,
         "Surname": "GOUDEAU",
         "Geography": "France",
         "Gender": "Male",
         "HasCrCard": 0,
         "IsActiveMember": 1,
         "EstimatedSalary": 66465.09,
         "application_date": "2018-02-02",
         "exit_date": "2019-06-01",
         "birth_date": "1972-12-18",
         "application_date_year": 2018,
         "application_date_month": 2,
         "application_date_day": 2,
         "exit_date_year": 2019,
         "exit_date_month": 6,
         "exit_date_day": 1,
         "birth_date_year": 1972,
         "birth_date_month": 12,
         "birth_date_day": 12,
         "ContractId": "sdnOZ3fBpu1sKsYrZJE9tfcRP",
         "Products": "Product B",
         "Date": "2018-02",
         "Score": 595,
         "Value": 43353.5,
         "eligible": 0,
         "client_age": 45,
         "_deepnote_index_column": 3
        },
        {
         "CustomerId": 15434700,
         "Surname": "STIMMELL",
         "Geography": "Germany",
         "Gender": "Male",
         "HasCrCard": 1,
         "IsActiveMember": 0,
         "EstimatedSalary": 138615.32,
         "application_date": "2018-06-06",
         "exit_date": "nan",
         "birth_date": "1994-07-22",
         "application_date_year": 2018,
         "application_date_month": 6,
         "application_date_day": 6,
         "exit_date_year": "nan",
         "exit_date_month": "nan",
         "exit_date_day": "nan",
         "birth_date_year": 1994,
         "birth_date_month": 7,
         "birth_date_day": 7,
         "ContractId": "dF2Z2DZoUYMmf0ST8keQjvKQL",
         "Products": "Product A",
         "Date": "2018-06",
         "Score": 706,
         "Value": 92357.9,
         "eligible": 0,
         "client_age": 23,
         "_deepnote_index_column": 4
        },
        {
         "CustomerId": 15898769,
         "Surname": "ALCOCK",
         "Geography": "Germany",
         "Gender": "Female",
         "HasCrCard": 0,
         "IsActiveMember": 0,
         "EstimatedSalary": 197095.28,
         "application_date": "2018-06-09",
         "exit_date": "2019-06-16",
         "birth_date": "1998-05-14",
         "application_date_year": 2018,
         "application_date_month": 6,
         "application_date_day": 9,
         "exit_date_year": 2019,
         "exit_date_month": 6,
         "exit_date_day": 16,
         "birth_date_year": 1998,
         "birth_date_month": 5,
         "birth_date_day": 5,
         "ContractId": "gfCNu3alAqn2HgWKamcXqOaij",
         "Products": "Product D",
         "Date": "2018-06",
         "Score": 532,
         "Value": 0,
         "eligible": 0,
         "client_age": 20,
         "_deepnote_index_column": 5
        }
       ]
      },
      "text/plain": "   CustomerId   Surname Geography  Gender  HasCrCard  IsActiveMember  \\\n0    14648573     NALLS     Spain    Male        1.0             0.0   \n1    15165393  LABIANCA     Spain    Male        1.0             1.0   \n3    15982728   GOUDEAU    France    Male        0.0             1.0   \n4    15434700  STIMMELL   Germany    Male        1.0             0.0   \n5    15898769    ALCOCK   Germany  Female        0.0             0.0   \n\n   EstimatedSalary application_date   exit_date  birth_date  ...  \\\n0        140827.98       2019-06-19         NaN  1979-02-27  ...   \n1          2612.65       2018-02-22  2019-06-11  1974-07-11  ...   \n3         66465.09       2018-02-02  2019-06-01  1972-12-18  ...   \n4        138615.32       2018-06-06         NaN  1994-07-22  ...   \n5        197095.28       2018-06-09  2019-06-16  1998-05-14  ...   \n\n   birth_date_year  birth_date_month  birth_date_day  \\\n0           1979.0               2.0             2.0   \n1           1974.0               7.0             7.0   \n3           1972.0              12.0            12.0   \n4           1994.0               7.0             7.0   \n5           1998.0               5.0             5.0   \n\n                  ContractId   Products     Date  Score      Value  eligible  \\\n0  WWlyRDX8AsGnWUPYiYGjidGKI  Product B  2019-06    683       0.00         0   \n1  orIBQM9pK7Z7AYBQok1jypK6t  Product D  2018-02    487  119657.24         0   \n3  sdnOZ3fBpu1sKsYrZJE9tfcRP  Product B  2018-02    595   43353.50         0   \n4  dF2Z2DZoUYMmf0ST8keQjvKQL  Product A  2018-06    706   92357.90         0   \n5  gfCNu3alAqn2HgWKamcXqOaij  Product D  2018-06    532       0.00         0   \n\n  client_age  \n0         40  \n1         43  \n3         45  \n4         23  \n5         20  \n\n[5 rows x 26 columns]",
      "text/html": "<div>\n<style scoped>\n    .dataframe tbody tr th:only-of-type {\n        vertical-align: middle;\n    }\n\n    .dataframe tbody tr th {\n        vertical-align: top;\n    }\n\n    .dataframe thead th {\n        text-align: right;\n    }\n</style>\n<table border=\"1\" class=\"dataframe\">\n  <thead>\n    <tr style=\"text-align: right;\">\n      <th></th>\n      <th>CustomerId</th>\n      <th>Surname</th>\n      <th>Geography</th>\n      <th>Gender</th>\n      <th>HasCrCard</th>\n      <th>IsActiveMember</th>\n      <th>EstimatedSalary</th>\n      <th>application_date</th>\n      <th>exit_date</th>\n      <th>birth_date</th>\n      <th>...</th>\n      <th>birth_date_year</th>\n      <th>birth_date_month</th>\n      <th>birth_date_day</th>\n      <th>ContractId</th>\n      <th>Products</th>\n      <th>Date</th>\n      <th>Score</th>\n      <th>Value</th>\n      <th>eligible</th>\n      <th>client_age</th>\n    </tr>\n  </thead>\n  <tbody>\n    <tr>\n      <th>0</th>\n      <td>14648573</td>\n      <td>NALLS</td>\n      <td>Spain</td>\n      <td>Male</td>\n      <td>1.0</td>\n      <td>0.0</td>\n      <td>140827.98</td>\n      <td>2019-06-19</td>\n      <td>NaN</td>\n      <td>1979-02-27</td>\n      <td>...</td>\n      <td>1979.0</td>\n      <td>2.0</td>\n      <td>2.0</td>\n      <td>WWlyRDX8AsGnWUPYiYGjidGKI</td>\n      <td>Product B</td>\n      <td>2019-06</td>\n      <td>683</td>\n      <td>0.00</td>\n      <td>0</td>\n      <td>40</td>\n    </tr>\n    <tr>\n      <th>1</th>\n      <td>15165393</td>\n      <td>LABIANCA</td>\n      <td>Spain</td>\n      <td>Male</td>\n      <td>1.0</td>\n      <td>1.0</td>\n      <td>2612.65</td>\n      <td>2018-02-22</td>\n      <td>2019-06-11</td>\n      <td>1974-07-11</td>\n      <td>...</td>\n      <td>1974.0</td>\n      <td>7.0</td>\n      <td>7.0</td>\n      <td>orIBQM9pK7Z7AYBQok1jypK6t</td>\n      <td>Product D</td>\n      <td>2018-02</td>\n      <td>487</td>\n      <td>119657.24</td>\n      <td>0</td>\n      <td>43</td>\n    </tr>\n    <tr>\n      <th>3</th>\n      <td>15982728</td>\n      <td>GOUDEAU</td>\n      <td>France</td>\n      <td>Male</td>\n      <td>0.0</td>\n      <td>1.0</td>\n      <td>66465.09</td>\n      <td>2018-02-02</td>\n      <td>2019-06-01</td>\n      <td>1972-12-18</td>\n      <td>...</td>\n      <td>1972.0</td>\n      <td>12.0</td>\n      <td>12.0</td>\n      <td>sdnOZ3fBpu1sKsYrZJE9tfcRP</td>\n      <td>Product B</td>\n      <td>2018-02</td>\n      <td>595</td>\n      <td>43353.50</td>\n      <td>0</td>\n      <td>45</td>\n    </tr>\n    <tr>\n      <th>4</th>\n      <td>15434700</td>\n      <td>STIMMELL</td>\n      <td>Germany</td>\n      <td>Male</td>\n      <td>1.0</td>\n      <td>0.0</td>\n      <td>138615.32</td>\n      <td>2018-06-06</td>\n      <td>NaN</td>\n      <td>1994-07-22</td>\n      <td>...</td>\n      <td>1994.0</td>\n      <td>7.0</td>\n      <td>7.0</td>\n      <td>dF2Z2DZoUYMmf0ST8keQjvKQL</td>\n      <td>Product A</td>\n      <td>2018-06</td>\n      <td>706</td>\n      <td>92357.90</td>\n      <td>0</td>\n      <td>23</td>\n    </tr>\n    <tr>\n      <th>5</th>\n      <td>15898769</td>\n      <td>ALCOCK</td>\n      <td>Germany</td>\n      <td>Female</td>\n      <td>0.0</td>\n      <td>0.0</td>\n      <td>197095.28</td>\n      <td>2018-06-09</td>\n      <td>2019-06-16</td>\n      <td>1998-05-14</td>\n      <td>...</td>\n      <td>1998.0</td>\n      <td>5.0</td>\n      <td>5.0</td>\n      <td>gfCNu3alAqn2HgWKamcXqOaij</td>\n      <td>Product D</td>\n      <td>2018-06</td>\n      <td>532</td>\n      <td>0.00</td>\n      <td>0</td>\n      <td>20</td>\n    </tr>\n  </tbody>\n</table>\n<p>5 rows × 26 columns</p>\n</div>"
     },
     "metadata": {}
    }
   ]
  },
  {
   "cell_type": "code",
   "metadata": {
    "cell_id": "b4392250-f3ab-4db1-990d-2a635629be21",
    "tags": [],
    "deepnote_to_be_reexecuted": false,
    "source_hash": "52430027",
    "execution_start": 1644022421434,
    "execution_millis": 8,
    "deepnote_output_heights": [
     520.203125
    ],
    "deepnote_cell_type": "code"
   },
   "source": "df.dtypes",
   "execution_count": 6,
   "outputs": [
    {
     "output_type": "execute_result",
     "execution_count": 6,
     "data": {
      "text/plain": "CustomerId                  int64\nSurname                    object\nGeography                  object\nGender                     object\nHasCrCard                 float64\nIsActiveMember            float64\nEstimatedSalary           float64\napplication_date           object\nexit_date                  object\nbirth_date                 object\napplication_date_year       int64\napplication_date_month      int64\napplication_date_day        int64\nexit_date_year            float64\nexit_date_month           float64\nexit_date_day             float64\nbirth_date_year           float64\nbirth_date_month          float64\nbirth_date_day            float64\nContractId                 object\nProducts                   object\nDate                       object\nScore                       int64\nValue                     float64\neligible                    int64\nclient_age                  int64\ndtype: object"
     },
     "metadata": {}
    }
   ]
  },
  {
   "cell_type": "code",
   "metadata": {
    "cell_id": "7f16af2c-9626-4ee8-a9a2-4b23fe8e528c",
    "tags": [],
    "deepnote_to_be_reexecuted": false,
    "source_hash": "817d440e",
    "execution_start": 1644022426619,
    "execution_millis": 81,
    "deepnote_output_heights": [
     232.3125
    ],
    "deepnote_cell_type": "code"
   },
   "source": "#Transforming datetimes\ndf['application_date'] = pd.to_datetime(df['application_date'])\ndf['exit_date'] = pd.to_datetime(df['exit_date'])\ndf['birth_date'] = pd.to_datetime(df['birth_date'])",
   "execution_count": 7,
   "outputs": []
  },
  {
   "cell_type": "code",
   "metadata": {
    "cell_id": "d7a14e1a-179d-4012-abab-440d4333633b",
    "tags": [],
    "deepnote_to_be_reexecuted": false,
    "source_hash": "5d514141",
    "execution_start": 1644022432008,
    "execution_millis": 340,
    "deepnote_cell_type": "code"
   },
   "source": "#First summary stats\ndf.describe()",
   "execution_count": 8,
   "outputs": [
    {
     "output_type": "execute_result",
     "execution_count": 8,
     "data": {
      "application/vnd.deepnote.dataframe.v3+json": {
       "column_count": 17,
       "row_count": 8,
       "columns": [
        {
         "name": "CustomerId",
         "dtype": "float64",
         "stats": {
          "unique_count": 8,
          "nan_count": 0,
          "min": "115459.0",
          "max": "15999966.0",
          "histogram": [
           {
            "bin_start": 115459,
            "bin_end": 1703909.7,
            "count": 2
           },
           {
            "bin_start": 1703909.7,
            "bin_end": 3292360.4,
            "count": 0
           },
           {
            "bin_start": 3292360.4,
            "bin_end": 4880811.1,
            "count": 0
           },
           {
            "bin_start": 4880811.1,
            "bin_end": 6469261.8,
            "count": 0
           },
           {
            "bin_start": 6469261.8,
            "bin_end": 8057712.5,
            "count": 0
           },
           {
            "bin_start": 8057712.5,
            "bin_end": 9646163.2,
            "count": 0
           },
           {
            "bin_start": 9646163.2,
            "bin_end": 11234613.9,
            "count": 0
           },
           {
            "bin_start": 11234613.9,
            "bin_end": 12823064.6,
            "count": 0
           },
           {
            "bin_start": 12823064.6,
            "bin_end": 14411515.299999999,
            "count": 0
           },
           {
            "bin_start": 14411515.299999999,
            "bin_end": 15999966,
            "count": 6
           }
          ]
         }
        },
        {
         "name": "HasCrCard",
         "dtype": "float64",
         "stats": {
          "unique_count": 5,
          "nan_count": 0,
          "min": "0.0",
          "max": "115459.0",
          "histogram": [
           {
            "bin_start": 0,
            "bin_end": 11545.9,
            "count": 7
           },
           {
            "bin_start": 11545.9,
            "bin_end": 23091.8,
            "count": 0
           },
           {
            "bin_start": 23091.8,
            "bin_end": 34637.7,
            "count": 0
           },
           {
            "bin_start": 34637.7,
            "bin_end": 46183.6,
            "count": 0
           },
           {
            "bin_start": 46183.6,
            "bin_end": 57729.5,
            "count": 0
           },
           {
            "bin_start": 57729.5,
            "bin_end": 69275.4,
            "count": 0
           },
           {
            "bin_start": 69275.4,
            "bin_end": 80821.3,
            "count": 0
           },
           {
            "bin_start": 80821.3,
            "bin_end": 92367.2,
            "count": 0
           },
           {
            "bin_start": 92367.2,
            "bin_end": 103913.09999999999,
            "count": 0
           },
           {
            "bin_start": 103913.09999999999,
            "bin_end": 115459,
            "count": 1
           }
          ]
         }
        },
        {
         "name": "IsActiveMember",
         "dtype": "float64",
         "stats": {
          "unique_count": 5,
          "nan_count": 0,
          "min": "0.0",
          "max": "115459.0",
          "histogram": [
           {
            "bin_start": 0,
            "bin_end": 11545.9,
            "count": 7
           },
           {
            "bin_start": 11545.9,
            "bin_end": 23091.8,
            "count": 0
           },
           {
            "bin_start": 23091.8,
            "bin_end": 34637.7,
            "count": 0
           },
           {
            "bin_start": 34637.7,
            "bin_end": 46183.6,
            "count": 0
           },
           {
            "bin_start": 46183.6,
            "bin_end": 57729.5,
            "count": 0
           },
           {
            "bin_start": 57729.5,
            "bin_end": 69275.4,
            "count": 0
           },
           {
            "bin_start": 69275.4,
            "bin_end": 80821.3,
            "count": 0
           },
           {
            "bin_start": 80821.3,
            "bin_end": 92367.2,
            "count": 0
           },
           {
            "bin_start": 92367.2,
            "bin_end": 103913.09999999999,
            "count": 0
           },
           {
            "bin_start": 103913.09999999999,
            "bin_end": 115459,
            "count": 1
           }
          ]
         }
        },
        {
         "name": "EstimatedSalary",
         "dtype": "float64",
         "stats": {
          "unique_count": 8,
          "nan_count": 0,
          "min": "0.0",
          "max": "349079.68",
          "histogram": [
           {
            "bin_start": 0,
            "bin_end": 34907.968,
            "count": 1
           },
           {
            "bin_start": 34907.968,
            "bin_end": 69815.936,
            "count": 2
           },
           {
            "bin_start": 69815.936,
            "bin_end": 104723.90400000001,
            "count": 2
           },
           {
            "bin_start": 104723.90400000001,
            "bin_end": 139631.872,
            "count": 2
           },
           {
            "bin_start": 139631.872,
            "bin_end": 174539.84,
            "count": 0
           },
           {
            "bin_start": 174539.84,
            "bin_end": 209447.80800000002,
            "count": 0
           },
           {
            "bin_start": 209447.80800000002,
            "bin_end": 244355.776,
            "count": 0
           },
           {
            "bin_start": 244355.776,
            "bin_end": 279263.744,
            "count": 0
           },
           {
            "bin_start": 279263.744,
            "bin_end": 314171.712,
            "count": 0
           },
           {
            "bin_start": 314171.712,
            "bin_end": 349079.68,
            "count": 1
           }
          ]
         }
        },
        {
         "name": "application_date_year",
         "dtype": "float64",
         "stats": {
          "unique_count": 6,
          "nan_count": 0,
          "min": "0.7730761246759131",
          "max": "115459.0",
          "histogram": [
           {
            "bin_start": 0.7730761246759131,
            "bin_end": 11546.595768512208,
            "count": 7
           },
           {
            "bin_start": 11546.595768512208,
            "bin_end": 23092.41846089974,
            "count": 0
           },
           {
            "bin_start": 23092.41846089974,
            "bin_end": 34638.24115328727,
            "count": 0
           },
           {
            "bin_start": 34638.24115328727,
            "bin_end": 46184.063845674806,
            "count": 0
           },
           {
            "bin_start": 46184.063845674806,
            "bin_end": 57729.88653806234,
            "count": 0
           },
           {
            "bin_start": 57729.88653806234,
            "bin_end": 69275.70923044987,
            "count": 0
           },
           {
            "bin_start": 69275.70923044987,
            "bin_end": 80821.5319228374,
            "count": 0
           },
           {
            "bin_start": 80821.5319228374,
            "bin_end": 92367.35461522493,
            "count": 0
           },
           {
            "bin_start": 92367.35461522493,
            "bin_end": 103913.17730761247,
            "count": 0
           },
           {
            "bin_start": 103913.17730761247,
            "bin_end": 115459,
            "count": 1
           }
          ]
         }
        },
        {
         "name": "application_date_month",
         "dtype": "float64",
         "stats": {
          "unique_count": 8,
          "nan_count": 0,
          "min": "1.0",
          "max": "115459.0",
          "histogram": [
           {
            "bin_start": 1,
            "bin_end": 11546.8,
            "count": 7
           },
           {
            "bin_start": 11546.8,
            "bin_end": 23092.6,
            "count": 0
           },
           {
            "bin_start": 23092.6,
            "bin_end": 34638.399999999994,
            "count": 0
           },
           {
            "bin_start": 34638.399999999994,
            "bin_end": 46184.2,
            "count": 0
           },
           {
            "bin_start": 46184.2,
            "bin_end": 57730,
            "count": 0
           },
           {
            "bin_start": 57730,
            "bin_end": 69275.79999999999,
            "count": 0
           },
           {
            "bin_start": 69275.79999999999,
            "bin_end": 80821.59999999999,
            "count": 0
           },
           {
            "bin_start": 80821.59999999999,
            "bin_end": 92367.4,
            "count": 0
           },
           {
            "bin_start": 92367.4,
            "bin_end": 103913.2,
            "count": 0
           },
           {
            "bin_start": 103913.2,
            "bin_end": 115459,
            "count": 1
           }
          ]
         }
        },
        {
         "name": "application_date_day",
         "dtype": "float64",
         "stats": {
          "unique_count": 8,
          "nan_count": 0,
          "min": "1.0",
          "max": "115459.0",
          "histogram": [
           {
            "bin_start": 1,
            "bin_end": 11546.8,
            "count": 7
           },
           {
            "bin_start": 11546.8,
            "bin_end": 23092.6,
            "count": 0
           },
           {
            "bin_start": 23092.6,
            "bin_end": 34638.399999999994,
            "count": 0
           },
           {
            "bin_start": 34638.399999999994,
            "bin_end": 46184.2,
            "count": 0
           },
           {
            "bin_start": 46184.2,
            "bin_end": 57730,
            "count": 0
           },
           {
            "bin_start": 57730,
            "bin_end": 69275.79999999999,
            "count": 0
           },
           {
            "bin_start": 69275.79999999999,
            "bin_end": 80821.59999999999,
            "count": 0
           },
           {
            "bin_start": 80821.59999999999,
            "bin_end": 92367.4,
            "count": 0
           },
           {
            "bin_start": 92367.4,
            "bin_end": 103913.2,
            "count": 0
           },
           {
            "bin_start": 103913.2,
            "bin_end": 115459,
            "count": 1
           }
          ]
         }
        },
        {
         "name": "exit_date_year",
         "dtype": "float64",
         "stats": {
          "unique_count": 6,
          "nan_count": 0,
          "min": "0.6420210399864456",
          "max": "26340.0",
          "histogram": [
           {
            "bin_start": 0.6420210399864456,
            "bin_end": 2634.577818935988,
            "count": 7
           },
           {
            "bin_start": 2634.577818935988,
            "bin_end": 5268.51361683199,
            "count": 0
           },
           {
            "bin_start": 5268.51361683199,
            "bin_end": 7902.449414727991,
            "count": 0
           },
           {
            "bin_start": 7902.449414727991,
            "bin_end": 10536.385212623993,
            "count": 0
           },
           {
            "bin_start": 10536.385212623993,
            "bin_end": 13170.321010519994,
            "count": 0
           },
           {
            "bin_start": 13170.321010519994,
            "bin_end": 15804.256808415996,
            "count": 0
           },
           {
            "bin_start": 15804.256808415996,
            "bin_end": 18438.192606311994,
            "count": 0
           },
           {
            "bin_start": 18438.192606311994,
            "bin_end": 21072.128404207997,
            "count": 0
           },
           {
            "bin_start": 21072.128404207997,
            "bin_end": 23706.064202104,
            "count": 0
           },
           {
            "bin_start": 23706.064202104,
            "bin_end": 26340,
            "count": 1
           }
          ]
         }
        },
        {
         "name": "exit_date_month",
         "dtype": "float64",
         "stats": {
          "unique_count": 8,
          "nan_count": 0,
          "min": "1.0",
          "max": "26340.0",
          "histogram": [
           {
            "bin_start": 1,
            "bin_end": 2634.9,
            "count": 7
           },
           {
            "bin_start": 2634.9,
            "bin_end": 5268.8,
            "count": 0
           },
           {
            "bin_start": 5268.8,
            "bin_end": 7902.700000000001,
            "count": 0
           },
           {
            "bin_start": 7902.700000000001,
            "bin_end": 10536.6,
            "count": 0
           },
           {
            "bin_start": 10536.6,
            "bin_end": 13170.5,
            "count": 0
           },
           {
            "bin_start": 13170.5,
            "bin_end": 15804.400000000001,
            "count": 0
           },
           {
            "bin_start": 15804.400000000001,
            "bin_end": 18438.3,
            "count": 0
           },
           {
            "bin_start": 18438.3,
            "bin_end": 21072.2,
            "count": 0
           },
           {
            "bin_start": 21072.2,
            "bin_end": 23706.100000000002,
            "count": 0
           },
           {
            "bin_start": 23706.100000000002,
            "bin_end": 26340,
            "count": 1
           }
          ]
         }
        },
        {
         "name": "exit_date_day",
         "dtype": "float64",
         "stats": {
          "unique_count": 8,
          "nan_count": 0,
          "min": "1.0",
          "max": "26340.0",
          "histogram": [
           {
            "bin_start": 1,
            "bin_end": 2634.9,
            "count": 7
           },
           {
            "bin_start": 2634.9,
            "bin_end": 5268.8,
            "count": 0
           },
           {
            "bin_start": 5268.8,
            "bin_end": 7902.700000000001,
            "count": 0
           },
           {
            "bin_start": 7902.700000000001,
            "bin_end": 10536.6,
            "count": 0
           },
           {
            "bin_start": 10536.6,
            "bin_end": 13170.5,
            "count": 0
           },
           {
            "bin_start": 13170.5,
            "bin_end": 15804.400000000001,
            "count": 0
           },
           {
            "bin_start": 15804.400000000001,
            "bin_end": 18438.3,
            "count": 0
           },
           {
            "bin_start": 18438.3,
            "bin_end": 21072.2,
            "count": 0
           },
           {
            "bin_start": 21072.2,
            "bin_end": 23706.100000000002,
            "count": 0
           },
           {
            "bin_start": 23706.100000000002,
            "bin_end": 26340,
            "count": 1
           }
          ]
         }
        },
        {
         "name": "birth_date_year",
         "dtype": "float64",
         "stats": {
          "unique_count": 8,
          "nan_count": 0,
          "min": "10.289856391139873",
          "max": "115459.0",
          "histogram": [
           {
            "bin_start": 10.289856391139873,
            "bin_end": 11555.160870752026,
            "count": 7
           },
           {
            "bin_start": 11555.160870752026,
            "bin_end": 23100.031885112912,
            "count": 0
           },
           {
            "bin_start": 23100.031885112912,
            "bin_end": 34644.9028994738,
            "count": 0
           },
           {
            "bin_start": 34644.9028994738,
            "bin_end": 46189.77391383468,
            "count": 0
           },
           {
            "bin_start": 46189.77391383468,
            "bin_end": 57734.644928195565,
            "count": 0
           },
           {
            "bin_start": 57734.644928195565,
            "bin_end": 69279.51594255646,
            "count": 0
           },
           {
            "bin_start": 69279.51594255646,
            "bin_end": 80824.38695691734,
            "count": 0
           },
           {
            "bin_start": 80824.38695691734,
            "bin_end": 92369.25797127823,
            "count": 0
           },
           {
            "bin_start": 92369.25797127823,
            "bin_end": 103914.12898563912,
            "count": 0
           },
           {
            "bin_start": 103914.12898563912,
            "bin_end": 115459,
            "count": 1
           }
          ]
         }
        },
        {
         "name": "birth_date_month",
         "dtype": "float64",
         "stats": {
          "unique_count": 8,
          "nan_count": 0,
          "min": "1.0",
          "max": "115459.0",
          "histogram": [
           {
            "bin_start": 1,
            "bin_end": 11546.8,
            "count": 7
           },
           {
            "bin_start": 11546.8,
            "bin_end": 23092.6,
            "count": 0
           },
           {
            "bin_start": 23092.6,
            "bin_end": 34638.399999999994,
            "count": 0
           },
           {
            "bin_start": 34638.399999999994,
            "bin_end": 46184.2,
            "count": 0
           },
           {
            "bin_start": 46184.2,
            "bin_end": 57730,
            "count": 0
           },
           {
            "bin_start": 57730,
            "bin_end": 69275.79999999999,
            "count": 0
           },
           {
            "bin_start": 69275.79999999999,
            "bin_end": 80821.59999999999,
            "count": 0
           },
           {
            "bin_start": 80821.59999999999,
            "bin_end": 92367.4,
            "count": 0
           },
           {
            "bin_start": 92367.4,
            "bin_end": 103913.2,
            "count": 0
           },
           {
            "bin_start": 103913.2,
            "bin_end": 115459,
            "count": 1
           }
          ]
         }
        },
        {
         "name": "birth_date_day",
         "dtype": "float64",
         "stats": {
          "unique_count": 8,
          "nan_count": 0,
          "min": "1.0",
          "max": "115459.0",
          "histogram": [
           {
            "bin_start": 1,
            "bin_end": 11546.8,
            "count": 7
           },
           {
            "bin_start": 11546.8,
            "bin_end": 23092.6,
            "count": 0
           },
           {
            "bin_start": 23092.6,
            "bin_end": 34638.399999999994,
            "count": 0
           },
           {
            "bin_start": 34638.399999999994,
            "bin_end": 46184.2,
            "count": 0
           },
           {
            "bin_start": 46184.2,
            "bin_end": 57730,
            "count": 0
           },
           {
            "bin_start": 57730,
            "bin_end": 69275.79999999999,
            "count": 0
           },
           {
            "bin_start": 69275.79999999999,
            "bin_end": 80821.59999999999,
            "count": 0
           },
           {
            "bin_start": 80821.59999999999,
            "bin_end": 92367.4,
            "count": 0
           },
           {
            "bin_start": 92367.4,
            "bin_end": 103913.2,
            "count": 0
           },
           {
            "bin_start": 103913.2,
            "bin_end": 115459,
            "count": 1
           }
          ]
         }
        },
        {
         "name": "Score",
         "dtype": "float64",
         "stats": {
          "unique_count": 8,
          "nan_count": 0,
          "min": "96.49568790451337",
          "max": "115459.0",
          "histogram": [
           {
            "bin_start": 96.49568790451337,
            "bin_end": 11632.746119114061,
            "count": 7
           },
           {
            "bin_start": 11632.746119114061,
            "bin_end": 23168.99655032361,
            "count": 0
           },
           {
            "bin_start": 23168.99655032361,
            "bin_end": 34705.24698153316,
            "count": 0
           },
           {
            "bin_start": 34705.24698153316,
            "bin_end": 46241.497412742705,
            "count": 0
           },
           {
            "bin_start": 46241.497412742705,
            "bin_end": 57777.74784395225,
            "count": 0
           },
           {
            "bin_start": 57777.74784395225,
            "bin_end": 69313.99827516181,
            "count": 0
           },
           {
            "bin_start": 69313.99827516181,
            "bin_end": 80850.24870637136,
            "count": 0
           },
           {
            "bin_start": 80850.24870637136,
            "bin_end": 92386.4991375809,
            "count": 0
           },
           {
            "bin_start": 92386.4991375809,
            "bin_end": 103922.74956879044,
            "count": 0
           },
           {
            "bin_start": 103922.74956879044,
            "bin_end": 115459,
            "count": 1
           }
          ]
         }
        },
        {
         "name": "Value",
         "dtype": "float64",
         "stats": {
          "unique_count": 8,
          "nan_count": 0,
          "min": "-1.8189894035458565e-12",
          "max": "374633.66",
          "histogram": [
           {
            "bin_start": -1.8189894035458565e-12,
            "bin_end": 37463.365999999995,
            "count": 2
           },
           {
            "bin_start": 37463.365999999995,
            "bin_end": 74926.73199999999,
            "count": 1
           },
           {
            "bin_start": 74926.73199999999,
            "bin_end": 112390.09799999998,
            "count": 2
           },
           {
            "bin_start": 112390.09799999998,
            "bin_end": 149853.46399999998,
            "count": 2
           },
           {
            "bin_start": 149853.46399999998,
            "bin_end": 187316.82999999996,
            "count": 0
           },
           {
            "bin_start": 187316.82999999996,
            "bin_end": 224780.19599999997,
            "count": 0
           },
           {
            "bin_start": 224780.19599999997,
            "bin_end": 262243.562,
            "count": 0
           },
           {
            "bin_start": 262243.562,
            "bin_end": 299706.92799999996,
            "count": 0
           },
           {
            "bin_start": 299706.92799999996,
            "bin_end": 337170.29399999994,
            "count": 0
           },
           {
            "bin_start": 337170.29399999994,
            "bin_end": 374633.66,
            "count": 1
           }
          ]
         }
        },
        {
         "name": "eligible",
         "dtype": "float64",
         "stats": {
          "unique_count": 5,
          "nan_count": 0,
          "min": "0.0",
          "max": "115459.0",
          "histogram": [
           {
            "bin_start": 0,
            "bin_end": 11545.9,
            "count": 7
           },
           {
            "bin_start": 11545.9,
            "bin_end": 23091.8,
            "count": 0
           },
           {
            "bin_start": 23091.8,
            "bin_end": 34637.7,
            "count": 0
           },
           {
            "bin_start": 34637.7,
            "bin_end": 46183.6,
            "count": 0
           },
           {
            "bin_start": 46183.6,
            "bin_end": 57729.5,
            "count": 0
           },
           {
            "bin_start": 57729.5,
            "bin_end": 69275.4,
            "count": 0
           },
           {
            "bin_start": 69275.4,
            "bin_end": 80821.3,
            "count": 0
           },
           {
            "bin_start": 80821.3,
            "bin_end": 92367.2,
            "count": 0
           },
           {
            "bin_start": 92367.2,
            "bin_end": 103913.09999999999,
            "count": 0
           },
           {
            "bin_start": 103913.09999999999,
            "bin_end": 115459,
            "count": 1
           }
          ]
         }
        },
        {
         "name": "client_age",
         "dtype": "float64",
         "stats": {
          "unique_count": 8,
          "nan_count": 0,
          "min": "10.239286735691575",
          "max": "115459.0",
          "histogram": [
           {
            "bin_start": 10.239286735691575,
            "bin_end": 11555.115358062123,
            "count": 7
           },
           {
            "bin_start": 11555.115358062123,
            "bin_end": 23099.991429388552,
            "count": 0
           },
           {
            "bin_start": 23099.991429388552,
            "bin_end": 34644.86750071498,
            "count": 0
           },
           {
            "bin_start": 34644.86750071498,
            "bin_end": 46189.743572041414,
            "count": 0
           },
           {
            "bin_start": 46189.743572041414,
            "bin_end": 57734.61964336785,
            "count": 0
           },
           {
            "bin_start": 57734.61964336785,
            "bin_end": 69279.49571469428,
            "count": 0
           },
           {
            "bin_start": 69279.49571469428,
            "bin_end": 80824.37178602071,
            "count": 0
           },
           {
            "bin_start": 80824.37178602071,
            "bin_end": 92369.24785734715,
            "count": 0
           },
           {
            "bin_start": 92369.24785734715,
            "bin_end": 103914.12392867358,
            "count": 0
           },
           {
            "bin_start": 103914.12392867358,
            "bin_end": 115459,
            "count": 1
           }
          ]
         }
        },
        {
         "name": "_deepnote_index_column",
         "dtype": "object"
        }
       ],
       "rows": [
        {
         "CustomerId": 115459,
         "HasCrCard": 115459,
         "IsActiveMember": 115459,
         "EstimatedSalary": 115459,
         "application_date_year": 115459,
         "application_date_month": 115459,
         "application_date_day": 115459,
         "exit_date_year": 26340,
         "exit_date_month": 26340,
         "exit_date_day": 26340,
         "birth_date_year": 115459,
         "birth_date_month": 115459,
         "birth_date_day": 115459,
         "Score": 115459,
         "Value": 115459,
         "eligible": 115459,
         "client_age": 115459,
         "_deepnote_index_column": "count"
        },
        {
         "CustomerId": 15264725.517075326,
         "HasCrCard": 0.5075654561359444,
         "IsActiveMember": 0.4989650005629704,
         "EstimatedSalary": 101169.1737726812,
         "application_date_year": 2018.3073385357573,
         "application_date_month": 6.5270788764842935,
         "application_date_day": 15.718774629955222,
         "exit_date_year": 2018.6344722854974,
         "exit_date_month": 7.181776765375854,
         "exit_date_day": 15.950683371298405,
         "birth_date_year": 1979.250010826354,
         "birth_date_month": 6.522549129994197,
         "birth_date_day": 6.522549129994197,
         "Score": 649.9312656440815,
         "Value": 80724.53237911292,
         "eligible": 0.020847227154227908,
         "client_age": 38.55540927948449,
         "_deepnote_index_column": "mean"
        },
        {
         "CustomerId": 433845.3987589705,
         "HasCrCard": 0.4999449256340806,
         "IsActiveMember": 0.5000010940552329,
         "EstimatedSalary": 55697.7687113389,
         "application_date_year": 0.7730761246759131,
         "application_date_month": 3.440584451496555,
         "application_date_day": 8.8155945206514,
         "exit_date_year": 0.6420210399864456,
         "exit_date_month": 3.156182627019675,
         "exit_date_day": 8.7652108089122,
         "birth_date_year": 10.289856391139873,
         "birth_date_month": 3.4491528577449038,
         "birth_date_day": 3.4491528577449038,
         "Score": 96.49568790451337,
         "Value": 56653.6074674667,
         "eligible": 0.14287336025704997,
         "client_age": 10.239286735691575,
         "_deepnote_index_column": "std"
        },
        {
         "CustomerId": 14500029,
         "HasCrCard": 0,
         "IsActiveMember": 0,
         "EstimatedSalary": 0,
         "application_date_year": 2015,
         "application_date_month": 1,
         "application_date_day": 1,
         "exit_date_year": 2015,
         "exit_date_month": 1,
         "exit_date_day": 1,
         "birth_date_year": 1923,
         "birth_date_month": 1,
         "birth_date_day": 1,
         "Score": 174,
         "Value": -1.8189894035458565e-12,
         "eligible": 0,
         "client_age": 18,
         "_deepnote_index_column": "min"
        },
        {
         "CustomerId": 14885622,
         "HasCrCard": 0,
         "IsActiveMember": 0,
         "EstimatedSalary": 61025.445,
         "application_date_year": 2018,
         "application_date_month": 4,
         "application_date_day": 8,
         "exit_date_year": 2018,
         "exit_date_month": 5,
         "exit_date_day": 8,
         "birth_date_year": 1972,
         "birth_date_month": 4,
         "birth_date_day": 4,
         "Score": 584,
         "Value": 34956.73,
         "eligible": 0,
         "client_age": 31,
         "_deepnote_index_column": "25%"
        },
        {
         "CustomerId": 15276437,
         "HasCrCard": 1,
         "IsActiveMember": 0,
         "EstimatedSalary": 100310.24,
         "application_date_year": 2018,
         "application_date_month": 7,
         "application_date_day": 16,
         "exit_date_year": 2019,
         "exit_date_month": 8,
         "exit_date_day": 16,
         "birth_date_year": 1979,
         "birth_date_month": 7,
         "birth_date_day": 7,
         "Score": 650,
         "Value": 78372.43,
         "eligible": 0,
         "client_age": 38,
         "_deepnote_index_column": "50%"
        },
        {
         "CustomerId": 15647299,
         "HasCrCard": 1,
         "IsActiveMember": 1,
         "EstimatedSalary": 139591.39,
         "application_date_year": 2019,
         "application_date_month": 10,
         "application_date_day": 23,
         "exit_date_year": 2019,
         "exit_date_month": 10,
         "exit_date_day": 24,
         "birth_date_year": 1986,
         "birth_date_month": 10,
         "birth_date_day": 10,
         "Score": 715,
         "Value": 120166.285,
         "eligible": 0,
         "client_age": 45,
         "_deepnote_index_column": "75%"
        },
        {
         "CustomerId": 15999966,
         "HasCrCard": 1,
         "IsActiveMember": 1,
         "EstimatedSalary": 349079.68,
         "application_date_year": 2019,
         "application_date_month": 12,
         "application_date_day": 31,
         "exit_date_year": 2019,
         "exit_date_month": 12,
         "exit_date_day": 31,
         "birth_date_year": 2001,
         "birth_date_month": 12,
         "birth_date_day": 12,
         "Score": 1000,
         "Value": 374633.66,
         "eligible": 1,
         "client_age": 92,
         "_deepnote_index_column": "max"
        }
       ]
      },
      "text/plain": "         CustomerId      HasCrCard  IsActiveMember  EstimatedSalary  \\\ncount  1.154590e+05  115459.000000   115459.000000    115459.000000   \nmean   1.526473e+07       0.507565        0.498965    101169.173773   \nstd    4.338454e+05       0.499945        0.500001     55697.768711   \nmin    1.450003e+07       0.000000        0.000000         0.000000   \n25%    1.488562e+07       0.000000        0.000000     61025.445000   \n50%    1.527644e+07       1.000000        0.000000    100310.240000   \n75%    1.564730e+07       1.000000        1.000000    139591.390000   \nmax    1.599997e+07       1.000000        1.000000    349079.680000   \n\n       application_date_year  application_date_month  application_date_day  \\\ncount          115459.000000           115459.000000         115459.000000   \nmean             2018.307339                6.527079             15.718775   \nstd                 0.773076                3.440584              8.815595   \nmin              2015.000000                1.000000              1.000000   \n25%              2018.000000                4.000000              8.000000   \n50%              2018.000000                7.000000             16.000000   \n75%              2019.000000               10.000000             23.000000   \nmax              2019.000000               12.000000             31.000000   \n\n       exit_date_year  exit_date_month  exit_date_day  birth_date_year  \\\ncount    26340.000000     26340.000000   26340.000000    115459.000000   \nmean      2018.634472         7.181777      15.950683      1979.250011   \nstd          0.642021         3.156183       8.765211        10.289856   \nmin       2015.000000         1.000000       1.000000      1923.000000   \n25%       2018.000000         5.000000       8.000000      1972.000000   \n50%       2019.000000         8.000000      16.000000      1979.000000   \n75%       2019.000000        10.000000      24.000000      1986.000000   \nmax       2019.000000        12.000000      31.000000      2001.000000   \n\n       birth_date_month  birth_date_day          Score         Value  \\\ncount     115459.000000   115459.000000  115459.000000  1.154590e+05   \nmean           6.522549        6.522549     649.931266  8.072453e+04   \nstd            3.449153        3.449153      96.495688  5.665361e+04   \nmin            1.000000        1.000000     174.000000 -1.818989e-12   \n25%            4.000000        4.000000     584.000000  3.495673e+04   \n50%            7.000000        7.000000     650.000000  7.837243e+04   \n75%           10.000000       10.000000     715.000000  1.201663e+05   \nmax           12.000000       12.000000    1000.000000  3.746337e+05   \n\n            eligible     client_age  \ncount  115459.000000  115459.000000  \nmean        0.020847      38.555409  \nstd         0.142873      10.239287  \nmin         0.000000      18.000000  \n25%         0.000000      31.000000  \n50%         0.000000      38.000000  \n75%         0.000000      45.000000  \nmax         1.000000      92.000000  ",
      "text/html": "<div>\n<style scoped>\n    .dataframe tbody tr th:only-of-type {\n        vertical-align: middle;\n    }\n\n    .dataframe tbody tr th {\n        vertical-align: top;\n    }\n\n    .dataframe thead th {\n        text-align: right;\n    }\n</style>\n<table border=\"1\" class=\"dataframe\">\n  <thead>\n    <tr style=\"text-align: right;\">\n      <th></th>\n      <th>CustomerId</th>\n      <th>HasCrCard</th>\n      <th>IsActiveMember</th>\n      <th>EstimatedSalary</th>\n      <th>application_date_year</th>\n      <th>application_date_month</th>\n      <th>application_date_day</th>\n      <th>exit_date_year</th>\n      <th>exit_date_month</th>\n      <th>exit_date_day</th>\n      <th>birth_date_year</th>\n      <th>birth_date_month</th>\n      <th>birth_date_day</th>\n      <th>Score</th>\n      <th>Value</th>\n      <th>eligible</th>\n      <th>client_age</th>\n    </tr>\n  </thead>\n  <tbody>\n    <tr>\n      <th>count</th>\n      <td>1.154590e+05</td>\n      <td>115459.000000</td>\n      <td>115459.000000</td>\n      <td>115459.000000</td>\n      <td>115459.000000</td>\n      <td>115459.000000</td>\n      <td>115459.000000</td>\n      <td>26340.000000</td>\n      <td>26340.000000</td>\n      <td>26340.000000</td>\n      <td>115459.000000</td>\n      <td>115459.000000</td>\n      <td>115459.000000</td>\n      <td>115459.000000</td>\n      <td>1.154590e+05</td>\n      <td>115459.000000</td>\n      <td>115459.000000</td>\n    </tr>\n    <tr>\n      <th>mean</th>\n      <td>1.526473e+07</td>\n      <td>0.507565</td>\n      <td>0.498965</td>\n      <td>101169.173773</td>\n      <td>2018.307339</td>\n      <td>6.527079</td>\n      <td>15.718775</td>\n      <td>2018.634472</td>\n      <td>7.181777</td>\n      <td>15.950683</td>\n      <td>1979.250011</td>\n      <td>6.522549</td>\n      <td>6.522549</td>\n      <td>649.931266</td>\n      <td>8.072453e+04</td>\n      <td>0.020847</td>\n      <td>38.555409</td>\n    </tr>\n    <tr>\n      <th>std</th>\n      <td>4.338454e+05</td>\n      <td>0.499945</td>\n      <td>0.500001</td>\n      <td>55697.768711</td>\n      <td>0.773076</td>\n      <td>3.440584</td>\n      <td>8.815595</td>\n      <td>0.642021</td>\n      <td>3.156183</td>\n      <td>8.765211</td>\n      <td>10.289856</td>\n      <td>3.449153</td>\n      <td>3.449153</td>\n      <td>96.495688</td>\n      <td>5.665361e+04</td>\n      <td>0.142873</td>\n      <td>10.239287</td>\n    </tr>\n    <tr>\n      <th>min</th>\n      <td>1.450003e+07</td>\n      <td>0.000000</td>\n      <td>0.000000</td>\n      <td>0.000000</td>\n      <td>2015.000000</td>\n      <td>1.000000</td>\n      <td>1.000000</td>\n      <td>2015.000000</td>\n      <td>1.000000</td>\n      <td>1.000000</td>\n      <td>1923.000000</td>\n      <td>1.000000</td>\n      <td>1.000000</td>\n      <td>174.000000</td>\n      <td>-1.818989e-12</td>\n      <td>0.000000</td>\n      <td>18.000000</td>\n    </tr>\n    <tr>\n      <th>25%</th>\n      <td>1.488562e+07</td>\n      <td>0.000000</td>\n      <td>0.000000</td>\n      <td>61025.445000</td>\n      <td>2018.000000</td>\n      <td>4.000000</td>\n      <td>8.000000</td>\n      <td>2018.000000</td>\n      <td>5.000000</td>\n      <td>8.000000</td>\n      <td>1972.000000</td>\n      <td>4.000000</td>\n      <td>4.000000</td>\n      <td>584.000000</td>\n      <td>3.495673e+04</td>\n      <td>0.000000</td>\n      <td>31.000000</td>\n    </tr>\n    <tr>\n      <th>50%</th>\n      <td>1.527644e+07</td>\n      <td>1.000000</td>\n      <td>0.000000</td>\n      <td>100310.240000</td>\n      <td>2018.000000</td>\n      <td>7.000000</td>\n      <td>16.000000</td>\n      <td>2019.000000</td>\n      <td>8.000000</td>\n      <td>16.000000</td>\n      <td>1979.000000</td>\n      <td>7.000000</td>\n      <td>7.000000</td>\n      <td>650.000000</td>\n      <td>7.837243e+04</td>\n      <td>0.000000</td>\n      <td>38.000000</td>\n    </tr>\n    <tr>\n      <th>75%</th>\n      <td>1.564730e+07</td>\n      <td>1.000000</td>\n      <td>1.000000</td>\n      <td>139591.390000</td>\n      <td>2019.000000</td>\n      <td>10.000000</td>\n      <td>23.000000</td>\n      <td>2019.000000</td>\n      <td>10.000000</td>\n      <td>24.000000</td>\n      <td>1986.000000</td>\n      <td>10.000000</td>\n      <td>10.000000</td>\n      <td>715.000000</td>\n      <td>1.201663e+05</td>\n      <td>0.000000</td>\n      <td>45.000000</td>\n    </tr>\n    <tr>\n      <th>max</th>\n      <td>1.599997e+07</td>\n      <td>1.000000</td>\n      <td>1.000000</td>\n      <td>349079.680000</td>\n      <td>2019.000000</td>\n      <td>12.000000</td>\n      <td>31.000000</td>\n      <td>2019.000000</td>\n      <td>12.000000</td>\n      <td>31.000000</td>\n      <td>2001.000000</td>\n      <td>12.000000</td>\n      <td>12.000000</td>\n      <td>1000.000000</td>\n      <td>3.746337e+05</td>\n      <td>1.000000</td>\n      <td>92.000000</td>\n    </tr>\n  </tbody>\n</table>\n</div>"
     },
     "metadata": {}
    }
   ]
  },
  {
   "cell_type": "markdown",
   "source": "Previous stats tell us that:\n\n* The population is adult and most of them (at least 75%) are 45 year old or less.\n* 25% of clients earn at least 61025.45.\n* At least 50% of them have a credit card. \n\nLet's visualize variables.",
   "metadata": {
    "cell_id": "8e90352c-87e4-4a85-8c72-1d8462b47ce7",
    "tags": [],
    "deepnote_cell_type": "markdown"
   }
  },
  {
   "cell_type": "code",
   "metadata": {
    "cell_id": "cb0e0328-11ce-4698-a848-1f8e3bc23920",
    "tags": [],
    "deepnote_to_be_reexecuted": false,
    "source_hash": "f2f79983",
    "execution_start": 1644022441161,
    "execution_millis": 1,
    "deepnote_cell_type": "code"
   },
   "source": "sns.set_theme()",
   "execution_count": 9,
   "outputs": []
  },
  {
   "cell_type": "markdown",
   "source": "Geography:",
   "metadata": {
    "cell_id": "6870ef6a-22ee-4389-b9ca-bdeb299def68",
    "tags": [],
    "deepnote_cell_type": "markdown"
   }
  },
  {
   "cell_type": "code",
   "metadata": {
    "cell_id": "1abc0b74-50e8-43f0-9a16-75b20388c95c",
    "tags": [],
    "deepnote_to_be_reexecuted": false,
    "source_hash": "e3fce688",
    "execution_start": 1643996256867,
    "execution_millis": 13,
    "deepnote_output_heights": [
     78.765625
    ],
    "deepnote_cell_type": "code"
   },
   "source": "df['Geography'].value_counts()",
   "execution_count": null,
   "outputs": [
    {
     "output_type": "execute_result",
     "execution_count": 27,
     "data": {
      "text/plain": "France     39365\nGermany    38058\nSpain      38036\nName: Geography, dtype: int64"
     },
     "metadata": {}
    }
   ]
  },
  {
   "cell_type": "code",
   "metadata": {
    "cell_id": "7ee51ae5-3cab-4907-9fb1-a0575d7ec4a2",
    "tags": [],
    "deepnote_to_be_reexecuted": false,
    "source_hash": "b3b41011",
    "execution_start": 1643996325371,
    "execution_millis": 215,
    "deepnote_output_heights": [
     286
    ],
    "deepnote_cell_type": "code"
   },
   "source": "fig, ax = plt.subplots()\nax = df['Geography'].value_counts().plot.bar(rot=0)\nplt.title('Geography')\nplt.xlabel('Location')\nplt.ylabel('Number of clients')\nplt.show()",
   "execution_count": null,
   "outputs": [
    {
     "data": {
      "text/plain": "<Figure size 432x288 with 1 Axes>",
      "image/png": "[encoded data removed]"
     },
     "metadata": {
      "image/png": {
       "width": 410,
       "height": 284
      }
     },
     "output_type": "display_data"
    }
   ]
  },
  {
   "cell_type": "markdown",
   "source": "Gender:",
   "metadata": {
    "cell_id": "e309c9b2-42bb-48d2-8998-a8eb2ca99bdf",
    "tags": [],
    "deepnote_cell_type": "markdown"
   }
  },
  {
   "cell_type": "code",
   "metadata": {
    "cell_id": "fa15c4f0-f716-4387-b38c-d3975a880259",
    "tags": [],
    "deepnote_to_be_reexecuted": false,
    "source_hash": "198459ac",
    "execution_start": 1643996469494,
    "execution_millis": 14,
    "deepnote_output_heights": [
     59.578125
    ],
    "deepnote_cell_type": "code"
   },
   "source": "df['Gender'].value_counts()",
   "execution_count": null,
   "outputs": [
    {
     "output_type": "execute_result",
     "execution_count": 30,
     "data": {
      "text/plain": "Male      57897\nFemale    57562\nName: Gender, dtype: int64"
     },
     "metadata": {}
    }
   ]
  },
  {
   "cell_type": "code",
   "metadata": {
    "cell_id": "34154ece-7b08-49fc-92f3-3315befe2276",
    "tags": [],
    "deepnote_to_be_reexecuted": false,
    "source_hash": "c055471",
    "execution_start": 1643996966388,
    "execution_millis": 221,
    "deepnote_output_heights": [
     286
    ],
    "deepnote_cell_type": "code"
   },
   "source": "fig, ax = plt.subplots()\nax = df['Gender'].value_counts().plot.bar(rot=0)\nplt.title('Gender of clients')\nplt.xlabel('Gender')\nplt.ylabel('Number of clients')\nplt.show()",
   "execution_count": null,
   "outputs": [
    {
     "data": {
      "text/plain": "<Figure size 432x288 with 1 Axes>",
      "image/png": "[encoded data removed]"
     },
     "metadata": {
      "image/png": {
       "width": 410,
       "height": 284
      }
     },
     "output_type": "display_data"
    }
   ]
  },
  {
   "cell_type": "markdown",
   "source": "Has credit card:",
   "metadata": {
    "cell_id": "c69eaeeb-d111-4bd5-b22c-5c073aa3288f",
    "tags": [],
    "deepnote_cell_type": "markdown"
   }
  },
  {
   "cell_type": "code",
   "metadata": {
    "cell_id": "ec620058-817c-4b14-b530-933f26d7ab0a",
    "tags": [],
    "deepnote_to_be_reexecuted": false,
    "source_hash": "f00343e1",
    "execution_start": 1643995755064,
    "execution_millis": 9,
    "deepnote_output_heights": [
     59.578125
    ],
    "deepnote_cell_type": "code"
   },
   "source": "df['HasCrCard'].value_counts()",
   "execution_count": null,
   "outputs": [
    {
     "output_type": "execute_result",
     "execution_count": 24,
     "data": {
      "text/plain": "1.0    58603\n0.0    56856\nName: HasCrCard, dtype: int64"
     },
     "metadata": {}
    }
   ]
  },
  {
   "cell_type": "code",
   "metadata": {
    "cell_id": "364fc350-dc19-451c-8cd3-971c2f579c93",
    "tags": [],
    "deepnote_to_be_reexecuted": false,
    "source_hash": "cb7a7778",
    "execution_start": 1643995388508,
    "execution_millis": 215,
    "deepnote_output_heights": [
     286
    ],
    "deepnote_cell_type": "code"
   },
   "source": "fig, ax = plt.subplots()\nax = df['HasCrCard'].value_counts().plot.bar(rot=0)\nplt.title('Clients with credit card')\nplt.xlabel('1=True, 0=False')\nplt.ylabel('Number of clients')\nplt.show()",
   "execution_count": null,
   "outputs": [
    {
     "data": {
      "text/plain": "<Figure size 432x288 with 1 Axes>",
      "image/png": "[encoded data removed]"
     },
     "metadata": {
      "image/png": {
       "width": 410,
       "height": 284
      }
     },
     "output_type": "display_data"
    }
   ]
  },
  {
   "cell_type": "markdown",
   "source": "Is active member:",
   "metadata": {
    "cell_id": "1074a4fd-8f6e-41e5-86ee-fecafe69a894",
    "tags": [],
    "deepnote_cell_type": "markdown"
   }
  },
  {
   "cell_type": "code",
   "metadata": {
    "cell_id": "e3035649-9e46-4eba-a727-300dd9077512",
    "tags": [],
    "deepnote_to_be_reexecuted": false,
    "source_hash": "67952625",
    "execution_start": 1643996155336,
    "execution_millis": 3,
    "deepnote_output_heights": [
     59.578125
    ],
    "deepnote_cell_type": "code"
   },
   "source": "df['IsActiveMember'].value_counts()",
   "execution_count": null,
   "outputs": [
    {
     "output_type": "execute_result",
     "execution_count": 25,
     "data": {
      "text/plain": "0.0    57849\n1.0    57610\nName: IsActiveMember, dtype: int64"
     },
     "metadata": {}
    }
   ]
  },
  {
   "cell_type": "code",
   "metadata": {
    "cell_id": "13906c9f-5480-4c1c-a19a-172692c8a33e",
    "tags": [],
    "deepnote_to_be_reexecuted": false,
    "source_hash": "2f21a359",
    "execution_start": 1643996182185,
    "execution_millis": 270,
    "deepnote_output_heights": [
     286
    ],
    "deepnote_cell_type": "code"
   },
   "source": "fig, ax = plt.subplots()\nax = df['IsActiveMember'].value_counts().plot.bar(rot=0)\nplt.title('Active members')\nplt.xlabel('1=True, 0=False')\nplt.ylabel('Number of clients')\nplt.show()",
   "execution_count": null,
   "outputs": [
    {
     "data": {
      "text/plain": "<Figure size 432x288 with 1 Axes>",
      "image/png": "[encoded data removed]"
     },
     "metadata": {
      "image/png": {
       "width": 410,
       "height": 284
      }
     },
     "output_type": "display_data"
    }
   ]
  },
  {
   "cell_type": "markdown",
   "source": "Estimated salary:",
   "metadata": {
    "cell_id": "0d3e98ec-d1cc-4dc9-822b-d541b41a2573",
    "tags": [],
    "deepnote_cell_type": "markdown"
   }
  },
  {
   "cell_type": "code",
   "metadata": {
    "cell_id": "79eade92-3d40-4232-ba1a-86c2abc3e92b",
    "tags": [],
    "deepnote_to_be_reexecuted": false,
    "source_hash": "ff143fe",
    "execution_start": 1643997187980,
    "execution_millis": 2,
    "deepnote_cell_type": "code"
   },
   "source": "import math",
   "execution_count": null,
   "outputs": []
  },
  {
   "cell_type": "code",
   "metadata": {
    "cell_id": "b93e00ea-f99d-47ea-82b6-8d7dff733bcd",
    "tags": [],
    "deepnote_to_be_reexecuted": false,
    "source_hash": "ab8194ba",
    "execution_start": 1643997244040,
    "execution_millis": 6,
    "deepnote_output_heights": [
     21.1875
    ],
    "deepnote_cell_type": "code"
   },
   "source": "len(df['EstimatedSalary'])",
   "execution_count": null,
   "outputs": [
    {
     "output_type": "execute_result",
     "execution_count": 36,
     "data": {
      "text/plain": "115459"
     },
     "metadata": {}
    }
   ]
  },
  {
   "cell_type": "code",
   "metadata": {
    "cell_id": "217a383f-0cdb-4e49-ae32-5e5c7412806b",
    "tags": [],
    "deepnote_to_be_reexecuted": false,
    "source_hash": "c60d39dc",
    "execution_start": 1643997710397,
    "execution_millis": 420,
    "deepnote_output_heights": [
     286
    ],
    "deepnote_cell_type": "code"
   },
   "source": "fig, ax = plt.subplots()\nax = sns.boxplot(data=df, x='EstimatedSalary')\nplt.title('Boxplot of salaries')\nplt.show()",
   "execution_count": null,
   "outputs": [
    {
     "data": {
      "text/plain": "<Figure size 432x288 with 1 Axes>",
      "image/png": "[encoded data removed]"
     },
     "metadata": {
      "image/png": {
       "width": 355,
       "height": 284
      }
     },
     "output_type": "display_data"
    }
   ]
  },
  {
   "cell_type": "markdown",
   "source": "Products:",
   "metadata": {
    "cell_id": "3ee56753-1173-4f09-a9c2-2f5cd416edf5",
    "tags": [],
    "deepnote_cell_type": "markdown"
   }
  },
  {
   "cell_type": "code",
   "metadata": {
    "cell_id": "a7a0609b-0d56-41a2-a8d0-58d68552e6b7",
    "tags": [],
    "deepnote_to_be_reexecuted": false,
    "source_hash": "a354d396",
    "execution_start": 1643997786761,
    "execution_millis": 3,
    "deepnote_output_heights": [
     97.953125
    ],
    "deepnote_cell_type": "code"
   },
   "source": "df['Products'].value_counts()",
   "execution_count": null,
   "outputs": [
    {
     "output_type": "execute_result",
     "execution_count": 48,
     "data": {
      "text/plain": "Product B    28997\nProduct C    28886\nProduct A    28826\nProduct D    28750\nName: Products, dtype: int64"
     },
     "metadata": {}
    }
   ]
  },
  {
   "cell_type": "code",
   "metadata": {
    "cell_id": "e54af837-6266-41d9-8617-3b19f1c7fbdb",
    "tags": [],
    "deepnote_to_be_reexecuted": false,
    "source_hash": "640dc5b",
    "execution_start": 1643997829802,
    "execution_millis": 285,
    "deepnote_output_heights": [
     286
    ],
    "deepnote_cell_type": "code"
   },
   "source": "fig, ax = plt.subplots()\nax = df['Products'].value_counts().plot.bar(rot=0)\nplt.title('Products clients bought')\nplt.xlabel('Products')\nplt.ylabel('Number of clients')\nplt.show()",
   "execution_count": null,
   "outputs": [
    {
     "data": {
      "text/plain": "<Figure size 432x288 with 1 Axes>",
      "image/png": "[encoded data removed]"
     },
     "metadata": {
      "image/png": {
       "width": 410,
       "height": 284
      }
     },
     "output_type": "display_data"
    }
   ]
  },
  {
   "cell_type": "markdown",
   "source": "Credit score at the moment of application:",
   "metadata": {
    "cell_id": "50877055-27ff-4b38-b543-e671a33edae3",
    "tags": [],
    "deepnote_cell_type": "markdown"
   }
  },
  {
   "cell_type": "code",
   "source": "fig, ax = plt.subplots()\nax = sns.boxplot(data=df, x='Score')\nplt.title('Boxplot of credit score at application moment')\nplt.show()",
   "metadata": {
    "cell_id": "8583116d-be3a-4d6c-b362-5bac4b7885a5",
    "tags": [],
    "deepnote_to_be_reexecuted": false,
    "source_hash": "2d2c570b",
    "execution_start": 1644022593745,
    "execution_millis": 320,
    "deepnote_output_heights": [
     286
    ],
    "deepnote_cell_type": "code"
   },
   "outputs": [
    {
     "data": {
      "text/plain": "<Figure size 432x288 with 1 Axes>",
      "image/png": "[encoded data removed]"
     },
     "metadata": {
      "image/png": {
       "width": 349,
       "height": 284
      }
     },
     "output_type": "display_data"
    }
   ],
   "execution_count": 10
  },
  {
   "cell_type": "markdown",
   "source": "Transaction balance:",
   "metadata": {
    "cell_id": "5924c0b2-639f-4e61-b7fd-73a79e19b75d",
    "tags": [],
    "deepnote_cell_type": "markdown"
   }
  },
  {
   "cell_type": "code",
   "source": "fig, ax = plt.subplots(figsize=(7, 5))\nax = sns.boxplot(data=df, x='Value')\nplt.title('Boxplot of transaction balance')\nplt.show()",
   "metadata": {
    "cell_id": "991041db-2895-4d4d-988e-4365b26f22b2",
    "tags": [],
    "deepnote_to_be_reexecuted": false,
    "source_hash": "28ec5522",
    "execution_start": 1644022856168,
    "execution_millis": 349,
    "deepnote_output_heights": [
     340
    ],
    "deepnote_cell_type": "code"
   },
   "outputs": [
    {
     "data": {
      "text/plain": "<Figure size 504x360 with 1 Axes>",
      "image/png": "[encoded data removed]"
     },
     "metadata": {
      "image/png": {
       "width": 405,
       "height": 338
      }
     },
     "output_type": "display_data"
    }
   ],
   "execution_count": 13
  },
  {
   "cell_type": "markdown",
   "source": "Eligible:",
   "metadata": {
    "cell_id": "00efb0d9-a52d-4553-8907-24a8bb055f4b",
    "tags": [],
    "deepnote_cell_type": "markdown"
   }
  },
  {
   "cell_type": "code",
   "source": "df['eligible'].value_counts()",
   "metadata": {
    "cell_id": "e3df0c72-074e-4f89-8ebb-4ceaa64593b2",
    "tags": [],
    "deepnote_to_be_reexecuted": false,
    "source_hash": "d4ce5bce",
    "execution_start": 1644022925366,
    "execution_millis": 145,
    "deepnote_output_heights": [
     59.578125
    ],
    "deepnote_cell_type": "code"
   },
   "outputs": [
    {
     "output_type": "execute_result",
     "execution_count": 14,
     "data": {
      "text/plain": "0    113052\n1      2407\nName: eligible, dtype: int64"
     },
     "metadata": {}
    }
   ],
   "execution_count": 14
  },
  {
   "cell_type": "code",
   "source": "fig, ax = plt.subplots()\nax = df['eligible'].value_counts().plot.bar(rot=0)\nplt.title('Eligible vs non-eligible clients')\nplt.xlabel('0=False, 1=True')\nplt.ylabel('Number of clients')\nplt.show()",
   "metadata": {
    "cell_id": "efe6bc7e-de9c-4af2-957e-5ae7b863566c",
    "tags": [],
    "deepnote_to_be_reexecuted": false,
    "source_hash": "24e24a28",
    "execution_start": 1644022994277,
    "execution_millis": 300,
    "deepnote_output_heights": [
     286
    ],
    "deepnote_cell_type": "code"
   },
   "outputs": [
    {
     "data": {
      "text/plain": "<Figure size 432x288 with 1 Axes>",
      "image/png": "[encoded data removed]"
     },
     "metadata": {
      "image/png": {
       "width": 417,
       "height": 284
      }
     },
     "output_type": "display_data"
    }
   ],
   "execution_count": 15
  },
  {
   "cell_type": "markdown",
   "source": "Age of clients when they applied:",
   "metadata": {
    "cell_id": "9f514a68-a18f-4306-8c85-bee999a4beeb",
    "tags": [],
    "deepnote_cell_type": "markdown"
   }
  },
  {
   "cell_type": "code",
   "source": "fig, ax = plt.subplots()\nax = sns.boxplot(data=df, x='client_age')\nplt.title('Boxplot of clients\\' age when they applied')\nplt.show()",
   "metadata": {
    "cell_id": "5140a028-1c1a-4ccd-a2d1-6465ddaac523",
    "tags": [],
    "deepnote_to_be_reexecuted": false,
    "source_hash": "fad608b9",
    "execution_start": 1644024050293,
    "execution_millis": 313,
    "deepnote_output_heights": [
     286
    ],
    "deepnote_cell_type": "code"
   },
   "outputs": [
    {
     "data": {
      "text/plain": "<Figure size 432x288 with 1 Axes>",
      "image/png": "[encoded data removed]"
     },
     "metadata": {
      "image/png": {
       "width": 349,
       "height": 284
      }
     },
     "output_type": "display_data"
    }
   ],
   "execution_count": 17
  },
  {
   "cell_type": "markdown",
   "source": "## Impressions so far\n\nCategorical variables:\n\n* Locations are evenly distributed among France, Germany and Spain. \n* There a bit more male clients, but the difference is very small. Same for clients who have a credit card and active members.\n* There's no special preference for any product. All of them have almost the same number of sales.\n* The number of eligible clients (those who have been in relationship with the company for at least 2 years) is significantly small compared to non-eligible ones.\n\nNumeric variables:\n\n* It's more likely to find salaries from 0 to 250000. There're some outliers. Those may be high net worth people.\n* Credit scores are more likely to be between 400 and 900. There're outliers at both extremes.\n* The distribution of transactions is quite similar to salaries distribution.\n* All clients are adults. They tend to be young adults. At least 50% of them are millennials. There some boomers as well. Outliers represent senior people (over 68 years old).\n* Distributions don't follow a normal pattern.\n",
   "metadata": {
    "cell_id": "f3c64fbf-60c0-4d6b-8e52-1b735866f0ec",
    "tags": [],
    "deepnote_cell_type": "markdown"
   }
  },
  {
   "cell_type": "markdown",
   "source": "<a style='text-decoration:none;line-height:16px;display:flex;color:#5B5B62;padding:10px;justify-content:end;' href='https://deepnote.com?utm_source=created-in-deepnote-cell&projectId=fb2ec55e-ada8-4de4-93de-2d05f236c13b' target=\"_blank\">\n<img alt='Created in deepnote.com' style='display:inline;max-height:16px;margin:0px;margin-right:7.5px;' src='data:image/svg+xml;base64,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' > </img>\nCreated in <span style='font-weight:600;margin-left:4px;'>Deepnote</span></a>",
   "metadata": {
    "tags": [],
    "created_in_deepnote_cell": true,
    "deepnote_cell_type": "markdown"
   }
  }
 ],
 "nbformat": 4,
 "nbformat_minor": 2,
 "metadata": {
  "orig_nbformat": 2,
  "deepnote": {
   "is_reactive": false
  },
  "deepnote_notebook_id": "02232957-4386-4f51-92f1-c76b2915ce4c",
  "deepnote_execution_queue": []
 }
}