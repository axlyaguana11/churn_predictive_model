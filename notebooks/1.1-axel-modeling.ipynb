{
 "cells": [
  {
   "cell_type": "markdown",
   "source": "# Modeling",
   "metadata": {
    "cell_id": "33d5311e-9f00-4892-b04b-49fa1015c93e",
    "tags": [],
    "is_collapsed": false,
    "deepnote_cell_type": "text-cell-h1"
   }
  },
  {
   "cell_type": "markdown",
   "source": "From this notebook onwards the model for classification will be developed. First, we need some feature engineering.",
   "metadata": {
    "cell_id": "259fe3f6-4a27-49b8-9238-11acb530a48d",
    "tags": [],
    "deepnote_cell_type": "markdown"
   }
  },
  {
   "cell_type": "code",
   "metadata": {
    "tags": [],
    "cell_id": "6030ba4f-c58d-4596-9fda-b63378ae1e73",
    "deepnote_to_be_reexecuted": false,
    "source_hash": "1643160e",
    "execution_start": 1644077641425,
    "execution_millis": 3237,
    "deepnote_cell_type": "code"
   },
   "source": "#libs\nimport pandas as pd\nimport matplotlib.pyplot as plt\nimport seaborn as sns \nimport numpy as np\nimport os",
   "execution_count": 1,
   "outputs": []
  },
  {
   "cell_type": "code",
   "source": "DATA_CLEANED_DIR = os.path.join(os.getcwd(), os.pardir, 'data_sent_github')\nprint(DATA_CLEANED_DIR)",
   "metadata": {
    "cell_id": "630b4413-3952-4bcf-bc2d-48a337d46674",
    "tags": [],
    "deepnote_to_be_reexecuted": false,
    "source_hash": "add48eb4",
    "execution_start": 1644077656869,
    "execution_millis": 10,
    "deepnote_cell_type": "code"
   },
   "outputs": [
    {
     "name": "stdout",
     "text": "/work/churn_predictive_model/notebooks/../data_sent_github\n",
     "output_type": "stream"
    }
   ],
   "execution_count": 2
  },
  {
   "cell_type": "code",
   "source": "df = pd.read_csv(DATA_CLEANED_DIR+'/cleaned_dataset.csv', index_col=[0])",
   "metadata": {
    "cell_id": "52391eaf-278d-426c-9858-cf1d87bf26f6",
    "tags": [],
    "deepnote_to_be_reexecuted": false,
    "source_hash": "e91f393c",
    "execution_start": 1644077671305,
    "execution_millis": 435,
    "deepnote_cell_type": "code"
   },
   "outputs": [],
   "execution_count": 3
  },
  {
   "cell_type": "code",
   "source": "df.head()",
   "metadata": {
    "cell_id": "ca50b894-b2ee-4539-861a-2504c07ad3bb",
    "tags": [],
    "deepnote_to_be_reexecuted": false,
    "source_hash": "c085b6ba",
    "execution_start": 1644077677560,
    "execution_millis": 228,
    "deepnote_output_heights": [
     208.1875
    ],
    "deepnote_cell_type": "code"
   },
   "outputs": [
    {
     "output_type": "execute_result",
     "execution_count": 4,
     "data": {
      "application/vnd.deepnote.dataframe.v3+json": {
       "column_count": 26,
       "row_count": 5,
       "columns": [
        {
         "name": "CustomerId",
         "dtype": "int64",
         "stats": {
          "unique_count": 5,
          "nan_count": 0,
          "min": "14648573",
          "max": "15982728",
          "histogram": [
           {
            "bin_start": 14648573,
            "bin_end": 14781988.5,
            "count": 1
           },
           {
            "bin_start": 14781988.5,
            "bin_end": 14915404,
            "count": 0
           },
           {
            "bin_start": 14915404,
            "bin_end": 15048819.5,
            "count": 0
           },
           {
            "bin_start": 15048819.5,
            "bin_end": 15182235,
            "count": 1
           },
           {
            "bin_start": 15182235,
            "bin_end": 15315650.5,
            "count": 0
           },
           {
            "bin_start": 15315650.5,
            "bin_end": 15449066,
            "count": 1
           },
           {
            "bin_start": 15449066,
            "bin_end": 15582481.5,
            "count": 0
           },
           {
            "bin_start": 15582481.5,
            "bin_end": 15715897,
            "count": 0
           },
           {
            "bin_start": 15715897,
            "bin_end": 15849312.5,
            "count": 0
           },
           {
            "bin_start": 15849312.5,
            "bin_end": 15982728,
            "count": 2
           }
          ]
         }
        },
        {
         "name": "Surname",
         "dtype": "object",
         "stats": {
          "unique_count": 5,
          "nan_count": 0,
          "categories": [
           {
            "name": "NALLS",
            "count": 1
           },
           {
            "name": "LABIANCA",
            "count": 1
           },
           {
            "name": "3 others",
            "count": 3
           }
          ]
         }
        },
        {
         "name": "Geography",
         "dtype": "object",
         "stats": {
          "unique_count": 3,
          "nan_count": 0,
          "categories": [
           {
            "name": "Spain",
            "count": 2
           },
           {
            "name": "Germany",
            "count": 2
           },
           {
            "name": "France",
            "count": 1
           }
          ]
         }
        },
        {
         "name": "Gender",
         "dtype": "object",
         "stats": {
          "unique_count": 2,
          "nan_count": 0,
          "categories": [
           {
            "name": "Male",
            "count": 4
           },
           {
            "name": "Female",
            "count": 1
           }
          ]
         }
        },
        {
         "name": "HasCrCard",
         "dtype": "float64",
         "stats": {
          "unique_count": 2,
          "nan_count": 0,
          "min": "0.0",
          "max": "1.0",
          "histogram": [
           {
            "bin_start": 0,
            "bin_end": 0.1,
            "count": 2
           },
           {
            "bin_start": 0.1,
            "bin_end": 0.2,
            "count": 0
           },
           {
            "bin_start": 0.2,
            "bin_end": 0.30000000000000004,
            "count": 0
           },
           {
            "bin_start": 0.30000000000000004,
            "bin_end": 0.4,
            "count": 0
           },
           {
            "bin_start": 0.4,
            "bin_end": 0.5,
            "count": 0
           },
           {
            "bin_start": 0.5,
            "bin_end": 0.6000000000000001,
            "count": 0
           },
           {
            "bin_start": 0.6000000000000001,
            "bin_end": 0.7000000000000001,
            "count": 0
           },
           {
            "bin_start": 0.7000000000000001,
            "bin_end": 0.8,
            "count": 0
           },
           {
            "bin_start": 0.8,
            "bin_end": 0.9,
            "count": 0
           },
           {
            "bin_start": 0.9,
            "bin_end": 1,
            "count": 3
           }
          ]
         }
        },
        {
         "name": "IsActiveMember",
         "dtype": "float64",
         "stats": {
          "unique_count": 2,
          "nan_count": 0,
          "min": "0.0",
          "max": "1.0",
          "histogram": [
           {
            "bin_start": 0,
            "bin_end": 0.1,
            "count": 3
           },
           {
            "bin_start": 0.1,
            "bin_end": 0.2,
            "count": 0
           },
           {
            "bin_start": 0.2,
            "bin_end": 0.30000000000000004,
            "count": 0
           },
           {
            "bin_start": 0.30000000000000004,
            "bin_end": 0.4,
            "count": 0
           },
           {
            "bin_start": 0.4,
            "bin_end": 0.5,
            "count": 0
           },
           {
            "bin_start": 0.5,
            "bin_end": 0.6000000000000001,
            "count": 0
           },
           {
            "bin_start": 0.6000000000000001,
            "bin_end": 0.7000000000000001,
            "count": 0
           },
           {
            "bin_start": 0.7000000000000001,
            "bin_end": 0.8,
            "count": 0
           },
           {
            "bin_start": 0.8,
            "bin_end": 0.9,
            "count": 0
           },
           {
            "bin_start": 0.9,
            "bin_end": 1,
            "count": 2
           }
          ]
         }
        },
        {
         "name": "EstimatedSalary",
         "dtype": "float64",
         "stats": {
          "unique_count": 5,
          "nan_count": 0,
          "min": "2612.65",
          "max": "197095.28",
          "histogram": [
           {
            "bin_start": 2612.65,
            "bin_end": 22060.913,
            "count": 1
           },
           {
            "bin_start": 22060.913,
            "bin_end": 41509.176,
            "count": 0
           },
           {
            "bin_start": 41509.176,
            "bin_end": 60957.439,
            "count": 0
           },
           {
            "bin_start": 60957.439,
            "bin_end": 80405.70199999999,
            "count": 1
           },
           {
            "bin_start": 80405.70199999999,
            "bin_end": 99853.965,
            "count": 0
           },
           {
            "bin_start": 99853.965,
            "bin_end": 119302.22799999999,
            "count": 0
           },
           {
            "bin_start": 119302.22799999999,
            "bin_end": 138750.49099999998,
            "count": 1
           },
           {
            "bin_start": 138750.49099999998,
            "bin_end": 158198.754,
            "count": 1
           },
           {
            "bin_start": 158198.754,
            "bin_end": 177647.017,
            "count": 0
           },
           {
            "bin_start": 177647.017,
            "bin_end": 197095.28,
            "count": 1
           }
          ]
         }
        },
        {
         "name": "application_date",
         "dtype": "object",
         "stats": {
          "unique_count": 5,
          "nan_count": 0,
          "categories": [
           {
            "name": "2019-06-19",
            "count": 1
           },
           {
            "name": "2018-02-22",
            "count": 1
           },
           {
            "name": "3 others",
            "count": 3
           }
          ]
         }
        },
        {
         "name": "exit_date",
         "dtype": "object",
         "stats": {
          "unique_count": 3,
          "nan_count": 2,
          "categories": [
           {
            "name": "2019-06-11",
            "count": 1
           },
           {
            "name": "2 others",
            "count": 2
           },
           {
            "name": "Missing",
            "count": 2
           }
          ]
         }
        },
        {
         "name": "birth_date",
         "dtype": "object",
         "stats": {
          "unique_count": 5,
          "nan_count": 0,
          "categories": [
           {
            "name": "1979-02-27",
            "count": 1
           },
           {
            "name": "1974-07-11",
            "count": 1
           },
           {
            "name": "3 others",
            "count": 3
           }
          ]
         }
        },
        {
         "name": "application_date_year",
         "dtype": "int64",
         "stats": {
          "unique_count": 2,
          "nan_count": 0,
          "min": "2018",
          "max": "2019",
          "histogram": [
           {
            "bin_start": 2018,
            "bin_end": 2018.1,
            "count": 4
           },
           {
            "bin_start": 2018.1,
            "bin_end": 2018.2,
            "count": 0
           },
           {
            "bin_start": 2018.2,
            "bin_end": 2018.3,
            "count": 0
           },
           {
            "bin_start": 2018.3,
            "bin_end": 2018.4,
            "count": 0
           },
           {
            "bin_start": 2018.4,
            "bin_end": 2018.5,
            "count": 0
           },
           {
            "bin_start": 2018.5,
            "bin_end": 2018.6,
            "count": 0
           },
           {
            "bin_start": 2018.6,
            "bin_end": 2018.7,
            "count": 0
           },
           {
            "bin_start": 2018.7,
            "bin_end": 2018.8,
            "count": 0
           },
           {
            "bin_start": 2018.8,
            "bin_end": 2018.9,
            "count": 0
           },
           {
            "bin_start": 2018.9,
            "bin_end": 2019,
            "count": 1
           }
          ]
         }
        },
        {
         "name": "application_date_month",
         "dtype": "int64",
         "stats": {
          "unique_count": 2,
          "nan_count": 0,
          "min": "2",
          "max": "6",
          "histogram": [
           {
            "bin_start": 2,
            "bin_end": 2.4,
            "count": 2
           },
           {
            "bin_start": 2.4,
            "bin_end": 2.8,
            "count": 0
           },
           {
            "bin_start": 2.8,
            "bin_end": 3.2,
            "count": 0
           },
           {
            "bin_start": 3.2,
            "bin_end": 3.6,
            "count": 0
           },
           {
            "bin_start": 3.6,
            "bin_end": 4,
            "count": 0
           },
           {
            "bin_start": 4,
            "bin_end": 4.4,
            "count": 0
           },
           {
            "bin_start": 4.4,
            "bin_end": 4.800000000000001,
            "count": 0
           },
           {
            "bin_start": 4.800000000000001,
            "bin_end": 5.2,
            "count": 0
           },
           {
            "bin_start": 5.2,
            "bin_end": 5.6,
            "count": 0
           },
           {
            "bin_start": 5.6,
            "bin_end": 6,
            "count": 3
           }
          ]
         }
        },
        {
         "name": "application_date_day",
         "dtype": "int64",
         "stats": {
          "unique_count": 5,
          "nan_count": 0,
          "min": "2",
          "max": "22",
          "histogram": [
           {
            "bin_start": 2,
            "bin_end": 4,
            "count": 1
           },
           {
            "bin_start": 4,
            "bin_end": 6,
            "count": 0
           },
           {
            "bin_start": 6,
            "bin_end": 8,
            "count": 1
           },
           {
            "bin_start": 8,
            "bin_end": 10,
            "count": 1
           },
           {
            "bin_start": 10,
            "bin_end": 12,
            "count": 0
           },
           {
            "bin_start": 12,
            "bin_end": 14,
            "count": 0
           },
           {
            "bin_start": 14,
            "bin_end": 16,
            "count": 0
           },
           {
            "bin_start": 16,
            "bin_end": 18,
            "count": 0
           },
           {
            "bin_start": 18,
            "bin_end": 20,
            "count": 1
           },
           {
            "bin_start": 20,
            "bin_end": 22,
            "count": 1
           }
          ]
         }
        },
        {
         "name": "exit_date_year",
         "dtype": "float64",
         "stats": {
          "unique_count": 1,
          "nan_count": 2,
          "min": "2019.0",
          "max": "2019.0",
          "histogram": [
           {
            "bin_start": 2018.5,
            "bin_end": 2018.6,
            "count": 0
           },
           {
            "bin_start": 2018.6,
            "bin_end": 2018.7,
            "count": 0
           },
           {
            "bin_start": 2018.7,
            "bin_end": 2018.8,
            "count": 0
           },
           {
            "bin_start": 2018.8,
            "bin_end": 2018.9,
            "count": 0
           },
           {
            "bin_start": 2018.9,
            "bin_end": 2019,
            "count": 0
           },
           {
            "bin_start": 2019,
            "bin_end": 2019.1,
            "count": 3
           },
           {
            "bin_start": 2019.1,
            "bin_end": 2019.2,
            "count": 0
           },
           {
            "bin_start": 2019.2,
            "bin_end": 2019.3,
            "count": 0
           },
           {
            "bin_start": 2019.3,
            "bin_end": 2019.4,
            "count": 0
           },
           {
            "bin_start": 2019.4,
            "bin_end": 2019.5,
            "count": 0
           }
          ]
         }
        },
        {
         "name": "exit_date_month",
         "dtype": "float64",
         "stats": {
          "unique_count": 1,
          "nan_count": 2,
          "min": "6.0",
          "max": "6.0",
          "histogram": [
           {
            "bin_start": 5.5,
            "bin_end": 5.6,
            "count": 0
           },
           {
            "bin_start": 5.6,
            "bin_end": 5.7,
            "count": 0
           },
           {
            "bin_start": 5.7,
            "bin_end": 5.8,
            "count": 0
           },
           {
            "bin_start": 5.8,
            "bin_end": 5.9,
            "count": 0
           },
           {
            "bin_start": 5.9,
            "bin_end": 6,
            "count": 0
           },
           {
            "bin_start": 6,
            "bin_end": 6.1,
            "count": 3
           },
           {
            "bin_start": 6.1,
            "bin_end": 6.2,
            "count": 0
           },
           {
            "bin_start": 6.2,
            "bin_end": 6.3,
            "count": 0
           },
           {
            "bin_start": 6.3,
            "bin_end": 6.4,
            "count": 0
           },
           {
            "bin_start": 6.4,
            "bin_end": 6.5,
            "count": 0
           }
          ]
         }
        },
        {
         "name": "exit_date_day",
         "dtype": "float64",
         "stats": {
          "unique_count": 3,
          "nan_count": 2,
          "min": "1.0",
          "max": "16.0",
          "histogram": [
           {
            "bin_start": 1,
            "bin_end": 2.5,
            "count": 1
           },
           {
            "bin_start": 2.5,
            "bin_end": 4,
            "count": 0
           },
           {
            "bin_start": 4,
            "bin_end": 5.5,
            "count": 0
           },
           {
            "bin_start": 5.5,
            "bin_end": 7,
            "count": 0
           },
           {
            "bin_start": 7,
            "bin_end": 8.5,
            "count": 0
           },
           {
            "bin_start": 8.5,
            "bin_end": 10,
            "count": 0
           },
           {
            "bin_start": 10,
            "bin_end": 11.5,
            "count": 1
           },
           {
            "bin_start": 11.5,
            "bin_end": 13,
            "count": 0
           },
           {
            "bin_start": 13,
            "bin_end": 14.5,
            "count": 0
           },
           {
            "bin_start": 14.5,
            "bin_end": 16,
            "count": 1
           }
          ]
         }
        },
        {
         "name": "birth_date_year",
         "dtype": "float64",
         "stats": {
          "unique_count": 5,
          "nan_count": 0,
          "min": "1972.0",
          "max": "1998.0",
          "histogram": [
           {
            "bin_start": 1972,
            "bin_end": 1974.6,
            "count": 2
           },
           {
            "bin_start": 1974.6,
            "bin_end": 1977.2,
            "count": 0
           },
           {
            "bin_start": 1977.2,
            "bin_end": 1979.8,
            "count": 1
           },
           {
            "bin_start": 1979.8,
            "bin_end": 1982.4,
            "count": 0
           },
           {
            "bin_start": 1982.4,
            "bin_end": 1985,
            "count": 0
           },
           {
            "bin_start": 1985,
            "bin_end": 1987.6,
            "count": 0
           },
           {
            "bin_start": 1987.6,
            "bin_end": 1990.2,
            "count": 0
           },
           {
            "bin_start": 1990.2,
            "bin_end": 1992.8,
            "count": 0
           },
           {
            "bin_start": 1992.8,
            "bin_end": 1995.4,
            "count": 1
           },
           {
            "bin_start": 1995.4,
            "bin_end": 1998,
            "count": 1
           }
          ]
         }
        },
        {
         "name": "birth_date_month",
         "dtype": "float64",
         "stats": {
          "unique_count": 4,
          "nan_count": 0,
          "min": "2.0",
          "max": "12.0",
          "histogram": [
           {
            "bin_start": 2,
            "bin_end": 3,
            "count": 1
           },
           {
            "bin_start": 3,
            "bin_end": 4,
            "count": 0
           },
           {
            "bin_start": 4,
            "bin_end": 5,
            "count": 0
           },
           {
            "bin_start": 5,
            "bin_end": 6,
            "count": 1
           },
           {
            "bin_start": 6,
            "bin_end": 7,
            "count": 0
           },
           {
            "bin_start": 7,
            "bin_end": 8,
            "count": 2
           },
           {
            "bin_start": 8,
            "bin_end": 9,
            "count": 0
           },
           {
            "bin_start": 9,
            "bin_end": 10,
            "count": 0
           },
           {
            "bin_start": 10,
            "bin_end": 11,
            "count": 0
           },
           {
            "bin_start": 11,
            "bin_end": 12,
            "count": 1
           }
          ]
         }
        },
        {
         "name": "birth_date_day",
         "dtype": "float64",
         "stats": {
          "unique_count": 4,
          "nan_count": 0,
          "min": "2.0",
          "max": "12.0",
          "histogram": [
           {
            "bin_start": 2,
            "bin_end": 3,
            "count": 1
           },
           {
            "bin_start": 3,
            "bin_end": 4,
            "count": 0
           },
           {
            "bin_start": 4,
            "bin_end": 5,
            "count": 0
           },
           {
            "bin_start": 5,
            "bin_end": 6,
            "count": 1
           },
           {
            "bin_start": 6,
            "bin_end": 7,
            "count": 0
           },
           {
            "bin_start": 7,
            "bin_end": 8,
            "count": 2
           },
           {
            "bin_start": 8,
            "bin_end": 9,
            "count": 0
           },
           {
            "bin_start": 9,
            "bin_end": 10,
            "count": 0
           },
           {
            "bin_start": 10,
            "bin_end": 11,
            "count": 0
           },
           {
            "bin_start": 11,
            "bin_end": 12,
            "count": 1
           }
          ]
         }
        },
        {
         "name": "ContractId",
         "dtype": "object",
         "stats": {
          "unique_count": 5,
          "nan_count": 0,
          "categories": [
           {
            "name": "WWlyRDX8AsGnWUPYiYGjidGKI",
            "count": 1
           },
           {
            "name": "orIBQM9pK7Z7AYBQok1jypK6t",
            "count": 1
           },
           {
            "name": "3 others",
            "count": 3
           }
          ]
         }
        },
        {
         "name": "Products",
         "dtype": "object",
         "stats": {
          "unique_count": 3,
          "nan_count": 0,
          "categories": [
           {
            "name": "Product B",
            "count": 2
           },
           {
            "name": "Product D",
            "count": 2
           },
           {
            "name": "Product A",
            "count": 1
           }
          ]
         }
        },
        {
         "name": "Date",
         "dtype": "object",
         "stats": {
          "unique_count": 3,
          "nan_count": 0,
          "categories": [
           {
            "name": "2018-02",
            "count": 2
           },
           {
            "name": "2018-06",
            "count": 2
           },
           {
            "name": "2019-06",
            "count": 1
           }
          ]
         }
        },
        {
         "name": "Score",
         "dtype": "int64",
         "stats": {
          "unique_count": 5,
          "nan_count": 0,
          "min": "487",
          "max": "706",
          "histogram": [
           {
            "bin_start": 487,
            "bin_end": 508.9,
            "count": 1
           },
           {
            "bin_start": 508.9,
            "bin_end": 530.8,
            "count": 0
           },
           {
            "bin_start": 530.8,
            "bin_end": 552.7,
            "count": 1
           },
           {
            "bin_start": 552.7,
            "bin_end": 574.6,
            "count": 0
           },
           {
            "bin_start": 574.6,
            "bin_end": 596.5,
            "count": 1
           },
           {
            "bin_start": 596.5,
            "bin_end": 618.4,
            "count": 0
           },
           {
            "bin_start": 618.4,
            "bin_end": 640.3,
            "count": 0
           },
           {
            "bin_start": 640.3,
            "bin_end": 662.2,
            "count": 0
           },
           {
            "bin_start": 662.2,
            "bin_end": 684.1,
            "count": 1
           },
           {
            "bin_start": 684.1,
            "bin_end": 706,
            "count": 1
           }
          ]
         }
        },
        {
         "name": "Value",
         "dtype": "float64",
         "stats": {
          "unique_count": 4,
          "nan_count": 0,
          "min": "0.0",
          "max": "119657.24",
          "histogram": [
           {
            "bin_start": 0,
            "bin_end": 11965.724,
            "count": 2
           },
           {
            "bin_start": 11965.724,
            "bin_end": 23931.448,
            "count": 0
           },
           {
            "bin_start": 23931.448,
            "bin_end": 35897.172,
            "count": 0
           },
           {
            "bin_start": 35897.172,
            "bin_end": 47862.896,
            "count": 1
           },
           {
            "bin_start": 47862.896,
            "bin_end": 59828.62,
            "count": 0
           },
           {
            "bin_start": 59828.62,
            "bin_end": 71794.344,
            "count": 0
           },
           {
            "bin_start": 71794.344,
            "bin_end": 83760.068,
            "count": 0
           },
           {
            "bin_start": 83760.068,
            "bin_end": 95725.792,
            "count": 1
           },
           {
            "bin_start": 95725.792,
            "bin_end": 107691.516,
            "count": 0
           },
           {
            "bin_start": 107691.516,
            "bin_end": 119657.24,
            "count": 1
           }
          ]
         }
        },
        {
         "name": "eligible",
         "dtype": "int64",
         "stats": {
          "unique_count": 2,
          "nan_count": 0,
          "min": "0",
          "max": "1",
          "histogram": [
           {
            "bin_start": 0,
            "bin_end": 0.1,
            "count": 3
           },
           {
            "bin_start": 0.1,
            "bin_end": 0.2,
            "count": 0
           },
           {
            "bin_start": 0.2,
            "bin_end": 0.30000000000000004,
            "count": 0
           },
           {
            "bin_start": 0.30000000000000004,
            "bin_end": 0.4,
            "count": 0
           },
           {
            "bin_start": 0.4,
            "bin_end": 0.5,
            "count": 0
           },
           {
            "bin_start": 0.5,
            "bin_end": 0.6000000000000001,
            "count": 0
           },
           {
            "bin_start": 0.6000000000000001,
            "bin_end": 0.7000000000000001,
            "count": 0
           },
           {
            "bin_start": 0.7000000000000001,
            "bin_end": 0.8,
            "count": 0
           },
           {
            "bin_start": 0.8,
            "bin_end": 0.9,
            "count": 0
           },
           {
            "bin_start": 0.9,
            "bin_end": 1,
            "count": 2
           }
          ]
         }
        },
        {
         "name": "client_age",
         "dtype": "int64",
         "stats": {
          "unique_count": 5,
          "nan_count": 0,
          "min": "20",
          "max": "45",
          "histogram": [
           {
            "bin_start": 20,
            "bin_end": 22.5,
            "count": 1
           },
           {
            "bin_start": 22.5,
            "bin_end": 25,
            "count": 1
           },
           {
            "bin_start": 25,
            "bin_end": 27.5,
            "count": 0
           },
           {
            "bin_start": 27.5,
            "bin_end": 30,
            "count": 0
           },
           {
            "bin_start": 30,
            "bin_end": 32.5,
            "count": 0
           },
           {
            "bin_start": 32.5,
            "bin_end": 35,
            "count": 0
           },
           {
            "bin_start": 35,
            "bin_end": 37.5,
            "count": 0
           },
           {
            "bin_start": 37.5,
            "bin_end": 40,
            "count": 0
           },
           {
            "bin_start": 40,
            "bin_end": 42.5,
            "count": 1
           },
           {
            "bin_start": 42.5,
            "bin_end": 45,
            "count": 2
           }
          ]
         }
        },
        {
         "name": "_deepnote_index_column",
         "dtype": "int64"
        }
       ],
       "rows": [
        {
         "CustomerId": 14648573,
         "Surname": "NALLS",
         "Geography": "Spain",
         "Gender": "Male",
         "HasCrCard": 1,
         "IsActiveMember": 0,
         "EstimatedSalary": 140827.98,
         "application_date": "2019-06-19",
         "exit_date": "nan",
         "birth_date": "1979-02-27",
         "application_date_year": 2019,
         "application_date_month": 6,
         "application_date_day": 19,
         "exit_date_year": "nan",
         "exit_date_month": "nan",
         "exit_date_day": "nan",
         "birth_date_year": 1979,
         "birth_date_month": 2,
         "birth_date_day": 2,
         "ContractId": "WWlyRDX8AsGnWUPYiYGjidGKI",
         "Products": "Product B",
         "Date": "2019-06",
         "Score": 683,
         "Value": 0,
         "eligible": 1,
         "client_age": 40,
         "_deepnote_index_column": 0
        },
        {
         "CustomerId": 15165393,
         "Surname": "LABIANCA",
         "Geography": "Spain",
         "Gender": "Male",
         "HasCrCard": 1,
         "IsActiveMember": 1,
         "EstimatedSalary": 2612.65,
         "application_date": "2018-02-22",
         "exit_date": "2019-06-11",
         "birth_date": "1974-07-11",
         "application_date_year": 2018,
         "application_date_month": 2,
         "application_date_day": 22,
         "exit_date_year": 2019,
         "exit_date_month": 6,
         "exit_date_day": 11,
         "birth_date_year": 1974,
         "birth_date_month": 7,
         "birth_date_day": 7,
         "ContractId": "orIBQM9pK7Z7AYBQok1jypK6t",
         "Products": "Product D",
         "Date": "2018-02",
         "Score": 487,
         "Value": 119657.24,
         "eligible": 0,
         "client_age": 43,
         "_deepnote_index_column": 1
        },
        {
         "CustomerId": 15982728,
         "Surname": "GOUDEAU",
         "Geography": "France",
         "Gender": "Male",
         "HasCrCard": 0,
         "IsActiveMember": 1,
         "EstimatedSalary": 66465.09,
         "application_date": "2018-02-02",
         "exit_date": "2019-06-01",
         "birth_date": "1972-12-18",
         "application_date_year": 2018,
         "application_date_month": 2,
         "application_date_day": 2,
         "exit_date_year": 2019,
         "exit_date_month": 6,
         "exit_date_day": 1,
         "birth_date_year": 1972,
         "birth_date_month": 12,
         "birth_date_day": 12,
         "ContractId": "sdnOZ3fBpu1sKsYrZJE9tfcRP",
         "Products": "Product B",
         "Date": "2018-02",
         "Score": 595,
         "Value": 43353.5,
         "eligible": 0,
         "client_age": 45,
         "_deepnote_index_column": 3
        },
        {
         "CustomerId": 15434700,
         "Surname": "STIMMELL",
         "Geography": "Germany",
         "Gender": "Male",
         "HasCrCard": 1,
         "IsActiveMember": 0,
         "EstimatedSalary": 138615.32,
         "application_date": "2018-06-06",
         "exit_date": "nan",
         "birth_date": "1994-07-22",
         "application_date_year": 2018,
         "application_date_month": 6,
         "application_date_day": 6,
         "exit_date_year": "nan",
         "exit_date_month": "nan",
         "exit_date_day": "nan",
         "birth_date_year": 1994,
         "birth_date_month": 7,
         "birth_date_day": 7,
         "ContractId": "dF2Z2DZoUYMmf0ST8keQjvKQL",
         "Products": "Product A",
         "Date": "2018-06",
         "Score": 706,
         "Value": 92357.9,
         "eligible": 1,
         "client_age": 23,
         "_deepnote_index_column": 4
        },
        {
         "CustomerId": 15898769,
         "Surname": "ALCOCK",
         "Geography": "Germany",
         "Gender": "Female",
         "HasCrCard": 0,
         "IsActiveMember": 0,
         "EstimatedSalary": 197095.28,
         "application_date": "2018-06-09",
         "exit_date": "2019-06-16",
         "birth_date": "1998-05-14",
         "application_date_year": 2018,
         "application_date_month": 6,
         "application_date_day": 9,
         "exit_date_year": 2019,
         "exit_date_month": 6,
         "exit_date_day": 16,
         "birth_date_year": 1998,
         "birth_date_month": 5,
         "birth_date_day": 5,
         "ContractId": "gfCNu3alAqn2HgWKamcXqOaij",
         "Products": "Product D",
         "Date": "2018-06",
         "Score": 532,
         "Value": 0,
         "eligible": 0,
         "client_age": 20,
         "_deepnote_index_column": 5
        }
       ]
      },
      "text/plain": "   CustomerId   Surname Geography  Gender  HasCrCard  IsActiveMember  \\\n0    14648573     NALLS     Spain    Male        1.0             0.0   \n1    15165393  LABIANCA     Spain    Male        1.0             1.0   \n3    15982728   GOUDEAU    France    Male        0.0             1.0   \n4    15434700  STIMMELL   Germany    Male        1.0             0.0   \n5    15898769    ALCOCK   Germany  Female        0.0             0.0   \n\n   EstimatedSalary application_date   exit_date  birth_date  ...  \\\n0        140827.98       2019-06-19         NaN  1979-02-27  ...   \n1          2612.65       2018-02-22  2019-06-11  1974-07-11  ...   \n3         66465.09       2018-02-02  2019-06-01  1972-12-18  ...   \n4        138615.32       2018-06-06         NaN  1994-07-22  ...   \n5        197095.28       2018-06-09  2019-06-16  1998-05-14  ...   \n\n   birth_date_year  birth_date_month  birth_date_day  \\\n0           1979.0               2.0             2.0   \n1           1974.0               7.0             7.0   \n3           1972.0              12.0            12.0   \n4           1994.0               7.0             7.0   \n5           1998.0               5.0             5.0   \n\n                  ContractId   Products     Date  Score      Value  eligible  \\\n0  WWlyRDX8AsGnWUPYiYGjidGKI  Product B  2019-06    683       0.00         1   \n1  orIBQM9pK7Z7AYBQok1jypK6t  Product D  2018-02    487  119657.24         0   \n3  sdnOZ3fBpu1sKsYrZJE9tfcRP  Product B  2018-02    595   43353.50         0   \n4  dF2Z2DZoUYMmf0ST8keQjvKQL  Product A  2018-06    706   92357.90         1   \n5  gfCNu3alAqn2HgWKamcXqOaij  Product D  2018-06    532       0.00         0   \n\n  client_age  \n0         40  \n1         43  \n3         45  \n4         23  \n5         20  \n\n[5 rows x 26 columns]",
      "text/html": "<div>\n<style scoped>\n    .dataframe tbody tr th:only-of-type {\n        vertical-align: middle;\n    }\n\n    .dataframe tbody tr th {\n        vertical-align: top;\n    }\n\n    .dataframe thead th {\n        text-align: right;\n    }\n</style>\n<table border=\"1\" class=\"dataframe\">\n  <thead>\n    <tr style=\"text-align: right;\">\n      <th></th>\n      <th>CustomerId</th>\n      <th>Surname</th>\n      <th>Geography</th>\n      <th>Gender</th>\n      <th>HasCrCard</th>\n      <th>IsActiveMember</th>\n      <th>EstimatedSalary</th>\n      <th>application_date</th>\n      <th>exit_date</th>\n      <th>birth_date</th>\n      <th>...</th>\n      <th>birth_date_year</th>\n      <th>birth_date_month</th>\n      <th>birth_date_day</th>\n      <th>ContractId</th>\n      <th>Products</th>\n      <th>Date</th>\n      <th>Score</th>\n      <th>Value</th>\n      <th>eligible</th>\n      <th>client_age</th>\n    </tr>\n  </thead>\n  <tbody>\n    <tr>\n      <th>0</th>\n      <td>14648573</td>\n      <td>NALLS</td>\n      <td>Spain</td>\n      <td>Male</td>\n      <td>1.0</td>\n      <td>0.0</td>\n      <td>140827.98</td>\n      <td>2019-06-19</td>\n      <td>NaN</td>\n      <td>1979-02-27</td>\n      <td>...</td>\n      <td>1979.0</td>\n      <td>2.0</td>\n      <td>2.0</td>\n      <td>WWlyRDX8AsGnWUPYiYGjidGKI</td>\n      <td>Product B</td>\n      <td>2019-06</td>\n      <td>683</td>\n      <td>0.00</td>\n      <td>1</td>\n      <td>40</td>\n    </tr>\n    <tr>\n      <th>1</th>\n      <td>15165393</td>\n      <td>LABIANCA</td>\n      <td>Spain</td>\n      <td>Male</td>\n      <td>1.0</td>\n      <td>1.0</td>\n      <td>2612.65</td>\n      <td>2018-02-22</td>\n      <td>2019-06-11</td>\n      <td>1974-07-11</td>\n      <td>...</td>\n      <td>1974.0</td>\n      <td>7.0</td>\n      <td>7.0</td>\n      <td>orIBQM9pK7Z7AYBQok1jypK6t</td>\n      <td>Product D</td>\n      <td>2018-02</td>\n      <td>487</td>\n      <td>119657.24</td>\n      <td>0</td>\n      <td>43</td>\n    </tr>\n    <tr>\n      <th>3</th>\n      <td>15982728</td>\n      <td>GOUDEAU</td>\n      <td>France</td>\n      <td>Male</td>\n      <td>0.0</td>\n      <td>1.0</td>\n      <td>66465.09</td>\n      <td>2018-02-02</td>\n      <td>2019-06-01</td>\n      <td>1972-12-18</td>\n      <td>...</td>\n      <td>1972.0</td>\n      <td>12.0</td>\n      <td>12.0</td>\n      <td>sdnOZ3fBpu1sKsYrZJE9tfcRP</td>\n      <td>Product B</td>\n      <td>2018-02</td>\n      <td>595</td>\n      <td>43353.50</td>\n      <td>0</td>\n      <td>45</td>\n    </tr>\n    <tr>\n      <th>4</th>\n      <td>15434700</td>\n      <td>STIMMELL</td>\n      <td>Germany</td>\n      <td>Male</td>\n      <td>1.0</td>\n      <td>0.0</td>\n      <td>138615.32</td>\n      <td>2018-06-06</td>\n      <td>NaN</td>\n      <td>1994-07-22</td>\n      <td>...</td>\n      <td>1994.0</td>\n      <td>7.0</td>\n      <td>7.0</td>\n      <td>dF2Z2DZoUYMmf0ST8keQjvKQL</td>\n      <td>Product A</td>\n      <td>2018-06</td>\n      <td>706</td>\n      <td>92357.90</td>\n      <td>1</td>\n      <td>23</td>\n    </tr>\n    <tr>\n      <th>5</th>\n      <td>15898769</td>\n      <td>ALCOCK</td>\n      <td>Germany</td>\n      <td>Female</td>\n      <td>0.0</td>\n      <td>0.0</td>\n      <td>197095.28</td>\n      <td>2018-06-09</td>\n      <td>2019-06-16</td>\n      <td>1998-05-14</td>\n      <td>...</td>\n      <td>1998.0</td>\n      <td>5.0</td>\n      <td>5.0</td>\n      <td>gfCNu3alAqn2HgWKamcXqOaij</td>\n      <td>Product D</td>\n      <td>2018-06</td>\n      <td>532</td>\n      <td>0.00</td>\n      <td>0</td>\n      <td>20</td>\n    </tr>\n  </tbody>\n</table>\n<p>5 rows × 26 columns</p>\n</div>"
     },
     "metadata": {}
    }
   ],
   "execution_count": 4
  },
  {
   "cell_type": "code",
   "source": "df.dtypes",
   "metadata": {
    "cell_id": "d585f917-4564-4e77-8a4e-6c7c12e692d7",
    "tags": [],
    "deepnote_to_be_reexecuted": false,
    "source_hash": "52430027",
    "execution_start": 1644077730848,
    "execution_millis": 5,
    "deepnote_output_heights": [
     520.203125
    ],
    "deepnote_cell_type": "code"
   },
   "outputs": [
    {
     "output_type": "execute_result",
     "execution_count": 5,
     "data": {
      "text/plain": "CustomerId                  int64\nSurname                    object\nGeography                  object\nGender                     object\nHasCrCard                 float64\nIsActiveMember            float64\nEstimatedSalary           float64\napplication_date           object\nexit_date                  object\nbirth_date                 object\napplication_date_year       int64\napplication_date_month      int64\napplication_date_day        int64\nexit_date_year            float64\nexit_date_month           float64\nexit_date_day             float64\nbirth_date_year           float64\nbirth_date_month          float64\nbirth_date_day            float64\nContractId                 object\nProducts                   object\nDate                       object\nScore                       int64\nValue                     float64\neligible                    int64\nclient_age                  int64\ndtype: object"
     },
     "metadata": {}
    }
   ],
   "execution_count": 5
  },
  {
   "cell_type": "code",
   "source": "df['Geography'] = df['Geography'].astype('category')\ndf['Gender'] = df['Gender'].astype('category')\ndf['HasCrCard'] = df['HasCrCard'].astype('category')\ndf['IsActiveMember'] = df['IsActiveMember'].astype('category')\ndf['Products'] = df['Products'].astype('category')",
   "metadata": {
    "cell_id": "14a4472e-dcaa-4d1f-b5a2-e9e4797fd20e",
    "tags": [],
    "deepnote_to_be_reexecuted": false,
    "source_hash": "56485631",
    "execution_start": 1644083345388,
    "execution_millis": 5,
    "deepnote_output_heights": [
     251.5
    ],
    "deepnote_cell_type": "code"
   },
   "outputs": [],
   "execution_count": 69
  },
  {
   "cell_type": "code",
   "source": "numerical_vars = ['EstimatedSalary', 'Score', 'Value', 'client_age']",
   "metadata": {
    "cell_id": "83d5027d-f878-4f96-b771-3967d48e9b4e",
    "tags": [],
    "deepnote_to_be_reexecuted": false,
    "source_hash": "a3afccba",
    "execution_start": 1644077890477,
    "execution_millis": 1,
    "deepnote_cell_type": "code"
   },
   "outputs": [],
   "execution_count": 6
  },
  {
   "cell_type": "code",
   "source": "categorical_vars = ['Geography', 'Gender', 'HasCrCard', 'IsActiveMember', 'Products']",
   "metadata": {
    "cell_id": "e98ccbf1-ed78-4001-9167-0db5b7064504",
    "tags": [],
    "deepnote_to_be_reexecuted": false,
    "source_hash": "b85d35dc",
    "execution_start": 1644078142430,
    "execution_millis": 0,
    "deepnote_cell_type": "code"
   },
   "outputs": [],
   "execution_count": 7
  },
  {
   "cell_type": "code",
   "source": "target_var = ['eligible']",
   "metadata": {
    "cell_id": "096bd578-f12c-4996-a0cc-52fe4b3637fe",
    "tags": [],
    "deepnote_to_be_reexecuted": false,
    "source_hash": "433b1e3a",
    "execution_start": 1644079317090,
    "execution_millis": 0,
    "deepnote_cell_type": "code"
   },
   "outputs": [],
   "execution_count": 10
  },
  {
   "cell_type": "markdown",
   "source": "### Normalization of numerical variables\n\nSince distributions are not normal and scales differ a lot from one variable to other, it's necessary to normalize them under Min-Max criterion.\n\n![](https://cdn-images-1.medium.com/max/253/1*Dl3P3Rrzto258X0Ales9Xw.png)",
   "metadata": {
    "cell_id": "facae137-93e7-494c-8233-7890b3534571",
    "tags": [],
    "deepnote_cell_type": "markdown"
   }
  },
  {
   "cell_type": "code",
   "source": "from sklearn.preprocessing import MinMaxScaler\nscaler = MinMaxScaler() ",
   "metadata": {
    "cell_id": "2b726848-029c-4e24-9100-0e5f784cfea0",
    "tags": [],
    "deepnote_to_be_reexecuted": false,
    "source_hash": "3aa66af2",
    "execution_start": 1644079714097,
    "execution_millis": 159,
    "deepnote_cell_type": "code"
   },
   "outputs": [],
   "execution_count": 11
  },
  {
   "cell_type": "code",
   "source": "estimated_salary_scaled = scaler.fit_transform(df[['EstimatedSalary']])",
   "metadata": {
    "cell_id": "bd271e75-812d-4ae0-9a08-3f5f7d64a38e",
    "tags": [],
    "deepnote_to_be_reexecuted": false,
    "source_hash": "725be959",
    "execution_start": 1644080116276,
    "execution_millis": 3,
    "deepnote_output_heights": [
     136.34375
    ],
    "deepnote_cell_type": "code"
   },
   "outputs": [],
   "execution_count": 16
  },
  {
   "cell_type": "code",
   "source": "score_scaled = scaler.fit_transform(df[['Score']])",
   "metadata": {
    "cell_id": "6c59702e-9e86-4114-9b80-baa48c3f1c78",
    "tags": [],
    "deepnote_to_be_reexecuted": false,
    "source_hash": "4870d143",
    "execution_start": 1644080154560,
    "execution_millis": 11,
    "deepnote_output_heights": [
     136.34375
    ],
    "deepnote_cell_type": "code"
   },
   "outputs": [],
   "execution_count": 18
  },
  {
   "cell_type": "code",
   "source": "value_scaled = scaler.fit_transform(df[['Value']])",
   "metadata": {
    "cell_id": "a97883af-8d1b-4dc5-9f61-56263f29441d",
    "tags": [],
    "deepnote_to_be_reexecuted": false,
    "source_hash": "6cd17faf",
    "execution_start": 1644080199129,
    "execution_millis": 5,
    "deepnote_output_heights": [
     136.34375
    ],
    "deepnote_cell_type": "code"
   },
   "outputs": [],
   "execution_count": 20
  },
  {
   "cell_type": "code",
   "source": "client_age_scaled = scaler.fit_transform(df[['client_age']])",
   "metadata": {
    "cell_id": "ad53c4f0-8001-4f4e-9ab7-c31c197774c4",
    "tags": [],
    "deepnote_to_be_reexecuted": false,
    "source_hash": "4f55de0c",
    "execution_start": 1644080232000,
    "execution_millis": 7,
    "deepnote_output_heights": [
     136.34375
    ],
    "deepnote_cell_type": "code"
   },
   "outputs": [],
   "execution_count": 22
  },
  {
   "cell_type": "markdown",
   "source": "Getting a list of values.",
   "metadata": {
    "cell_id": "37870bec-9d3a-43cc-a65a-ecd523852f11",
    "tags": [],
    "deepnote_cell_type": "markdown"
   }
  },
  {
   "cell_type": "code",
   "source": "estimated_salary_scaled = [float(i) for i in estimated_salary_scaled]\nscore_scaled = [float(i) for i in score_scaled]\nvalue_scaled = [float(i) for i in value_scaled]\nclient_age_scaled = [float(i) for i in client_age_scaled]",
   "metadata": {
    "cell_id": "109697c6-d097-4aaf-9719-814363e6c59b",
    "tags": [],
    "deepnote_to_be_reexecuted": false,
    "source_hash": "d43840f",
    "execution_start": 1644080642607,
    "execution_millis": 223,
    "deepnote_cell_type": "code"
   },
   "outputs": [],
   "execution_count": 31
  },
  {
   "cell_type": "markdown",
   "source": "## One-hot encoding of categorical variables\n\nNow, let's enconde categorical variables. One-hot method is used.",
   "metadata": {
    "cell_id": "8653d294-4926-4841-b4e3-a14f01f66491",
    "tags": [],
    "deepnote_cell_type": "markdown"
   }
  },
  {
   "cell_type": "code",
   "source": "import sklearn.preprocessing as preprocessing\nencoder = preprocessing.OneHotEncoder(handle_unknown='ignore')",
   "metadata": {
    "cell_id": "5355fe6a-dfd9-4850-94f4-e28fb8ef30f0",
    "tags": [],
    "deepnote_to_be_reexecuted": false,
    "source_hash": "200c99",
    "execution_start": 1644081249917,
    "execution_millis": 1,
    "deepnote_cell_type": "code"
   },
   "outputs": [],
   "execution_count": 32
  },
  {
   "cell_type": "markdown",
   "source": "Geography",
   "metadata": {
    "cell_id": "22dfc607-86a7-44bf-954f-47ac7790f8e7",
    "tags": [],
    "deepnote_cell_type": "markdown"
   }
  },
  {
   "cell_type": "code",
   "source": "encoder.fit(df[['Geography']].values)",
   "metadata": {
    "cell_id": "ea3e9895-547c-499f-b206-a1b16d9e9910",
    "tags": [],
    "deepnote_to_be_reexecuted": false,
    "source_hash": "17a331d5",
    "execution_start": 1644081586912,
    "execution_millis": 32,
    "deepnote_output_heights": [
     21.1875
    ],
    "deepnote_cell_type": "code"
   },
   "outputs": [
    {
     "output_type": "execute_result",
     "execution_count": 34,
     "data": {
      "text/plain": "OneHotEncoder(handle_unknown='ignore')"
     },
     "metadata": {}
    }
   ],
   "execution_count": 34
  },
  {
   "cell_type": "code",
   "source": "geography_encoded = encoder.transform([['France'], ['Germany'], ['Spain']]).toarray()",
   "metadata": {
    "cell_id": "3c310ed6-838d-40cd-9c61-cfc99bdba0a0",
    "tags": [],
    "deepnote_to_be_reexecuted": false,
    "source_hash": "d902f356",
    "execution_start": 1644082234506,
    "execution_millis": 5,
    "deepnote_output_heights": [
     59.578125
    ],
    "deepnote_cell_type": "code"
   },
   "outputs": [],
   "execution_count": 38
  },
  {
   "cell_type": "markdown",
   "source": "Gender",
   "metadata": {
    "cell_id": "b3b4a839-931b-4399-a7ac-299a9c14176e",
    "tags": [],
    "deepnote_cell_type": "markdown"
   }
  },
  {
   "cell_type": "code",
   "source": "encoder.fit(df[['Gender']].values)",
   "metadata": {
    "cell_id": "9ec62baf-9e5f-4458-bb70-4f1e23759e30",
    "tags": [],
    "deepnote_to_be_reexecuted": false,
    "source_hash": "17ef6f9",
    "execution_start": 1644082324816,
    "execution_millis": 339,
    "deepnote_output_heights": [
     21.1875
    ],
    "deepnote_cell_type": "code"
   },
   "outputs": [
    {
     "output_type": "execute_result",
     "execution_count": 39,
     "data": {
      "text/plain": "OneHotEncoder(handle_unknown='ignore')"
     },
     "metadata": {}
    }
   ],
   "execution_count": 39
  },
  {
   "cell_type": "code",
   "source": "encoder.transform([['Male'], ['Female']]).toarray()",
   "metadata": {
    "cell_id": "87b6d1b9-fc7f-4d96-bd3b-3c02eaf171ac",
    "tags": [],
    "deepnote_to_be_reexecuted": false,
    "source_hash": "98f81ac0",
    "execution_start": 1644082376886,
    "execution_millis": 3,
    "deepnote_output_heights": [
     40.375
    ],
    "deepnote_cell_type": "code"
   },
   "outputs": [
    {
     "output_type": "execute_result",
     "execution_count": 40,
     "data": {
      "text/plain": "array([[0., 1.],\n       [1., 0.]])"
     },
     "metadata": {}
    }
   ],
   "execution_count": 40
  },
  {
   "cell_type": "code",
   "source": "geography_encoded = pd.get_dummies(df['Geography'])\ngender_encoded = pd.get_dummies(df['Gender'])\nhas_cr_card_encoded = pd.get_dummies(df[['HasCrCard']])\nis_active_member_encoded = pd.get_dummies(df[['IsActiveMember']])\nproducts_encoded = pd.get_dummies(df[['Products']])",
   "metadata": {
    "cell_id": "b2408f88-890e-45f9-ae32-0a5b24132cef",
    "tags": [],
    "deepnote_to_be_reexecuted": false,
    "source_hash": "7d07556f",
    "execution_start": 1644083480943,
    "execution_millis": 35,
    "deepnote_output_heights": [
     21.1875
    ],
    "deepnote_cell_type": "code"
   },
   "outputs": [],
   "execution_count": 73
  },
  {
   "cell_type": "markdown",
   "source": "## Concatenating a feature dataframe ",
   "metadata": {
    "cell_id": "1a8891a3-b2b2-4d1e-89b7-f754665cd811",
    "tags": [],
    "deepnote_cell_type": "markdown"
   }
  },
  {
   "cell_type": "markdown",
   "source": "<a style='text-decoration:none;line-height:16px;display:flex;color:#5B5B62;padding:10px;justify-content:end;' href='https://deepnote.com?utm_source=created-in-deepnote-cell&projectId=fb2ec55e-ada8-4de4-93de-2d05f236c13b' target=\"_blank\">\n<img alt='Created in deepnote.com' style='display:inline;max-height:16px;margin:0px;margin-right:7.5px;' src='data:image/svg+xml;base64,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' > </img>\nCreated in <span style='font-weight:600;margin-left:4px;'>Deepnote</span></a>",
   "metadata": {
    "tags": [],
    "created_in_deepnote_cell": true,
    "deepnote_cell_type": "markdown"
   }
  }
 ],
 "nbformat": 4,
 "nbformat_minor": 2,
 "metadata": {
  "orig_nbformat": 2,
  "deepnote": {
   "is_reactive": false
  },
  "deepnote_notebook_id": "83c757f5-ce34-409a-ba73-a362b4884795",
  "deepnote_execution_queue": []
 }
}