{
 "cells": [
  {
   "cell_type": "markdown",
   "source": "# Data exploration and cleaning",
   "metadata": {
    "tags": [],
    "is_collapsed": false,
    "cell_id": "eaf8d285-4dbd-4e6c-a1d0-726331738d54",
    "deepnote_cell_type": "text-cell-h1"
   }
  },
  {
   "cell_type": "markdown",
   "source": "This notebook aims to clean data according to the desired population (see below).",
   "metadata": {
    "tags": [],
    "cell_id": "00001-884d9242-7e3c-4499-bb3b-c7d10418fbdc",
    "deepnote_cell_type": "markdown"
   }
  },
  {
   "cell_type": "code",
   "metadata": {
    "tags": [],
    "deepnote_to_be_reexecuted": false,
    "source_hash": "4b5ac0",
    "execution_start": 1643923080139,
    "execution_millis": 3901,
    "cell_id": "00002-4b08ccf9-9244-45f3-bc14-d5f1ec165310",
    "deepnote_cell_type": "code"
   },
   "source": "#Libs\nimport pandas as pd\nimport matplotlib.pyplot as plt\nimport seaborn as sns \nimport numpy as np\nimport os",
   "execution_count": null,
   "outputs": []
  },
  {
   "cell_type": "code",
   "metadata": {
    "tags": [],
    "deepnote_to_be_reexecuted": false,
    "source_hash": "da2ff6fb",
    "execution_start": 1643923086526,
    "execution_millis": 0,
    "cell_id": "00003-e8336a75-a988-4a9f-bc77-70d106838c12",
    "deepnote_cell_type": "code"
   },
   "source": "DATA_RAW_DIR = os.path.join(os.getcwd(), os.pardir, 'data', 'raw')\nprint(DATA_RAW_DIR)",
   "execution_count": null,
   "outputs": [
    {
     "name": "stdout",
     "text": "/work/churn_predictive_model/notebooks/../data/raw\n",
     "output_type": "stream"
    }
   ]
  },
  {
   "cell_type": "code",
   "metadata": {
    "tags": [],
    "deepnote_to_be_reexecuted": false,
    "source_hash": "5af1d3f7",
    "execution_start": 1643923094938,
    "execution_millis": 2751,
    "cell_id": "00004-68a2857b-964e-4d4c-9365-2e40a55839ff",
    "deepnote_cell_type": "code"
   },
   "source": "clients = pd.read_csv(DATA_RAW_DIR+'/clients_table.txt')",
   "execution_count": null,
   "outputs": []
  },
  {
   "cell_type": "code",
   "metadata": {
    "tags": [],
    "deepnote_to_be_reexecuted": false,
    "source_hash": "6f8eda7d",
    "execution_start": 1643900460715,
    "execution_millis": 145,
    "cell_id": "00005-10e0846e-ad6d-4bf0-b072-75b884d7fd1b",
    "deepnote_cell_type": "code"
   },
   "source": "clients.head()",
   "execution_count": null,
   "outputs": [
    {
     "output_type": "execute_result",
     "execution_count": 4,
     "data": {
      "application/vnd.deepnote.dataframe.v3+json": {
       "column_count": 10,
       "row_count": 5,
       "columns": [
        {
         "name": "CustomerId",
         "dtype": "int64",
         "stats": {
          "unique_count": 5,
          "nan_count": 0,
          "min": "14648573",
          "max": "15745584",
          "histogram": [
           {
            "bin_start": 14648573,
            "bin_end": 14758274.1,
            "count": 2
           },
           {
            "bin_start": 14758274.1,
            "bin_end": 14867975.2,
            "count": 0
           },
           {
            "bin_start": 14867975.2,
            "bin_end": 14977676.3,
            "count": 0
           },
           {
            "bin_start": 14977676.3,
            "bin_end": 15087377.4,
            "count": 1
           },
           {
            "bin_start": 15087377.4,
            "bin_end": 15197078.5,
            "count": 0
           },
           {
            "bin_start": 15197078.5,
            "bin_end": 15306779.6,
            "count": 0
           },
           {
            "bin_start": 15306779.6,
            "bin_end": 15416480.7,
            "count": 1
           },
           {
            "bin_start": 15416480.7,
            "bin_end": 15526181.8,
            "count": 0
           },
           {
            "bin_start": 15526181.8,
            "bin_end": 15635882.9,
            "count": 0
           },
           {
            "bin_start": 15635882.9,
            "bin_end": 15745584,
            "count": 1
           }
          ]
         }
        },
        {
         "name": "Surname",
         "dtype": "object",
         "stats": {
          "unique_count": 5,
          "nan_count": 0,
          "categories": [
           {
            "name": "EIRLS",
            "count": 1
           },
           {
            "name": "MOLOCK",
            "count": 1
           },
           {
            "name": "3 others",
            "count": 3
           }
          ]
         }
        },
        {
         "name": "Geography",
         "dtype": "object",
         "stats": {
          "unique_count": 3,
          "nan_count": 0,
          "categories": [
           {
            "name": "Italy",
            "count": 3
           },
           {
            "name": "Germany",
            "count": 1
           },
           {
            "name": "Spain",
            "count": 1
           }
          ]
         }
        },
        {
         "name": "Gender",
         "dtype": "object",
         "stats": {
          "unique_count": 2,
          "nan_count": 0,
          "categories": [
           {
            "name": "Male",
            "count": 3
           },
           {
            "name": "Female",
            "count": 2
           }
          ]
         }
        },
        {
         "name": "HasCrCard",
         "dtype": "float64",
         "stats": {
          "unique_count": 2,
          "nan_count": 0,
          "min": "0.0",
          "max": "1.0",
          "histogram": [
           {
            "bin_start": 0,
            "bin_end": 0.1,
            "count": 1
           },
           {
            "bin_start": 0.1,
            "bin_end": 0.2,
            "count": 0
           },
           {
            "bin_start": 0.2,
            "bin_end": 0.30000000000000004,
            "count": 0
           },
           {
            "bin_start": 0.30000000000000004,
            "bin_end": 0.4,
            "count": 0
           },
           {
            "bin_start": 0.4,
            "bin_end": 0.5,
            "count": 0
           },
           {
            "bin_start": 0.5,
            "bin_end": 0.6000000000000001,
            "count": 0
           },
           {
            "bin_start": 0.6000000000000001,
            "bin_end": 0.7000000000000001,
            "count": 0
           },
           {
            "bin_start": 0.7000000000000001,
            "bin_end": 0.8,
            "count": 0
           },
           {
            "bin_start": 0.8,
            "bin_end": 0.9,
            "count": 0
           },
           {
            "bin_start": 0.9,
            "bin_end": 1,
            "count": 4
           }
          ]
         }
        },
        {
         "name": "IsActiveMember",
         "dtype": "float64",
         "stats": {
          "unique_count": 2,
          "nan_count": 0,
          "min": "0.0",
          "max": "1.0",
          "histogram": [
           {
            "bin_start": 0,
            "bin_end": 0.1,
            "count": 3
           },
           {
            "bin_start": 0.1,
            "bin_end": 0.2,
            "count": 0
           },
           {
            "bin_start": 0.2,
            "bin_end": 0.30000000000000004,
            "count": 0
           },
           {
            "bin_start": 0.30000000000000004,
            "bin_end": 0.4,
            "count": 0
           },
           {
            "bin_start": 0.4,
            "bin_end": 0.5,
            "count": 0
           },
           {
            "bin_start": 0.5,
            "bin_end": 0.6000000000000001,
            "count": 0
           },
           {
            "bin_start": 0.6000000000000001,
            "bin_end": 0.7000000000000001,
            "count": 0
           },
           {
            "bin_start": 0.7000000000000001,
            "bin_end": 0.8,
            "count": 0
           },
           {
            "bin_start": 0.8,
            "bin_end": 0.9,
            "count": 0
           },
           {
            "bin_start": 0.9,
            "bin_end": 1,
            "count": 2
           }
          ]
         }
        },
        {
         "name": "EstimatedSalary",
         "dtype": "float64",
         "stats": {
          "unique_count": 5,
          "nan_count": 0,
          "min": "0.0",
          "max": "159663.59",
          "histogram": [
           {
            "bin_start": 0,
            "bin_end": 15966.359,
            "count": 1
           },
           {
            "bin_start": 15966.359,
            "bin_end": 31932.718,
            "count": 0
           },
           {
            "bin_start": 31932.718,
            "bin_end": 47899.077000000005,
            "count": 1
           },
           {
            "bin_start": 47899.077000000005,
            "bin_end": 63865.436,
            "count": 0
           },
           {
            "bin_start": 63865.436,
            "bin_end": 79831.795,
            "count": 0
           },
           {
            "bin_start": 79831.795,
            "bin_end": 95798.15400000001,
            "count": 0
           },
           {
            "bin_start": 95798.15400000001,
            "bin_end": 111764.513,
            "count": 0
           },
           {
            "bin_start": 111764.513,
            "bin_end": 127730.872,
            "count": 1
           },
           {
            "bin_start": 127730.872,
            "bin_end": 143697.231,
            "count": 1
           },
           {
            "bin_start": 143697.231,
            "bin_end": 159663.59,
            "count": 1
           }
          ]
         }
        },
        {
         "name": "application_date",
         "dtype": "object",
         "stats": {
          "unique_count": 5,
          "nan_count": 0,
          "categories": [
           {
            "name": "2018-12-14",
            "count": 1
           },
           {
            "name": "2019-01-08",
            "count": 1
           },
           {
            "name": "3 others",
            "count": 3
           }
          ]
         }
        },
        {
         "name": "exit_date",
         "dtype": "object",
         "stats": {
          "unique_count": 2,
          "nan_count": 3,
          "categories": [
           {
            "name": "2013-08-09",
            "count": 1
           },
           {
            "name": "2015-12-04",
            "count": 1
           },
           {
            "name": "Missing",
            "count": 3
           }
          ]
         }
        },
        {
         "name": "birth_date",
         "dtype": "object",
         "stats": {
          "unique_count": 5,
          "nan_count": 0,
          "categories": [
           {
            "name": "1997-09-18",
            "count": 1
           },
           {
            "name": "1980-08-03",
            "count": 1
           },
           {
            "name": "3 others",
            "count": 3
           }
          ]
         }
        },
        {
         "name": "_deepnote_index_column",
         "dtype": "int64"
        }
       ],
       "rows": [
        {
         "CustomerId": 15745584,
         "Surname": "EIRLS",
         "Geography": "Germany",
         "Gender": "Female",
         "HasCrCard": 0,
         "IsActiveMember": 1,
         "EstimatedSalary": 0,
         "application_date": "2018-12-14",
         "exit_date": "nan",
         "birth_date": "1997-09-18",
         "_deepnote_index_column": 0
        },
        {
         "CustomerId": 14990118,
         "Surname": "MOLOCK",
         "Geography": "Italy",
         "Gender": "Male",
         "HasCrCard": 1,
         "IsActiveMember": 0,
         "EstimatedSalary": 121219.28,
         "application_date": "2019-01-08",
         "exit_date": "nan",
         "birth_date": "1980-08-03",
         "_deepnote_index_column": 1
        },
        {
         "CustomerId": 14733224,
         "Surname": "PAWLUCH",
         "Geography": "Italy",
         "Gender": "Female",
         "HasCrCard": 1,
         "IsActiveMember": 1,
         "EstimatedSalary": 159663.59,
         "application_date": "2012-08-01",
         "exit_date": "2013-08-09",
         "birth_date": "1977-08-19",
         "_deepnote_index_column": 2
        },
        {
         "CustomerId": 14648573,
         "Surname": "NALLS",
         "Geography": "Spain",
         "Gender": "Male",
         "HasCrCard": 1,
         "IsActiveMember": 0,
         "EstimatedSalary": 140827.98,
         "application_date": "2019-06-19",
         "exit_date": "nan",
         "birth_date": "1979-02-27",
         "_deepnote_index_column": 3
        },
        {
         "CustomerId": 15365443,
         "Surname": "EBERLE",
         "Geography": "Italy",
         "Gender": "Male",
         "HasCrCard": 1,
         "IsActiveMember": 0,
         "EstimatedSalary": 35521.28,
         "application_date": "2014-01-26",
         "exit_date": "2015-12-04",
         "birth_date": "1972-12-21",
         "_deepnote_index_column": 4
        }
       ]
      },
      "text/plain": "   CustomerId  Surname Geography  Gender  HasCrCard  IsActiveMember  \\\n0    15745584    EIRLS   Germany  Female        0.0             1.0   \n1    14990118   MOLOCK     Italy    Male        1.0             0.0   \n2    14733224  PAWLUCH     Italy  Female        1.0             1.0   \n3    14648573    NALLS     Spain    Male        1.0             0.0   \n4    15365443   EBERLE     Italy    Male        1.0             0.0   \n\n   EstimatedSalary application_date   exit_date  birth_date  \n0             0.00       2018-12-14         NaN  1997-09-18  \n1        121219.28       2019-01-08         NaN  1980-08-03  \n2        159663.59       2012-08-01  2013-08-09  1977-08-19  \n3        140827.98       2019-06-19         NaN  1979-02-27  \n4         35521.28       2014-01-26  2015-12-04  1972-12-21  ",
      "text/html": "<div>\n<style scoped>\n    .dataframe tbody tr th:only-of-type {\n        vertical-align: middle;\n    }\n\n    .dataframe tbody tr th {\n        vertical-align: top;\n    }\n\n    .dataframe thead th {\n        text-align: right;\n    }\n</style>\n<table border=\"1\" class=\"dataframe\">\n  <thead>\n    <tr style=\"text-align: right;\">\n      <th></th>\n      <th>CustomerId</th>\n      <th>Surname</th>\n      <th>Geography</th>\n      <th>Gender</th>\n      <th>HasCrCard</th>\n      <th>IsActiveMember</th>\n      <th>EstimatedSalary</th>\n      <th>application_date</th>\n      <th>exit_date</th>\n      <th>birth_date</th>\n    </tr>\n  </thead>\n  <tbody>\n    <tr>\n      <th>0</th>\n      <td>15745584</td>\n      <td>EIRLS</td>\n      <td>Germany</td>\n      <td>Female</td>\n      <td>0.0</td>\n      <td>1.0</td>\n      <td>0.00</td>\n      <td>2018-12-14</td>\n      <td>NaN</td>\n      <td>1997-09-18</td>\n    </tr>\n    <tr>\n      <th>1</th>\n      <td>14990118</td>\n      <td>MOLOCK</td>\n      <td>Italy</td>\n      <td>Male</td>\n      <td>1.0</td>\n      <td>0.0</td>\n      <td>121219.28</td>\n      <td>2019-01-08</td>\n      <td>NaN</td>\n      <td>1980-08-03</td>\n    </tr>\n    <tr>\n      <th>2</th>\n      <td>14733224</td>\n      <td>PAWLUCH</td>\n      <td>Italy</td>\n      <td>Female</td>\n      <td>1.0</td>\n      <td>1.0</td>\n      <td>159663.59</td>\n      <td>2012-08-01</td>\n      <td>2013-08-09</td>\n      <td>1977-08-19</td>\n    </tr>\n    <tr>\n      <th>3</th>\n      <td>14648573</td>\n      <td>NALLS</td>\n      <td>Spain</td>\n      <td>Male</td>\n      <td>1.0</td>\n      <td>0.0</td>\n      <td>140827.98</td>\n      <td>2019-06-19</td>\n      <td>NaN</td>\n      <td>1979-02-27</td>\n    </tr>\n    <tr>\n      <th>4</th>\n      <td>15365443</td>\n      <td>EBERLE</td>\n      <td>Italy</td>\n      <td>Male</td>\n      <td>1.0</td>\n      <td>0.0</td>\n      <td>35521.28</td>\n      <td>2014-01-26</td>\n      <td>2015-12-04</td>\n      <td>1972-12-21</td>\n    </tr>\n  </tbody>\n</table>\n</div>"
     },
     "metadata": {}
    }
   ]
  },
  {
   "cell_type": "code",
   "metadata": {
    "tags": [],
    "deepnote_to_be_reexecuted": false,
    "source_hash": "ea4522e7",
    "execution_start": 1643919080114,
    "execution_millis": 4,
    "deepnote_output_heights": [
     1
    ],
    "cell_id": "00006-89877ddc-0521-49e1-83a3-fb0a8dadd399",
    "deepnote_cell_type": "code"
   },
   "source": "clients.dtypes",
   "execution_count": null,
   "outputs": [
    {
     "output_type": "execute_result",
     "execution_count": 4,
     "data": {
      "text/plain": "CustomerId            int64\nSurname              object\nGeography            object\nGender               object\nHasCrCard           float64\nIsActiveMember      float64\nEstimatedSalary     float64\napplication_date     object\nexit_date            object\nbirth_date           object\ndtype: object"
     },
     "metadata": {}
    }
   ]
  },
  {
   "cell_type": "markdown",
   "source": "## Desired population \n\n* Contracts from 2015 onwards.\n* Operations in Italy were closed in 2019.\n* Take out clients with more than 75% of their info missing.\n* Each client should only have one contract in the database, no more.\n* Remember that for a client to be eligible, it must have at least two years of information within the company (even if it canceled the product).\n",
   "metadata": {
    "tags": [],
    "cell_id": "00007-afb237b0-c76c-4f3d-9730-1705f0dfee67",
    "deepnote_cell_type": "markdown"
   }
  },
  {
   "cell_type": "code",
   "metadata": {
    "tags": [],
    "deepnote_to_be_reexecuted": false,
    "source_hash": "d8de8718",
    "execution_start": 1643923112659,
    "execution_millis": 899,
    "deepnote_output_heights": [
     232.3125
    ],
    "cell_id": "00008-ec45ea5d-654f-4a49-94b8-380fb54b9d2e",
    "deepnote_cell_type": "code"
   },
   "source": "clients['application_date'] = pd.to_datetime(clients['application_date'])\nclients['exit_date'] = pd.to_datetime(clients['exit_date'])\nclients['birth_date'] = pd.to_datetime(clients['birth_date'])",
   "execution_count": null,
   "outputs": []
  },
  {
   "cell_type": "code",
   "metadata": {
    "tags": [],
    "deepnote_to_be_reexecuted": false,
    "source_hash": "4899ddc0",
    "execution_start": 1643923118683,
    "execution_millis": 352,
    "deepnote_output_heights": [
     232.3125
    ],
    "cell_id": "00009-7e19e5c1-7324-4b55-84da-0e9640a59879",
    "deepnote_cell_type": "code"
   },
   "source": "clients['application_date_year'] = clients['application_date'].dt.year\nclients['application_date_month'] = clients['application_date'].dt.month\nclients['application_date_day'] = clients['application_date'].dt.day",
   "execution_count": null,
   "outputs": []
  },
  {
   "cell_type": "code",
   "metadata": {
    "tags": [],
    "deepnote_to_be_reexecuted": false,
    "source_hash": "a8ccaa9",
    "execution_start": 1643923122956,
    "execution_millis": 303,
    "deepnote_output_heights": [
     232.3125
    ],
    "cell_id": "00010-df92d9bc-d142-4249-885b-99dc16ee0c17",
    "deepnote_cell_type": "code"
   },
   "source": "clients['exit_date_year'] = clients['exit_date'].dt.year\nclients['exit_date_month'] = clients['exit_date'].dt.month\nclients['exit_date_day'] = clients['exit_date'].dt.day",
   "execution_count": null,
   "outputs": []
  },
  {
   "cell_type": "code",
   "metadata": {
    "tags": [],
    "deepnote_to_be_reexecuted": false,
    "source_hash": "7c102e07",
    "execution_start": 1643923124609,
    "execution_millis": 357,
    "deepnote_output_heights": [
     232.3125
    ],
    "cell_id": "00011-86064969-e197-45d0-8afe-f5f1b2465ea9",
    "deepnote_cell_type": "code"
   },
   "source": "clients['birth_date_year'] = clients['birth_date'].dt.year\nclients['birth_date_month'] = clients['birth_date'].dt.month\nclients['birth_date_day'] = clients['birth_date'].dt.month",
   "execution_count": null,
   "outputs": []
  },
  {
   "cell_type": "code",
   "metadata": {
    "tags": [],
    "deepnote_to_be_reexecuted": false,
    "source_hash": "78da4985",
    "execution_start": 1643923131390,
    "execution_millis": 219,
    "cell_id": "00012-d76f3978-f17e-4f3f-b3f4-76f96baaf0c7",
    "deepnote_cell_type": "code"
   },
   "source": "#Contracts from 2015 onwards\nclients = clients.loc[clients['application_date_year'] >= 2015]",
   "execution_count": null,
   "outputs": []
  },
  {
   "cell_type": "code",
   "metadata": {
    "tags": [],
    "deepnote_to_be_reexecuted": false,
    "source_hash": "266a06da",
    "execution_start": 1643919167500,
    "execution_millis": 6,
    "deepnote_output_heights": [
     1
    ],
    "cell_id": "00013-75e2f6d0-a1db-4dda-bcc3-693d90763576",
    "deepnote_cell_type": "code"
   },
   "source": "clients.shape",
   "execution_count": null,
   "outputs": [
    {
     "output_type": "execute_result",
     "execution_count": 9,
     "data": {
      "text/plain": "(623242, 16)"
     },
     "metadata": {}
    }
   ]
  },
  {
   "cell_type": "markdown",
   "source": "Dropping records before 2015, we got 623242 records.\n\nNow lets delete people located in Italy, since the operations stopped in that country.",
   "metadata": {
    "tags": [],
    "cell_id": "00014-33920aa7-0b96-469b-8b52-f7a44233d4f1",
    "deepnote_cell_type": "markdown"
   }
  },
  {
   "cell_type": "code",
   "metadata": {
    "tags": [],
    "deepnote_to_be_reexecuted": false,
    "source_hash": "50a7509b",
    "execution_start": 1643923136605,
    "execution_millis": 86,
    "cell_id": "00015-d160f841-9788-4a18-b07a-d8d2070a7e9a",
    "deepnote_cell_type": "code"
   },
   "source": "#Operations in Italy were closed in 2019\nclients = clients.loc[clients['Geography'] != 'Italy']",
   "execution_count": null,
   "outputs": []
  },
  {
   "cell_type": "code",
   "metadata": {
    "tags": [],
    "deepnote_to_be_reexecuted": false,
    "source_hash": "266a06da",
    "execution_start": 1643919179104,
    "execution_millis": 188,
    "deepnote_output_heights": [
     1
    ],
    "cell_id": "00016-d0f066e1-fe27-46c0-ab69-7358d2e31746",
    "deepnote_cell_type": "code"
   },
   "source": "clients.shape",
   "execution_count": null,
   "outputs": [
    {
     "output_type": "execute_result",
     "execution_count": 11,
     "data": {
      "text/plain": "(487424, 16)"
     },
     "metadata": {}
    }
   ]
  },
  {
   "cell_type": "markdown",
   "source": "Once Italy is droped from dataset, we have 487424 records.",
   "metadata": {
    "tags": [],
    "cell_id": "00017-3f4ad650-2346-4cdf-9ebd-afe4b0f6ef5e",
    "deepnote_cell_type": "markdown"
   }
  },
  {
   "cell_type": "code",
   "metadata": {
    "tags": [],
    "deepnote_to_be_reexecuted": false,
    "source_hash": "c61cad45",
    "execution_start": 1643919186869,
    "execution_millis": 108,
    "deepnote_output_heights": [
     1
    ],
    "cell_id": "00018-2b3d819d-dc2a-4d94-9a2b-a3bded9c429c",
    "deepnote_cell_type": "code"
   },
   "source": "clients.isnull().sum()",
   "execution_count": null,
   "outputs": [
    {
     "output_type": "execute_result",
     "execution_count": 12,
     "data": {
      "text/plain": "CustomerId                     0\nSurname                    23362\nGeography                  23349\nGender                     23349\nHasCrCard                  23349\nIsActiveMember             23349\nEstimatedSalary            23349\napplication_date               0\nexit_date                 382626\nbirth_date                 23349\napplication_date_year          0\napplication_date_month         0\napplication_date_day           0\nexit_date_year            382626\nexit_date_month           382626\nexit_date_day             382626\ndtype: int64"
     },
     "metadata": {}
    }
   ]
  },
  {
   "cell_type": "markdown",
   "source": "We'll use `notna()` as we see more than 75% of missing information and this can lead to bias.",
   "metadata": {
    "tags": [],
    "cell_id": "00019-c5d9d510-9c23-456d-8221-3d0012482cf4",
    "deepnote_cell_type": "markdown"
   }
  },
  {
   "cell_type": "code",
   "metadata": {
    "tags": [],
    "deepnote_to_be_reexecuted": false,
    "source_hash": "9a774f67",
    "execution_start": 1643923147717,
    "execution_millis": 108,
    "deepnote_output_heights": [
     385.859375
    ],
    "cell_id": "00020-aefd1812-c6ef-45bd-9778-28a87c484b19",
    "deepnote_cell_type": "code"
   },
   "source": "clients = clients[clients['EstimatedSalary'].notna()]",
   "execution_count": null,
   "outputs": []
  },
  {
   "cell_type": "code",
   "metadata": {
    "tags": [],
    "deepnote_to_be_reexecuted": false,
    "source_hash": "266a06da",
    "execution_start": 1643919202006,
    "execution_millis": 9,
    "deepnote_output_heights": [
     1
    ],
    "cell_id": "00021-cbd02afe-42b4-4632-9482-bfcaa91c8061",
    "deepnote_cell_type": "code"
   },
   "source": "clients.shape",
   "execution_count": null,
   "outputs": [
    {
     "output_type": "execute_result",
     "execution_count": 14,
     "data": {
      "text/plain": "(464075, 16)"
     },
     "metadata": {}
    }
   ]
  },
  {
   "cell_type": "markdown",
   "source": "Taking clients with more that 75% of info missing out gives us 464075 records.",
   "metadata": {
    "tags": [],
    "cell_id": "00022-44972620-0c81-407b-81ab-a391d6765662",
    "deepnote_cell_type": "markdown"
   }
  },
  {
   "cell_type": "code",
   "metadata": {
    "tags": [],
    "deepnote_to_be_reexecuted": false,
    "source_hash": "2d5ab6a5",
    "execution_start": 1643923160648,
    "execution_millis": 4148,
    "cell_id": "00023-978df741-2b06-4843-a28a-2760499887c0",
    "deepnote_cell_type": "code"
   },
   "source": "products = pd.read_csv(DATA_RAW_DIR+'/products_table.txt')",
   "execution_count": null,
   "outputs": []
  },
  {
   "cell_type": "code",
   "metadata": {
    "tags": [],
    "deepnote_to_be_reexecuted": false,
    "source_hash": "dcc8ea91",
    "execution_start": 1643919395386,
    "execution_millis": 20,
    "cell_id": "00024-399733f9-0d38-4e34-85e8-6c91f6f5c08c",
    "deepnote_cell_type": "code"
   },
   "source": "products.head()",
   "execution_count": null,
   "outputs": [
    {
     "output_type": "execute_result",
     "execution_count": 16,
     "data": {
      "application/vnd.deepnote.dataframe.v3+json": {
       "column_count": 3,
       "row_count": 5,
       "columns": [
        {
         "name": "ContractId",
         "dtype": "object",
         "stats": {
          "unique_count": 5,
          "nan_count": 0,
          "categories": [
           {
            "name": "5Xo9sCduOGo5EhBYhzKrSlLIA",
            "count": 1
           },
           {
            "name": "3nQbqbnpTeSkYIJWT1UDe1GZ1",
            "count": 1
           },
           {
            "name": "3 others",
            "count": 3
           }
          ]
         }
        },
        {
         "name": "CustomerId",
         "dtype": "int64",
         "stats": {
          "unique_count": 5,
          "nan_count": 0,
          "min": "14952409",
          "max": "15604313",
          "histogram": [
           {
            "bin_start": 14952409,
            "bin_end": 15017599.4,
            "count": 2
           },
           {
            "bin_start": 15017599.4,
            "bin_end": 15082789.8,
            "count": 0
           },
           {
            "bin_start": 15082789.8,
            "bin_end": 15147980.2,
            "count": 0
           },
           {
            "bin_start": 15147980.2,
            "bin_end": 15213170.6,
            "count": 0
           },
           {
            "bin_start": 15213170.6,
            "bin_end": 15278361,
            "count": 0
           },
           {
            "bin_start": 15278361,
            "bin_end": 15343551.4,
            "count": 0
           },
           {
            "bin_start": 15343551.4,
            "bin_end": 15408741.8,
            "count": 1
           },
           {
            "bin_start": 15408741.8,
            "bin_end": 15473932.2,
            "count": 0
           },
           {
            "bin_start": 15473932.2,
            "bin_end": 15539122.6,
            "count": 0
           },
           {
            "bin_start": 15539122.6,
            "bin_end": 15604313,
            "count": 2
           }
          ]
         }
        },
        {
         "name": "Products",
         "dtype": "object",
         "stats": {
          "unique_count": 2,
          "nan_count": 0,
          "categories": [
           {
            "name": "Product B",
            "count": 3
           },
           {
            "name": "Product C",
            "count": 2
           }
          ]
         }
        },
        {
         "name": "_deepnote_index_column",
         "dtype": "int64"
        }
       ],
       "rows": [
        {
         "ContractId": "5Xo9sCduOGo5EhBYhzKrSlLIA",
         "CustomerId": 14993808,
         "Products": "Product B",
         "_deepnote_index_column": 0
        },
        {
         "ContractId": "3nQbqbnpTeSkYIJWT1UDe1GZ1",
         "CustomerId": 15560417,
         "Products": "Product B",
         "_deepnote_index_column": 1
        },
        {
         "ContractId": "PD9KwDPOwyJWO6LJKPGBbkrCz",
         "CustomerId": 15406428,
         "Products": "Product C",
         "_deepnote_index_column": 2
        },
        {
         "ContractId": "IhS7pz8lu07LCZSqYNlL0fuLP",
         "CustomerId": 15604313,
         "Products": "Product B",
         "_deepnote_index_column": 3
        },
        {
         "ContractId": "ftUey4oVmkZj8RaBVFH6SNzVM",
         "CustomerId": 14952409,
         "Products": "Product C",
         "_deepnote_index_column": 4
        }
       ]
      },
      "text/plain": "                  ContractId  CustomerId   Products\n0  5Xo9sCduOGo5EhBYhzKrSlLIA    14993808  Product B\n1  3nQbqbnpTeSkYIJWT1UDe1GZ1    15560417  Product B\n2  PD9KwDPOwyJWO6LJKPGBbkrCz    15406428  Product C\n3  IhS7pz8lu07LCZSqYNlL0fuLP    15604313  Product B\n4  ftUey4oVmkZj8RaBVFH6SNzVM    14952409  Product C",
      "text/html": "<div>\n<style scoped>\n    .dataframe tbody tr th:only-of-type {\n        vertical-align: middle;\n    }\n\n    .dataframe tbody tr th {\n        vertical-align: top;\n    }\n\n    .dataframe thead th {\n        text-align: right;\n    }\n</style>\n<table border=\"1\" class=\"dataframe\">\n  <thead>\n    <tr style=\"text-align: right;\">\n      <th></th>\n      <th>ContractId</th>\n      <th>CustomerId</th>\n      <th>Products</th>\n    </tr>\n  </thead>\n  <tbody>\n    <tr>\n      <th>0</th>\n      <td>5Xo9sCduOGo5EhBYhzKrSlLIA</td>\n      <td>14993808</td>\n      <td>Product B</td>\n    </tr>\n    <tr>\n      <th>1</th>\n      <td>3nQbqbnpTeSkYIJWT1UDe1GZ1</td>\n      <td>15560417</td>\n      <td>Product B</td>\n    </tr>\n    <tr>\n      <th>2</th>\n      <td>PD9KwDPOwyJWO6LJKPGBbkrCz</td>\n      <td>15406428</td>\n      <td>Product C</td>\n    </tr>\n    <tr>\n      <th>3</th>\n      <td>IhS7pz8lu07LCZSqYNlL0fuLP</td>\n      <td>15604313</td>\n      <td>Product B</td>\n    </tr>\n    <tr>\n      <th>4</th>\n      <td>ftUey4oVmkZj8RaBVFH6SNzVM</td>\n      <td>14952409</td>\n      <td>Product C</td>\n    </tr>\n  </tbody>\n</table>\n</div>"
     },
     "metadata": {}
    }
   ]
  },
  {
   "cell_type": "code",
   "metadata": {
    "tags": [],
    "deepnote_to_be_reexecuted": false,
    "source_hash": "9c1a1603",
    "execution_start": 1643919515090,
    "execution_millis": 945,
    "cell_id": "00025-8236038f-380d-46f8-b1d7-9a5c0723acac",
    "deepnote_cell_type": "code"
   },
   "source": "products",
   "execution_count": null,
   "outputs": [
    {
     "output_type": "execute_result",
     "execution_count": 18,
     "data": {
      "application/vnd.deepnote.dataframe.v3+json": {
       "column_count": 3,
       "row_count": 3739192,
       "columns": [
        {
         "name": "ContractId",
         "dtype": "object"
        },
        {
         "name": "CustomerId",
         "dtype": "int64"
        },
        {
         "name": "Products",
         "dtype": "object"
        },
        {
         "name": "_deepnote_index_column",
         "dtype": "int64"
        }
       ],
       "rows": [
        {
         "ContractId": "5Xo9sCduOGo5EhBYhzKrSlLIA",
         "CustomerId": 14993808,
         "Products": "Product B",
         "_deepnote_index_column": 0
        },
        {
         "ContractId": "3nQbqbnpTeSkYIJWT1UDe1GZ1",
         "CustomerId": 15560417,
         "Products": "Product B",
         "_deepnote_index_column": 1
        },
        {
         "ContractId": "PD9KwDPOwyJWO6LJKPGBbkrCz",
         "CustomerId": 15406428,
         "Products": "Product C",
         "_deepnote_index_column": 2
        },
        {
         "ContractId": "IhS7pz8lu07LCZSqYNlL0fuLP",
         "CustomerId": 15604313,
         "Products": "Product B",
         "_deepnote_index_column": 3
        },
        {
         "ContractId": "ftUey4oVmkZj8RaBVFH6SNzVM",
         "CustomerId": 14952409,
         "Products": "Product C",
         "_deepnote_index_column": 4
        },
        {
         "ContractId": "fKxPx2Lxrbe2w9RwrtacgFqh8",
         "CustomerId": 15780847,
         "Products": "Product B",
         "_deepnote_index_column": 5
        },
        {
         "ContractId": "I1l0Q0fG1fqvCxyHmooOMiz1Q",
         "CustomerId": 15943948,
         "Products": "Product B",
         "_deepnote_index_column": 6
        },
        {
         "ContractId": "sCvynJ3tQekspLIdOMQM2Xv7S",
         "CustomerId": 14646170,
         "Products": "Product D",
         "_deepnote_index_column": 7
        },
        {
         "ContractId": "HD0zcsAUzBwjJiHOJP4xGHeJg",
         "CustomerId": 14572090,
         "Products": "Product A",
         "_deepnote_index_column": 8
        },
        {
         "ContractId": "gPrEgae03EvrWZbTyVWCjilHp",
         "CustomerId": 15716166,
         "Products": "Product B",
         "_deepnote_index_column": 9
        }
       ]
      },
      "text/plain": "                        ContractId  CustomerId   Products\n0        5Xo9sCduOGo5EhBYhzKrSlLIA    14993808  Product B\n1        3nQbqbnpTeSkYIJWT1UDe1GZ1    15560417  Product B\n2        PD9KwDPOwyJWO6LJKPGBbkrCz    15406428  Product C\n3        IhS7pz8lu07LCZSqYNlL0fuLP    15604313  Product B\n4        ftUey4oVmkZj8RaBVFH6SNzVM    14952409  Product C\n...                            ...         ...        ...\n3739187  gG68mjjODmTNM21QPEeAKr0DZ    14723530  Product C\n3739188  yWf0PHzqSjJvadbdMji4XtX5T    15837225  Product D\n3739189  5kerYoMKP03ebWSrloZBjmWKz    14661828  Product C\n3739190  CdnDnTfN3YYOozLACqf9fBak1    15559545  Product D\n3739191  7LZ04fV1Avd2JuWK7KcQvI6eu    15656710  Product B\n\n[3739192 rows x 3 columns]",
      "text/html": "<div>\n<style scoped>\n    .dataframe tbody tr th:only-of-type {\n        vertical-align: middle;\n    }\n\n    .dataframe tbody tr th {\n        vertical-align: top;\n    }\n\n    .dataframe thead th {\n        text-align: right;\n    }\n</style>\n<table border=\"1\" class=\"dataframe\">\n  <thead>\n    <tr style=\"text-align: right;\">\n      <th></th>\n      <th>ContractId</th>\n      <th>CustomerId</th>\n      <th>Products</th>\n    </tr>\n  </thead>\n  <tbody>\n    <tr>\n      <th>0</th>\n      <td>5Xo9sCduOGo5EhBYhzKrSlLIA</td>\n      <td>14993808</td>\n      <td>Product B</td>\n    </tr>\n    <tr>\n      <th>1</th>\n      <td>3nQbqbnpTeSkYIJWT1UDe1GZ1</td>\n      <td>15560417</td>\n      <td>Product B</td>\n    </tr>\n    <tr>\n      <th>2</th>\n      <td>PD9KwDPOwyJWO6LJKPGBbkrCz</td>\n      <td>15406428</td>\n      <td>Product C</td>\n    </tr>\n    <tr>\n      <th>3</th>\n      <td>IhS7pz8lu07LCZSqYNlL0fuLP</td>\n      <td>15604313</td>\n      <td>Product B</td>\n    </tr>\n    <tr>\n      <th>4</th>\n      <td>ftUey4oVmkZj8RaBVFH6SNzVM</td>\n      <td>14952409</td>\n      <td>Product C</td>\n    </tr>\n    <tr>\n      <th>...</th>\n      <td>...</td>\n      <td>...</td>\n      <td>...</td>\n    </tr>\n    <tr>\n      <th>3739187</th>\n      <td>gG68mjjODmTNM21QPEeAKr0DZ</td>\n      <td>14723530</td>\n      <td>Product C</td>\n    </tr>\n    <tr>\n      <th>3739188</th>\n      <td>yWf0PHzqSjJvadbdMji4XtX5T</td>\n      <td>15837225</td>\n      <td>Product D</td>\n    </tr>\n    <tr>\n      <th>3739189</th>\n      <td>5kerYoMKP03ebWSrloZBjmWKz</td>\n      <td>14661828</td>\n      <td>Product C</td>\n    </tr>\n    <tr>\n      <th>3739190</th>\n      <td>CdnDnTfN3YYOozLACqf9fBak1</td>\n      <td>15559545</td>\n      <td>Product D</td>\n    </tr>\n    <tr>\n      <th>3739191</th>\n      <td>7LZ04fV1Avd2JuWK7KcQvI6eu</td>\n      <td>15656710</td>\n      <td>Product B</td>\n    </tr>\n  </tbody>\n</table>\n<p>3739192 rows × 3 columns</p>\n</div>"
     },
     "metadata": {}
    }
   ]
  },
  {
   "cell_type": "code",
   "metadata": {
    "tags": [],
    "deepnote_to_be_reexecuted": false,
    "source_hash": "73d2b8ca",
    "execution_start": 1643923194121,
    "execution_millis": 590,
    "cell_id": "00026-3843189c-1a42-48f6-bbb6-b65a1ca29c59",
    "deepnote_cell_type": "code"
   },
   "source": "products.drop_duplicates(keep=False, subset=['CustomerId'], inplace=True)",
   "execution_count": null,
   "outputs": []
  },
  {
   "cell_type": "code",
   "metadata": {
    "tags": [],
    "deepnote_to_be_reexecuted": false,
    "source_hash": "c06d0db1",
    "execution_start": 1643923199572,
    "execution_millis": 309,
    "cell_id": "00027-a955283f-1d4c-440a-8058-4467f03570df",
    "deepnote_cell_type": "code"
   },
   "source": "clients_and_products = pd.merge(clients, products, on='CustomerId', how='inner')",
   "execution_count": null,
   "outputs": []
  },
  {
   "cell_type": "code",
   "metadata": {
    "tags": [],
    "deepnote_to_be_reexecuted": false,
    "source_hash": "10e3dd2c",
    "execution_start": 1643920692102,
    "execution_millis": 40,
    "deepnote_output_heights": [
     1
    ],
    "cell_id": "00028-bc3efab4-07e7-4029-a3d4-46ffbd61f6ab",
    "deepnote_cell_type": "code"
   },
   "source": "clients_and_products.shape",
   "execution_count": null,
   "outputs": [
    {
     "output_type": "execute_result",
     "execution_count": 23,
     "data": {
      "text/plain": "(118897, 18)"
     },
     "metadata": {}
    }
   ]
  },
  {
   "cell_type": "code",
   "metadata": {
    "tags": [],
    "deepnote_to_be_reexecuted": false,
    "source_hash": "6d3cf004",
    "execution_start": 1643920393003,
    "execution_millis": 29,
    "deepnote_output_heights": [
     1
    ],
    "cell_id": "00029-1373fb12-0ebb-4365-a635-9a3ca9111457",
    "deepnote_cell_type": "code"
   },
   "source": "clients_and_products.isnull().sum()",
   "execution_count": null,
   "outputs": [
    {
     "output_type": "execute_result",
     "execution_count": 22,
     "data": {
      "text/plain": "CustomerId                    0\nSurname                       2\nGeography                     0\nGender                        0\nHasCrCard                     0\nIsActiveMember                0\nEstimatedSalary               0\napplication_date              0\nexit_date                 91750\nbirth_date                    0\napplication_date_year         0\napplication_date_month        0\napplication_date_day          0\nexit_date_year            91750\nexit_date_month           91750\nexit_date_day             91750\nContractId                    0\nProducts                      0\ndtype: int64"
     },
     "metadata": {}
    }
   ]
  },
  {
   "cell_type": "markdown",
   "source": "When we consider clients who have one contract only, there're 118897 records.",
   "metadata": {
    "tags": [],
    "cell_id": "00030-724d3149-7913-4567-aa37-90098909c047",
    "deepnote_cell_type": "markdown"
   }
  },
  {
   "cell_type": "code",
   "metadata": {
    "tags": [],
    "deepnote_to_be_reexecuted": false,
    "source_hash": "1dfbe4b5",
    "execution_start": 1643923211237,
    "execution_millis": 7865,
    "cell_id": "00031-fc364b7e-d175-4fbf-a8d5-3ba2fae64472",
    "deepnote_cell_type": "code"
   },
   "source": "credit_score = pd.read_csv(DATA_RAW_DIR+'/credit_score_table.txt')",
   "execution_count": null,
   "outputs": []
  },
  {
   "cell_type": "code",
   "metadata": {
    "tags": [],
    "deepnote_to_be_reexecuted": false,
    "source_hash": "74abc514",
    "execution_start": 1643922214635,
    "execution_millis": 30,
    "cell_id": "00032-a6a72524-0535-44a0-ab5f-61948eb4648c",
    "deepnote_cell_type": "code"
   },
   "source": "credit_score.head()",
   "execution_count": null,
   "outputs": [
    {
     "output_type": "execute_result",
     "execution_count": 15,
     "data": {
      "application/vnd.deepnote.dataframe.v3+json": {
       "column_count": 3,
       "row_count": 5,
       "columns": [
        {
         "name": "CustomerId",
         "dtype": "int64",
         "stats": {
          "unique_count": 5,
          "nan_count": 0,
          "min": "14759722",
          "max": "15907276",
          "histogram": [
           {
            "bin_start": 14759722,
            "bin_end": 14874477.4,
            "count": 1
           },
           {
            "bin_start": 14874477.4,
            "bin_end": 14989232.8,
            "count": 0
           },
           {
            "bin_start": 14989232.8,
            "bin_end": 15103988.2,
            "count": 0
           },
           {
            "bin_start": 15103988.2,
            "bin_end": 15218743.6,
            "count": 0
           },
           {
            "bin_start": 15218743.6,
            "bin_end": 15333499,
            "count": 1
           },
           {
            "bin_start": 15333499,
            "bin_end": 15448254.4,
            "count": 1
           },
           {
            "bin_start": 15448254.4,
            "bin_end": 15563009.8,
            "count": 0
           },
           {
            "bin_start": 15563009.8,
            "bin_end": 15677765.2,
            "count": 1
           },
           {
            "bin_start": 15677765.2,
            "bin_end": 15792520.6,
            "count": 0
           },
           {
            "bin_start": 15792520.6,
            "bin_end": 15907276,
            "count": 1
           }
          ]
         }
        },
        {
         "name": "Date",
         "dtype": "object",
         "stats": {
          "unique_count": 5,
          "nan_count": 0,
          "categories": [
           {
            "name": "2018-07",
            "count": 1
           },
           {
            "name": "2011-09",
            "count": 1
           },
           {
            "name": "3 others",
            "count": 3
           }
          ]
         }
        },
        {
         "name": "Score",
         "dtype": "int64",
         "stats": {
          "unique_count": 5,
          "nan_count": 0,
          "min": "469",
          "max": "717",
          "histogram": [
           {
            "bin_start": 469,
            "bin_end": 493.8,
            "count": 1
           },
           {
            "bin_start": 493.8,
            "bin_end": 518.6,
            "count": 0
           },
           {
            "bin_start": 518.6,
            "bin_end": 543.4,
            "count": 0
           },
           {
            "bin_start": 543.4,
            "bin_end": 568.2,
            "count": 1
           },
           {
            "bin_start": 568.2,
            "bin_end": 593,
            "count": 0
           },
           {
            "bin_start": 593,
            "bin_end": 617.8,
            "count": 1
           },
           {
            "bin_start": 617.8,
            "bin_end": 642.6,
            "count": 0
           },
           {
            "bin_start": 642.6,
            "bin_end": 667.4,
            "count": 1
           },
           {
            "bin_start": 667.4,
            "bin_end": 692.2,
            "count": 0
           },
           {
            "bin_start": 692.2,
            "bin_end": 717,
            "count": 1
           }
          ]
         }
        },
        {
         "name": "_deepnote_index_column",
         "dtype": "int64"
        }
       ],
       "rows": [
        {
         "CustomerId": 14759722,
         "Date": "2018-07",
         "Score": 717,
         "_deepnote_index_column": 0
        },
        {
         "CustomerId": 15907276,
         "Date": "2011-09",
         "Score": 562,
         "_deepnote_index_column": 1
        },
        {
         "CustomerId": 15346641,
         "Date": "2013-01",
         "Score": 604,
         "_deepnote_index_column": 2
        },
        {
         "CustomerId": 15595126,
         "Date": "2018-08",
         "Score": 469,
         "_deepnote_index_column": 3
        },
        {
         "CustomerId": 15227788,
         "Date": "2013-09",
         "Score": 655,
         "_deepnote_index_column": 4
        }
       ]
      },
      "text/plain": "   CustomerId     Date  Score\n0    14759722  2018-07    717\n1    15907276  2011-09    562\n2    15346641  2013-01    604\n3    15595126  2018-08    469\n4    15227788  2013-09    655",
      "text/html": "<div>\n<style scoped>\n    .dataframe tbody tr th:only-of-type {\n        vertical-align: middle;\n    }\n\n    .dataframe tbody tr th {\n        vertical-align: top;\n    }\n\n    .dataframe thead th {\n        text-align: right;\n    }\n</style>\n<table border=\"1\" class=\"dataframe\">\n  <thead>\n    <tr style=\"text-align: right;\">\n      <th></th>\n      <th>CustomerId</th>\n      <th>Date</th>\n      <th>Score</th>\n    </tr>\n  </thead>\n  <tbody>\n    <tr>\n      <th>0</th>\n      <td>14759722</td>\n      <td>2018-07</td>\n      <td>717</td>\n    </tr>\n    <tr>\n      <th>1</th>\n      <td>15907276</td>\n      <td>2011-09</td>\n      <td>562</td>\n    </tr>\n    <tr>\n      <th>2</th>\n      <td>15346641</td>\n      <td>2013-01</td>\n      <td>604</td>\n    </tr>\n    <tr>\n      <th>3</th>\n      <td>15595126</td>\n      <td>2018-08</td>\n      <td>469</td>\n    </tr>\n    <tr>\n      <th>4</th>\n      <td>15227788</td>\n      <td>2013-09</td>\n      <td>655</td>\n    </tr>\n  </tbody>\n</table>\n</div>"
     },
     "metadata": {}
    }
   ]
  },
  {
   "cell_type": "code",
   "metadata": {
    "tags": [],
    "deepnote_to_be_reexecuted": false,
    "source_hash": "5bcfd1b4",
    "execution_start": 1643921866288,
    "execution_millis": 21,
    "deepnote_output_heights": [
     1
    ],
    "cell_id": "00033-2b4144af-dc6f-425f-b1e4-86171f77813e",
    "deepnote_cell_type": "code"
   },
   "source": "credit_score.shape",
   "execution_count": null,
   "outputs": [
    {
     "output_type": "execute_result",
     "execution_count": 25,
     "data": {
      "text/plain": "(19500000, 3)"
     },
     "metadata": {}
    }
   ]
  },
  {
   "cell_type": "code",
   "metadata": {
    "tags": [],
    "deepnote_to_be_reexecuted": false,
    "source_hash": "794d447e",
    "execution_start": 1643923249763,
    "execution_millis": 17477,
    "deepnote_output_heights": [
     611
    ],
    "cell_id": "00034-c5adf82c-b0fa-4b93-a4ba-110503995d08",
    "deepnote_cell_type": "code"
   },
   "source": "credit_score['application_date_year'] = [int(year[:4]) for year in credit_score['Date']]",
   "execution_count": null,
   "outputs": []
  },
  {
   "cell_type": "code",
   "metadata": {
    "tags": [],
    "deepnote_to_be_reexecuted": false,
    "source_hash": "a8095683",
    "execution_start": 1643923603836,
    "execution_millis": 17667,
    "deepnote_output_heights": [
     21.1875
    ],
    "cell_id": "00035-449a2251-4d64-4b4f-9893-c3c636043a39",
    "deepnote_cell_type": "code"
   },
   "source": "credit_score['application_date_month'] = [int(month[-2:]) for month in credit_score['Date']]",
   "execution_count": null,
   "outputs": []
  },
  {
   "cell_type": "code",
   "metadata": {
    "tags": [],
    "deepnote_to_be_reexecuted": false,
    "source_hash": "34c1a0f2",
    "execution_start": 1643923632573,
    "execution_millis": 336,
    "deepnote_output_heights": [
     21.1875
    ],
    "deepnote_table_state": {
     "pageSize": 10,
     "pageIndex": 0,
     "filters": [],
     "sortBy": []
    },
    "deepnote_table_loading": false,
    "cell_id": "00036-d0b65108-83b7-4d5e-934a-6bea8ebb8c46",
    "deepnote_cell_type": "code"
   },
   "source": "credit_score[credit_score['CustomerId'] == 15907276 ]",
   "execution_count": null,
   "outputs": [
    {
     "output_type": "execute_result",
     "execution_count": 21,
     "data": {
      "application/vnd.deepnote.dataframe.v3+json": {
       "column_count": 5,
       "row_count": 13,
       "columns": [
        {
         "name": "CustomerId",
         "dtype": "int64",
         "stats": {
          "unique_count": 1,
          "nan_count": 0,
          "min": "15907276",
          "max": "15907276",
          "histogram": [
           {
            "bin_start": 15907275.5,
            "bin_end": 15907275.6,
            "count": 0
           },
           {
            "bin_start": 15907275.6,
            "bin_end": 15907275.7,
            "count": 0
           },
           {
            "bin_start": 15907275.7,
            "bin_end": 15907275.8,
            "count": 0
           },
           {
            "bin_start": 15907275.8,
            "bin_end": 15907275.9,
            "count": 0
           },
           {
            "bin_start": 15907275.9,
            "bin_end": 15907276,
            "count": 0
           },
           {
            "bin_start": 15907276,
            "bin_end": 15907276.1,
            "count": 13
           },
           {
            "bin_start": 15907276.1,
            "bin_end": 15907276.2,
            "count": 0
           },
           {
            "bin_start": 15907276.2,
            "bin_end": 15907276.3,
            "count": 0
           },
           {
            "bin_start": 15907276.3,
            "bin_end": 15907276.4,
            "count": 0
           },
           {
            "bin_start": 15907276.4,
            "bin_end": 15907276.5,
            "count": 0
           }
          ]
         }
        },
        {
         "name": "Date",
         "dtype": "object",
         "stats": {
          "unique_count": 13,
          "nan_count": 0,
          "categories": [
           {
            "name": "2011-09",
            "count": 1
           },
           {
            "name": "2012-01",
            "count": 1
           },
           {
            "name": "11 others",
            "count": 11
           }
          ]
         }
        },
        {
         "name": "Score",
         "dtype": "int64",
         "stats": {
          "unique_count": 13,
          "nan_count": 0,
          "min": "556",
          "max": "806",
          "histogram": [
           {
            "bin_start": 556,
            "bin_end": 581,
            "count": 3
           },
           {
            "bin_start": 581,
            "bin_end": 606,
            "count": 1
           },
           {
            "bin_start": 606,
            "bin_end": 631,
            "count": 3
           },
           {
            "bin_start": 631,
            "bin_end": 656,
            "count": 0
           },
           {
            "bin_start": 656,
            "bin_end": 681,
            "count": 3
           },
           {
            "bin_start": 681,
            "bin_end": 706,
            "count": 0
           },
           {
            "bin_start": 706,
            "bin_end": 731,
            "count": 0
           },
           {
            "bin_start": 731,
            "bin_end": 756,
            "count": 0
           },
           {
            "bin_start": 756,
            "bin_end": 781,
            "count": 1
           },
           {
            "bin_start": 781,
            "bin_end": 806,
            "count": 2
           }
          ]
         }
        },
        {
         "name": "application_date_year",
         "dtype": "int64",
         "stats": {
          "unique_count": 2,
          "nan_count": 0,
          "min": "2011",
          "max": "2012",
          "histogram": [
           {
            "bin_start": 2011,
            "bin_end": 2011.1,
            "count": 5
           },
           {
            "bin_start": 2011.1,
            "bin_end": 2011.2,
            "count": 0
           },
           {
            "bin_start": 2011.2,
            "bin_end": 2011.3,
            "count": 0
           },
           {
            "bin_start": 2011.3,
            "bin_end": 2011.4,
            "count": 0
           },
           {
            "bin_start": 2011.4,
            "bin_end": 2011.5,
            "count": 0
           },
           {
            "bin_start": 2011.5,
            "bin_end": 2011.6,
            "count": 0
           },
           {
            "bin_start": 2011.6,
            "bin_end": 2011.7,
            "count": 0
           },
           {
            "bin_start": 2011.7,
            "bin_end": 2011.8,
            "count": 0
           },
           {
            "bin_start": 2011.8,
            "bin_end": 2011.9,
            "count": 0
           },
           {
            "bin_start": 2011.9,
            "bin_end": 2012,
            "count": 8
           }
          ]
         }
        },
        {
         "name": "application_date_month",
         "dtype": "int64",
         "stats": {
          "unique_count": 12,
          "nan_count": 0,
          "min": "1",
          "max": "12",
          "histogram": [
           {
            "bin_start": 1,
            "bin_end": 2.1,
            "count": 2
           },
           {
            "bin_start": 2.1,
            "bin_end": 3.2,
            "count": 1
           },
           {
            "bin_start": 3.2,
            "bin_end": 4.300000000000001,
            "count": 1
           },
           {
            "bin_start": 4.300000000000001,
            "bin_end": 5.4,
            "count": 1
           },
           {
            "bin_start": 5.4,
            "bin_end": 6.5,
            "count": 1
           },
           {
            "bin_start": 6.5,
            "bin_end": 7.6000000000000005,
            "count": 1
           },
           {
            "bin_start": 7.6000000000000005,
            "bin_end": 8.700000000000001,
            "count": 2
           },
           {
            "bin_start": 8.700000000000001,
            "bin_end": 9.8,
            "count": 1
           },
           {
            "bin_start": 9.8,
            "bin_end": 10.9,
            "count": 1
           },
           {
            "bin_start": 10.9,
            "bin_end": 12,
            "count": 2
           }
          ]
         }
        },
        {
         "name": "_deepnote_index_column",
         "dtype": "int64"
        }
       ],
       "rows": [
        {
         "CustomerId": 15907276,
         "Date": "2011-09",
         "Score": 562,
         "application_date_year": 2011,
         "application_date_month": 9,
         "_deepnote_index_column": 1
        },
        {
         "CustomerId": 15907276,
         "Date": "2012-01",
         "Score": 593,
         "application_date_year": 2012,
         "application_date_month": 1,
         "_deepnote_index_column": 351557
        },
        {
         "CustomerId": 15907276,
         "Date": "2011-11",
         "Score": 675,
         "application_date_year": 2011,
         "application_date_month": 11,
         "_deepnote_index_column": 762892
        },
        {
         "CustomerId": 15907276,
         "Date": "2012-06",
         "Score": 617,
         "application_date_year": 2012,
         "application_date_month": 6,
         "_deepnote_index_column": 877831
        },
        {
         "CustomerId": 15907276,
         "Date": "2012-02",
         "Score": 666,
         "application_date_year": 2012,
         "application_date_month": 2,
         "_deepnote_index_column": 1525837
        },
        {
         "CustomerId": 15907276,
         "Date": "2012-04",
         "Score": 768,
         "application_date_year": 2012,
         "application_date_month": 4,
         "_deepnote_index_column": 1806594
        },
        {
         "CustomerId": 15907276,
         "Date": "2011-08",
         "Score": 806,
         "application_date_year": 2011,
         "application_date_month": 8,
         "_deepnote_index_column": 1866637
        },
        {
         "CustomerId": 15907276,
         "Date": "2011-12",
         "Score": 624,
         "application_date_year": 2011,
         "application_date_month": 12,
         "_deepnote_index_column": 3540405
        },
        {
         "CustomerId": 15907276,
         "Date": "2012-08",
         "Score": 795,
         "application_date_year": 2012,
         "application_date_month": 8,
         "_deepnote_index_column": 5371491
        },
        {
         "CustomerId": 15907276,
         "Date": "2011-10",
         "Score": 613,
         "application_date_year": 2011,
         "application_date_month": 10,
         "_deepnote_index_column": 11381537
        }
       ]
      },
      "text/plain": "          CustomerId     Date  Score  application_date_year  \\\n1           15907276  2011-09    562                   2011   \n351557      15907276  2012-01    593                   2012   \n762892      15907276  2011-11    675                   2011   \n877831      15907276  2012-06    617                   2012   \n1525837     15907276  2012-02    666                   2012   \n1806594     15907276  2012-04    768                   2012   \n1866637     15907276  2011-08    806                   2011   \n3540405     15907276  2011-12    624                   2011   \n5371491     15907276  2012-08    795                   2012   \n11381537    15907276  2011-10    613                   2011   \n11732255    15907276  2012-05    573                   2012   \n13697960    15907276  2012-03    679                   2012   \n14647394    15907276  2012-07    556                   2012   \n\n          application_date_month  \n1                              9  \n351557                         1  \n762892                        11  \n877831                         6  \n1525837                        2  \n1806594                        4  \n1866637                        8  \n3540405                       12  \n5371491                        8  \n11381537                      10  \n11732255                       5  \n13697960                       3  \n14647394                       7  ",
      "text/html": "<div>\n<style scoped>\n    .dataframe tbody tr th:only-of-type {\n        vertical-align: middle;\n    }\n\n    .dataframe tbody tr th {\n        vertical-align: top;\n    }\n\n    .dataframe thead th {\n        text-align: right;\n    }\n</style>\n<table border=\"1\" class=\"dataframe\">\n  <thead>\n    <tr style=\"text-align: right;\">\n      <th></th>\n      <th>CustomerId</th>\n      <th>Date</th>\n      <th>Score</th>\n      <th>application_date_year</th>\n      <th>application_date_month</th>\n    </tr>\n  </thead>\n  <tbody>\n    <tr>\n      <th>1</th>\n      <td>15907276</td>\n      <td>2011-09</td>\n      <td>562</td>\n      <td>2011</td>\n      <td>9</td>\n    </tr>\n    <tr>\n      <th>351557</th>\n      <td>15907276</td>\n      <td>2012-01</td>\n      <td>593</td>\n      <td>2012</td>\n      <td>1</td>\n    </tr>\n    <tr>\n      <th>762892</th>\n      <td>15907276</td>\n      <td>2011-11</td>\n      <td>675</td>\n      <td>2011</td>\n      <td>11</td>\n    </tr>\n    <tr>\n      <th>877831</th>\n      <td>15907276</td>\n      <td>2012-06</td>\n      <td>617</td>\n      <td>2012</td>\n      <td>6</td>\n    </tr>\n    <tr>\n      <th>1525837</th>\n      <td>15907276</td>\n      <td>2012-02</td>\n      <td>666</td>\n      <td>2012</td>\n      <td>2</td>\n    </tr>\n    <tr>\n      <th>1806594</th>\n      <td>15907276</td>\n      <td>2012-04</td>\n      <td>768</td>\n      <td>2012</td>\n      <td>4</td>\n    </tr>\n    <tr>\n      <th>1866637</th>\n      <td>15907276</td>\n      <td>2011-08</td>\n      <td>806</td>\n      <td>2011</td>\n      <td>8</td>\n    </tr>\n    <tr>\n      <th>3540405</th>\n      <td>15907276</td>\n      <td>2011-12</td>\n      <td>624</td>\n      <td>2011</td>\n      <td>12</td>\n    </tr>\n    <tr>\n      <th>5371491</th>\n      <td>15907276</td>\n      <td>2012-08</td>\n      <td>795</td>\n      <td>2012</td>\n      <td>8</td>\n    </tr>\n    <tr>\n      <th>11381537</th>\n      <td>15907276</td>\n      <td>2011-10</td>\n      <td>613</td>\n      <td>2011</td>\n      <td>10</td>\n    </tr>\n    <tr>\n      <th>11732255</th>\n      <td>15907276</td>\n      <td>2012-05</td>\n      <td>573</td>\n      <td>2012</td>\n      <td>5</td>\n    </tr>\n    <tr>\n      <th>13697960</th>\n      <td>15907276</td>\n      <td>2012-03</td>\n      <td>679</td>\n      <td>2012</td>\n      <td>3</td>\n    </tr>\n    <tr>\n      <th>14647394</th>\n      <td>15907276</td>\n      <td>2012-07</td>\n      <td>556</td>\n      <td>2012</td>\n      <td>7</td>\n    </tr>\n  </tbody>\n</table>\n</div>"
     },
     "metadata": {}
    }
   ]
  },
  {
   "cell_type": "code",
   "metadata": {
    "tags": [],
    "deepnote_to_be_reexecuted": false,
    "source_hash": "715308c4",
    "execution_start": 1643924431230,
    "execution_millis": 6900,
    "deepnote_output_heights": [
     21.1875
    ],
    "cell_id": "00037-6ef9f010-e6b1-4235-b930-11bf194546a1",
    "deepnote_cell_type": "code"
   },
   "source": "clients_products_score = pd.merge(clients_and_products, credit_score, \n        on=['CustomerId', 'application_date_year', 'application_date_month'], \n        how='inner')",
   "execution_count": null,
   "outputs": []
  },
  {
   "cell_type": "code",
   "metadata": {
    "tags": [],
    "deepnote_to_be_reexecuted": false,
    "source_hash": "7d16d89c",
    "execution_start": 1643924585881,
    "execution_millis": 7155,
    "cell_id": "00038-453c87e4-8cf2-452d-92d2-1a361008f3ab",
    "deepnote_cell_type": "code"
   },
   "source": "transactions = pd.read_csv(DATA_RAW_DIR+'/transactions_table.txt')",
   "execution_count": null,
   "outputs": []
  },
  {
   "cell_type": "code",
   "metadata": {
    "tags": [],
    "deepnote_to_be_reexecuted": false,
    "source_hash": "35b99826",
    "execution_start": 1643901025198,
    "execution_millis": 12,
    "cell_id": "00039-bc7003ba-7bf3-4c28-afaa-8f0cf9465e71",
    "deepnote_cell_type": "code"
   },
   "source": "transactions.head()",
   "execution_count": null,
   "outputs": [
    {
     "output_type": "execute_result",
     "execution_count": 8,
     "data": {
      "application/vnd.deepnote.dataframe.v3+json": {
       "column_count": 3,
       "row_count": 5,
       "columns": [
        {
         "name": "CustomerId",
         "dtype": "int64",
         "stats": {
          "unique_count": 5,
          "nan_count": 0,
          "min": "14847291",
          "max": "15653320",
          "histogram": [
           {
            "bin_start": 14847291,
            "bin_end": 14927893.9,
            "count": 1
           },
           {
            "bin_start": 14927893.9,
            "bin_end": 15008496.8,
            "count": 1
           },
           {
            "bin_start": 15008496.8,
            "bin_end": 15089099.7,
            "count": 0
           },
           {
            "bin_start": 15089099.7,
            "bin_end": 15169702.6,
            "count": 0
           },
           {
            "bin_start": 15169702.6,
            "bin_end": 15250305.5,
            "count": 1
           },
           {
            "bin_start": 15250305.5,
            "bin_end": 15330908.4,
            "count": 0
           },
           {
            "bin_start": 15330908.4,
            "bin_end": 15411511.3,
            "count": 1
           },
           {
            "bin_start": 15411511.3,
            "bin_end": 15492114.2,
            "count": 0
           },
           {
            "bin_start": 15492114.2,
            "bin_end": 15572717.1,
            "count": 0
           },
           {
            "bin_start": 15572717.1,
            "bin_end": 15653320,
            "count": 1
           }
          ]
         }
        },
        {
         "name": "Transaction",
         "dtype": "object",
         "stats": {
          "unique_count": 2,
          "nan_count": 0,
          "categories": [
           {
            "name": "trans_3",
            "count": 3
           },
           {
            "name": "trans_4",
            "count": 2
           }
          ]
         }
        },
        {
         "name": "Value",
         "dtype": "float64",
         "stats": {
          "unique_count": 5,
          "nan_count": 0,
          "min": "-294.03",
          "max": "2299.07",
          "histogram": [
           {
            "bin_start": -294.03,
            "bin_end": -34.719999999999914,
            "count": 1
           },
           {
            "bin_start": -34.719999999999914,
            "bin_end": 224.59000000000015,
            "count": 1
           },
           {
            "bin_start": 224.59000000000015,
            "bin_end": 483.9000000000002,
            "count": 0
           },
           {
            "bin_start": 483.9000000000002,
            "bin_end": 743.2100000000003,
            "count": 0
           },
           {
            "bin_start": 743.2100000000003,
            "bin_end": 1002.5200000000002,
            "count": 0
           },
           {
            "bin_start": 1002.5200000000002,
            "bin_end": 1261.8300000000004,
            "count": 0
           },
           {
            "bin_start": 1261.8300000000004,
            "bin_end": 1521.1400000000006,
            "count": 1
           },
           {
            "bin_start": 1521.1400000000006,
            "bin_end": 1780.4500000000005,
            "count": 1
           },
           {
            "bin_start": 1780.4500000000005,
            "bin_end": 2039.7600000000004,
            "count": 0
           },
           {
            "bin_start": 2039.7600000000004,
            "bin_end": 2299.07,
            "count": 1
           }
          ]
         }
        },
        {
         "name": "_deepnote_index_column",
         "dtype": "int64"
        }
       ],
       "rows": [
        {
         "CustomerId": 15653320,
         "Transaction": "trans_4",
         "Value": -294.03,
         "_deepnote_index_column": 0
        },
        {
         "CustomerId": 14955663,
         "Transaction": "trans_3",
         "Value": 1297.97,
         "_deepnote_index_column": 1
        },
        {
         "CustomerId": 15218505,
         "Transaction": "trans_4",
         "Value": 191.28,
         "_deepnote_index_column": 2
        },
        {
         "CustomerId": 15391934,
         "Transaction": "trans_3",
         "Value": 2299.07,
         "_deepnote_index_column": 3
        },
        {
         "CustomerId": 14847291,
         "Transaction": "trans_3",
         "Value": 1612.1,
         "_deepnote_index_column": 4
        }
       ]
      },
      "text/plain": "   CustomerId Transaction    Value\n0    15653320     trans_4  -294.03\n1    14955663     trans_3  1297.97\n2    15218505     trans_4   191.28\n3    15391934     trans_3  2299.07\n4    14847291     trans_3  1612.10",
      "text/html": "<div>\n<style scoped>\n    .dataframe tbody tr th:only-of-type {\n        vertical-align: middle;\n    }\n\n    .dataframe tbody tr th {\n        vertical-align: top;\n    }\n\n    .dataframe thead th {\n        text-align: right;\n    }\n</style>\n<table border=\"1\" class=\"dataframe\">\n  <thead>\n    <tr style=\"text-align: right;\">\n      <th></th>\n      <th>CustomerId</th>\n      <th>Transaction</th>\n      <th>Value</th>\n    </tr>\n  </thead>\n  <tbody>\n    <tr>\n      <th>0</th>\n      <td>15653320</td>\n      <td>trans_4</td>\n      <td>-294.03</td>\n    </tr>\n    <tr>\n      <th>1</th>\n      <td>14955663</td>\n      <td>trans_3</td>\n      <td>1297.97</td>\n    </tr>\n    <tr>\n      <th>2</th>\n      <td>15218505</td>\n      <td>trans_4</td>\n      <td>191.28</td>\n    </tr>\n    <tr>\n      <th>3</th>\n      <td>15391934</td>\n      <td>trans_3</td>\n      <td>2299.07</td>\n    </tr>\n    <tr>\n      <th>4</th>\n      <td>14847291</td>\n      <td>trans_3</td>\n      <td>1612.10</td>\n    </tr>\n  </tbody>\n</table>\n</div>"
     },
     "metadata": {}
    }
   ]
  },
  {
   "cell_type": "code",
   "metadata": {
    "tags": [],
    "deepnote_to_be_reexecuted": false,
    "source_hash": "7cc34d75",
    "execution_start": 1643924916545,
    "execution_millis": 1328,
    "cell_id": "00040-7d49ce29-308e-408d-bd6a-35afca059841",
    "deepnote_cell_type": "code"
   },
   "source": "transactions_grouped = transactions.groupby(['CustomerId']).sum().reset_index()",
   "execution_count": null,
   "outputs": []
  },
  {
   "cell_type": "code",
   "metadata": {
    "tags": [],
    "deepnote_to_be_reexecuted": false,
    "source_hash": "d6c8f774",
    "execution_start": 1643925043009,
    "execution_millis": 249,
    "cell_id": "00041-bba1601c-2c06-4e6c-b8fc-eff0dc8ade2b",
    "deepnote_cell_type": "code"
   },
   "source": "clients_products_score_transactions = pd.merge(clients_products_score, transactions_grouped, \n        on='CustomerId', \n        how='inner')",
   "execution_count": null,
   "outputs": []
  },
  {
   "cell_type": "code",
   "metadata": {
    "tags": [],
    "deepnote_to_be_reexecuted": false,
    "source_hash": "9bb664ec",
    "execution_start": 1643926184220,
    "execution_millis": 1775,
    "cell_id": "00042-84a7c54d-521a-4884-97df-79e86dfa78fc",
    "deepnote_cell_type": "code"
   },
   "source": "elegible = []\n\ndays_elegible = (clients_products_score_transactions['exit_date'] - clients_products_score_transactions['application_date']).dt.days\n\nfor i in range(len(days_elegible)):\n    if days_elegible[i] >= 2*365:\n        elegible.append(1)\n    elif days_elegible[i] == np.NaN:\n        elegible.append(1)\n    else:\n        elegible.append(0)",
   "execution_count": null,
   "outputs": []
  },
  {
   "cell_type": "code",
   "metadata": {
    "tags": [],
    "deepnote_to_be_reexecuted": false,
    "source_hash": "f4e2efb",
    "execution_start": 1643926287613,
    "execution_millis": 1,
    "deepnote_output_heights": [
     611
    ],
    "cell_id": "00043-3b9046b1-3cea-4757-863e-f3632961d919",
    "deepnote_cell_type": "code"
   },
   "source": "clients_products_score_transactions['eligible'] = elegible",
   "execution_count": null,
   "outputs": []
  },
  {
   "cell_type": "code",
   "metadata": {
    "tags": [],
    "deepnote_to_be_reexecuted": false,
    "source_hash": "ff143fe",
    "execution_start": 1643926427444,
    "execution_millis": 18,
    "cell_id": "00044-7e128d5c-d6e0-4429-89cc-049b90013bef",
    "deepnote_cell_type": "code"
   },
   "source": "import math",
   "execution_count": null,
   "outputs": []
  },
  {
   "cell_type": "code",
   "metadata": {
    "tags": [],
    "deepnote_to_be_reexecuted": false,
    "source_hash": "5154e6ba",
    "execution_start": 1643926823521,
    "execution_millis": 1,
    "deepnote_output_heights": [
     232.3125
    ],
    "cell_id": "00045-6a182c04-93c6-495d-a93a-1afe40526d4a",
    "deepnote_cell_type": "code"
   },
   "source": "client_age = (clients_products_score_transactions['application_date'] - clients_products_score_transactions['birth_date']).dt.days / 365",
   "execution_count": null,
   "outputs": []
  },
  {
   "cell_type": "code",
   "metadata": {
    "tags": [],
    "deepnote_to_be_reexecuted": false,
    "source_hash": "dc0405b0",
    "execution_start": 1643926870101,
    "execution_millis": 27,
    "deepnote_output_heights": [
     611
    ],
    "cell_id": "00046-fe1d7f39-666e-4fe7-b1d7-c95e163557f8",
    "deepnote_cell_type": "code"
   },
   "source": "client_age = [math.floor(age) for age in client_age]",
   "execution_count": null,
   "outputs": []
  },
  {
   "cell_type": "code",
   "metadata": {
    "tags": [],
    "deepnote_to_be_reexecuted": false,
    "source_hash": "ef212864",
    "execution_start": 1643926903186,
    "execution_millis": 45,
    "cell_id": "00047-1c38fb31-60e3-4974-a71d-28e20ecfd278",
    "deepnote_cell_type": "code"
   },
   "source": "clients_products_score_transactions['client_age'] = client_age",
   "execution_count": null,
   "outputs": []
  },
  {
   "cell_type": "code",
   "metadata": {
    "tags": [],
    "deepnote_to_be_reexecuted": false,
    "source_hash": "61bb41c9",
    "execution_start": 1643926923651,
    "execution_millis": 58,
    "cell_id": "00048-fba6a33b-88bf-4ff8-801c-0e5bb7537999",
    "deepnote_cell_type": "code"
   },
   "source": "clients_products_score_transactions.head()",
   "execution_count": null,
   "outputs": [
    {
     "output_type": "execute_result",
     "execution_count": 66,
     "data": {
      "application/vnd.deepnote.dataframe.v3+json": {
       "column_count": 26,
       "row_count": 5,
       "columns": [
        {
         "name": "CustomerId",
         "dtype": "int64",
         "stats": {
          "unique_count": 4,
          "nan_count": 0,
          "min": "14648573",
          "max": "15982728",
          "histogram": [
           {
            "bin_start": 14648573,
            "bin_end": 14781988.5,
            "count": 1
           },
           {
            "bin_start": 14781988.5,
            "bin_end": 14915404,
            "count": 0
           },
           {
            "bin_start": 14915404,
            "bin_end": 15048819.5,
            "count": 0
           },
           {
            "bin_start": 15048819.5,
            "bin_end": 15182235,
            "count": 2
           },
           {
            "bin_start": 15182235,
            "bin_end": 15315650.5,
            "count": 0
           },
           {
            "bin_start": 15315650.5,
            "bin_end": 15449066,
            "count": 1
           },
           {
            "bin_start": 15449066,
            "bin_end": 15582481.5,
            "count": 0
           },
           {
            "bin_start": 15582481.5,
            "bin_end": 15715897,
            "count": 0
           },
           {
            "bin_start": 15715897,
            "bin_end": 15849312.5,
            "count": 0
           },
           {
            "bin_start": 15849312.5,
            "bin_end": 15982728,
            "count": 1
           }
          ]
         }
        },
        {
         "name": "Surname",
         "dtype": "object",
         "stats": {
          "unique_count": 4,
          "nan_count": 0,
          "categories": [
           {
            "name": "LABIANCA",
            "count": 2
           },
           {
            "name": "NALLS",
            "count": 1
           },
           {
            "name": "2 others",
            "count": 2
           }
          ]
         }
        },
        {
         "name": "Geography",
         "dtype": "object",
         "stats": {
          "unique_count": 3,
          "nan_count": 0,
          "categories": [
           {
            "name": "Spain",
            "count": 3
           },
           {
            "name": "France",
            "count": 1
           },
           {
            "name": "Germany",
            "count": 1
           }
          ]
         }
        },
        {
         "name": "Gender",
         "dtype": "object",
         "stats": {
          "unique_count": 1,
          "nan_count": 0,
          "categories": [
           {
            "name": "Male",
            "count": 5
           }
          ]
         }
        },
        {
         "name": "HasCrCard",
         "dtype": "float64",
         "stats": {
          "unique_count": 2,
          "nan_count": 0,
          "min": "0.0",
          "max": "1.0",
          "histogram": [
           {
            "bin_start": 0,
            "bin_end": 0.1,
            "count": 1
           },
           {
            "bin_start": 0.1,
            "bin_end": 0.2,
            "count": 0
           },
           {
            "bin_start": 0.2,
            "bin_end": 0.30000000000000004,
            "count": 0
           },
           {
            "bin_start": 0.30000000000000004,
            "bin_end": 0.4,
            "count": 0
           },
           {
            "bin_start": 0.4,
            "bin_end": 0.5,
            "count": 0
           },
           {
            "bin_start": 0.5,
            "bin_end": 0.6000000000000001,
            "count": 0
           },
           {
            "bin_start": 0.6000000000000001,
            "bin_end": 0.7000000000000001,
            "count": 0
           },
           {
            "bin_start": 0.7000000000000001,
            "bin_end": 0.8,
            "count": 0
           },
           {
            "bin_start": 0.8,
            "bin_end": 0.9,
            "count": 0
           },
           {
            "bin_start": 0.9,
            "bin_end": 1,
            "count": 4
           }
          ]
         }
        },
        {
         "name": "IsActiveMember",
         "dtype": "float64",
         "stats": {
          "unique_count": 2,
          "nan_count": 0,
          "min": "0.0",
          "max": "1.0",
          "histogram": [
           {
            "bin_start": 0,
            "bin_end": 0.1,
            "count": 2
           },
           {
            "bin_start": 0.1,
            "bin_end": 0.2,
            "count": 0
           },
           {
            "bin_start": 0.2,
            "bin_end": 0.30000000000000004,
            "count": 0
           },
           {
            "bin_start": 0.30000000000000004,
            "bin_end": 0.4,
            "count": 0
           },
           {
            "bin_start": 0.4,
            "bin_end": 0.5,
            "count": 0
           },
           {
            "bin_start": 0.5,
            "bin_end": 0.6000000000000001,
            "count": 0
           },
           {
            "bin_start": 0.6000000000000001,
            "bin_end": 0.7000000000000001,
            "count": 0
           },
           {
            "bin_start": 0.7000000000000001,
            "bin_end": 0.8,
            "count": 0
           },
           {
            "bin_start": 0.8,
            "bin_end": 0.9,
            "count": 0
           },
           {
            "bin_start": 0.9,
            "bin_end": 1,
            "count": 3
           }
          ]
         }
        },
        {
         "name": "EstimatedSalary",
         "dtype": "float64",
         "stats": {
          "unique_count": 4,
          "nan_count": 0,
          "min": "2612.65",
          "max": "140827.98",
          "histogram": [
           {
            "bin_start": 2612.65,
            "bin_end": 16434.183,
            "count": 2
           },
           {
            "bin_start": 16434.183,
            "bin_end": 30255.716000000004,
            "count": 0
           },
           {
            "bin_start": 30255.716000000004,
            "bin_end": 44077.249,
            "count": 0
           },
           {
            "bin_start": 44077.249,
            "bin_end": 57898.78200000001,
            "count": 0
           },
           {
            "bin_start": 57898.78200000001,
            "bin_end": 71720.315,
            "count": 1
           },
           {
            "bin_start": 71720.315,
            "bin_end": 85541.848,
            "count": 0
           },
           {
            "bin_start": 85541.848,
            "bin_end": 99363.38100000001,
            "count": 0
           },
           {
            "bin_start": 99363.38100000001,
            "bin_end": 113184.914,
            "count": 0
           },
           {
            "bin_start": 113184.914,
            "bin_end": 127006.447,
            "count": 0
           },
           {
            "bin_start": 127006.447,
            "bin_end": 140827.98,
            "count": 2
           }
          ]
         }
        },
        {
         "name": "application_date",
         "dtype": "datetime64[ns]",
         "stats": {
          "unique_count": 4,
          "nan_count": 0,
          "min": "2018-02-02 00:00:00",
          "max": "2019-06-19 00:00:00",
          "histogram": [
           {
            "bin_start": 1517529600000000000,
            "bin_end": 1521866880000000000,
            "count": 3
           },
           {
            "bin_start": 1521866880000000000,
            "bin_end": 1526204160000000000,
            "count": 0
           },
           {
            "bin_start": 1526204160000000000,
            "bin_end": 1530541440000000000,
            "count": 1
           },
           {
            "bin_start": 1530541440000000000,
            "bin_end": 1534878720000000000,
            "count": 0
           },
           {
            "bin_start": 1534878720000000000,
            "bin_end": 1539216000000000000,
            "count": 0
           },
           {
            "bin_start": 1539216000000000000,
            "bin_end": 1543553280000000000,
            "count": 0
           },
           {
            "bin_start": 1543553280000000000,
            "bin_end": 1547890560000000000,
            "count": 0
           },
           {
            "bin_start": 1547890560000000000,
            "bin_end": 1552227840000000000,
            "count": 0
           },
           {
            "bin_start": 1552227840000000000,
            "bin_end": 1556565120000000000,
            "count": 0
           },
           {
            "bin_start": 1556565120000000000,
            "bin_end": 1560902400000000000,
            "count": 1
           }
          ]
         }
        },
        {
         "name": "exit_date",
         "dtype": "datetime64[ns]",
         "stats": {
          "unique_count": 2,
          "nan_count": 2,
          "min": "2019-06-01 00:00:00",
          "max": "2019-06-11 00:00:00",
          "histogram": [
           {
            "bin_start": 1559347200000000000,
            "bin_end": 1559433600000000000,
            "count": 1
           },
           {
            "bin_start": 1559433600000000000,
            "bin_end": 1559520000000000000,
            "count": 0
           },
           {
            "bin_start": 1559520000000000000,
            "bin_end": 1559606400000000000,
            "count": 0
           },
           {
            "bin_start": 1559606400000000000,
            "bin_end": 1559692800000000000,
            "count": 0
           },
           {
            "bin_start": 1559692800000000000,
            "bin_end": 1559779200000000000,
            "count": 0
           },
           {
            "bin_start": 1559779200000000000,
            "bin_end": 1559865600000000000,
            "count": 0
           },
           {
            "bin_start": 1559865600000000000,
            "bin_end": 1559952000000000000,
            "count": 0
           },
           {
            "bin_start": 1559952000000000000,
            "bin_end": 1560038400000000000,
            "count": 0
           },
           {
            "bin_start": 1560038400000000000,
            "bin_end": 1560124800000000000,
            "count": 0
           },
           {
            "bin_start": 1560124800000000000,
            "bin_end": 1560211200000000000,
            "count": 2
           }
          ]
         }
        },
        {
         "name": "birth_date",
         "dtype": "datetime64[ns]",
         "stats": {
          "unique_count": 4,
          "nan_count": 0,
          "min": "1972-12-18 00:00:00",
          "max": "1994-07-22 00:00:00",
          "histogram": [
           {
            "bin_start": 93484800000000000,
            "bin_end": 161619840000000000,
            "count": 3
           },
           {
            "bin_start": 161619840000000000,
            "bin_end": 229754880000000000,
            "count": 0
           },
           {
            "bin_start": 229754880000000000,
            "bin_end": 297889920000000000,
            "count": 1
           },
           {
            "bin_start": 297889920000000000,
            "bin_end": 366024960000000000,
            "count": 0
           },
           {
            "bin_start": 366024960000000000,
            "bin_end": 434160000000000000,
            "count": 0
           },
           {
            "bin_start": 434160000000000000,
            "bin_end": 502295040000000000,
            "count": 0
           },
           {
            "bin_start": 502295040000000000,
            "bin_end": 570430080000000000,
            "count": 0
           },
           {
            "bin_start": 570430080000000000,
            "bin_end": 638565120000000000,
            "count": 0
           },
           {
            "bin_start": 638565120000000000,
            "bin_end": 706700160000000000,
            "count": 0
           },
           {
            "bin_start": 706700160000000000,
            "bin_end": 774835200000000000,
            "count": 1
           }
          ]
         }
        },
        {
         "name": "application_date_year",
         "dtype": "int64",
         "stats": {
          "unique_count": 2,
          "nan_count": 0,
          "min": "2018",
          "max": "2019",
          "histogram": [
           {
            "bin_start": 2018,
            "bin_end": 2018.1,
            "count": 4
           },
           {
            "bin_start": 2018.1,
            "bin_end": 2018.2,
            "count": 0
           },
           {
            "bin_start": 2018.2,
            "bin_end": 2018.3,
            "count": 0
           },
           {
            "bin_start": 2018.3,
            "bin_end": 2018.4,
            "count": 0
           },
           {
            "bin_start": 2018.4,
            "bin_end": 2018.5,
            "count": 0
           },
           {
            "bin_start": 2018.5,
            "bin_end": 2018.6,
            "count": 0
           },
           {
            "bin_start": 2018.6,
            "bin_end": 2018.7,
            "count": 0
           },
           {
            "bin_start": 2018.7,
            "bin_end": 2018.8,
            "count": 0
           },
           {
            "bin_start": 2018.8,
            "bin_end": 2018.9,
            "count": 0
           },
           {
            "bin_start": 2018.9,
            "bin_end": 2019,
            "count": 1
           }
          ]
         }
        },
        {
         "name": "application_date_month",
         "dtype": "int64",
         "stats": {
          "unique_count": 2,
          "nan_count": 0,
          "min": "2",
          "max": "6",
          "histogram": [
           {
            "bin_start": 2,
            "bin_end": 2.4,
            "count": 3
           },
           {
            "bin_start": 2.4,
            "bin_end": 2.8,
            "count": 0
           },
           {
            "bin_start": 2.8,
            "bin_end": 3.2,
            "count": 0
           },
           {
            "bin_start": 3.2,
            "bin_end": 3.6,
            "count": 0
           },
           {
            "bin_start": 3.6,
            "bin_end": 4,
            "count": 0
           },
           {
            "bin_start": 4,
            "bin_end": 4.4,
            "count": 0
           },
           {
            "bin_start": 4.4,
            "bin_end": 4.800000000000001,
            "count": 0
           },
           {
            "bin_start": 4.800000000000001,
            "bin_end": 5.2,
            "count": 0
           },
           {
            "bin_start": 5.2,
            "bin_end": 5.6,
            "count": 0
           },
           {
            "bin_start": 5.6,
            "bin_end": 6,
            "count": 2
           }
          ]
         }
        },
        {
         "name": "application_date_day",
         "dtype": "int64",
         "stats": {
          "unique_count": 4,
          "nan_count": 0,
          "min": "2",
          "max": "22",
          "histogram": [
           {
            "bin_start": 2,
            "bin_end": 4,
            "count": 1
           },
           {
            "bin_start": 4,
            "bin_end": 6,
            "count": 0
           },
           {
            "bin_start": 6,
            "bin_end": 8,
            "count": 1
           },
           {
            "bin_start": 8,
            "bin_end": 10,
            "count": 0
           },
           {
            "bin_start": 10,
            "bin_end": 12,
            "count": 0
           },
           {
            "bin_start": 12,
            "bin_end": 14,
            "count": 0
           },
           {
            "bin_start": 14,
            "bin_end": 16,
            "count": 0
           },
           {
            "bin_start": 16,
            "bin_end": 18,
            "count": 0
           },
           {
            "bin_start": 18,
            "bin_end": 20,
            "count": 1
           },
           {
            "bin_start": 20,
            "bin_end": 22,
            "count": 2
           }
          ]
         }
        },
        {
         "name": "exit_date_year",
         "dtype": "float64",
         "stats": {
          "unique_count": 1,
          "nan_count": 2,
          "min": "2019.0",
          "max": "2019.0",
          "histogram": [
           {
            "bin_start": 2018.5,
            "bin_end": 2018.6,
            "count": 0
           },
           {
            "bin_start": 2018.6,
            "bin_end": 2018.7,
            "count": 0
           },
           {
            "bin_start": 2018.7,
            "bin_end": 2018.8,
            "count": 0
           },
           {
            "bin_start": 2018.8,
            "bin_end": 2018.9,
            "count": 0
           },
           {
            "bin_start": 2018.9,
            "bin_end": 2019,
            "count": 0
           },
           {
            "bin_start": 2019,
            "bin_end": 2019.1,
            "count": 3
           },
           {
            "bin_start": 2019.1,
            "bin_end": 2019.2,
            "count": 0
           },
           {
            "bin_start": 2019.2,
            "bin_end": 2019.3,
            "count": 0
           },
           {
            "bin_start": 2019.3,
            "bin_end": 2019.4,
            "count": 0
           },
           {
            "bin_start": 2019.4,
            "bin_end": 2019.5,
            "count": 0
           }
          ]
         }
        },
        {
         "name": "exit_date_month",
         "dtype": "float64",
         "stats": {
          "unique_count": 1,
          "nan_count": 2,
          "min": "6.0",
          "max": "6.0",
          "histogram": [
           {
            "bin_start": 5.5,
            "bin_end": 5.6,
            "count": 0
           },
           {
            "bin_start": 5.6,
            "bin_end": 5.7,
            "count": 0
           },
           {
            "bin_start": 5.7,
            "bin_end": 5.8,
            "count": 0
           },
           {
            "bin_start": 5.8,
            "bin_end": 5.9,
            "count": 0
           },
           {
            "bin_start": 5.9,
            "bin_end": 6,
            "count": 0
           },
           {
            "bin_start": 6,
            "bin_end": 6.1,
            "count": 3
           },
           {
            "bin_start": 6.1,
            "bin_end": 6.2,
            "count": 0
           },
           {
            "bin_start": 6.2,
            "bin_end": 6.3,
            "count": 0
           },
           {
            "bin_start": 6.3,
            "bin_end": 6.4,
            "count": 0
           },
           {
            "bin_start": 6.4,
            "bin_end": 6.5,
            "count": 0
           }
          ]
         }
        },
        {
         "name": "exit_date_day",
         "dtype": "float64",
         "stats": {
          "unique_count": 2,
          "nan_count": 2,
          "min": "1.0",
          "max": "11.0",
          "histogram": [
           {
            "bin_start": 1,
            "bin_end": 2,
            "count": 1
           },
           {
            "bin_start": 2,
            "bin_end": 3,
            "count": 0
           },
           {
            "bin_start": 3,
            "bin_end": 4,
            "count": 0
           },
           {
            "bin_start": 4,
            "bin_end": 5,
            "count": 0
           },
           {
            "bin_start": 5,
            "bin_end": 6,
            "count": 0
           },
           {
            "bin_start": 6,
            "bin_end": 7,
            "count": 0
           },
           {
            "bin_start": 7,
            "bin_end": 8,
            "count": 0
           },
           {
            "bin_start": 8,
            "bin_end": 9,
            "count": 0
           },
           {
            "bin_start": 9,
            "bin_end": 10,
            "count": 0
           },
           {
            "bin_start": 10,
            "bin_end": 11,
            "count": 2
           }
          ]
         }
        },
        {
         "name": "birth_date_year",
         "dtype": "float64",
         "stats": {
          "unique_count": 4,
          "nan_count": 0,
          "min": "1972.0",
          "max": "1994.0",
          "histogram": [
           {
            "bin_start": 1972,
            "bin_end": 1974.2,
            "count": 3
           },
           {
            "bin_start": 1974.2,
            "bin_end": 1976.4,
            "count": 0
           },
           {
            "bin_start": 1976.4,
            "bin_end": 1978.6,
            "count": 0
           },
           {
            "bin_start": 1978.6,
            "bin_end": 1980.8,
            "count": 1
           },
           {
            "bin_start": 1980.8,
            "bin_end": 1983,
            "count": 0
           },
           {
            "bin_start": 1983,
            "bin_end": 1985.2,
            "count": 0
           },
           {
            "bin_start": 1985.2,
            "bin_end": 1987.4,
            "count": 0
           },
           {
            "bin_start": 1987.4,
            "bin_end": 1989.6,
            "count": 0
           },
           {
            "bin_start": 1989.6,
            "bin_end": 1991.8,
            "count": 0
           },
           {
            "bin_start": 1991.8,
            "bin_end": 1994,
            "count": 1
           }
          ]
         }
        },
        {
         "name": "birth_date_month",
         "dtype": "float64",
         "stats": {
          "unique_count": 3,
          "nan_count": 0,
          "min": "2.0",
          "max": "12.0",
          "histogram": [
           {
            "bin_start": 2,
            "bin_end": 3,
            "count": 1
           },
           {
            "bin_start": 3,
            "bin_end": 4,
            "count": 0
           },
           {
            "bin_start": 4,
            "bin_end": 5,
            "count": 0
           },
           {
            "bin_start": 5,
            "bin_end": 6,
            "count": 0
           },
           {
            "bin_start": 6,
            "bin_end": 7,
            "count": 0
           },
           {
            "bin_start": 7,
            "bin_end": 8,
            "count": 3
           },
           {
            "bin_start": 8,
            "bin_end": 9,
            "count": 0
           },
           {
            "bin_start": 9,
            "bin_end": 10,
            "count": 0
           },
           {
            "bin_start": 10,
            "bin_end": 11,
            "count": 0
           },
           {
            "bin_start": 11,
            "bin_end": 12,
            "count": 1
           }
          ]
         }
        },
        {
         "name": "birth_date_day",
         "dtype": "float64",
         "stats": {
          "unique_count": 3,
          "nan_count": 0,
          "min": "2.0",
          "max": "12.0",
          "histogram": [
           {
            "bin_start": 2,
            "bin_end": 3,
            "count": 1
           },
           {
            "bin_start": 3,
            "bin_end": 4,
            "count": 0
           },
           {
            "bin_start": 4,
            "bin_end": 5,
            "count": 0
           },
           {
            "bin_start": 5,
            "bin_end": 6,
            "count": 0
           },
           {
            "bin_start": 6,
            "bin_end": 7,
            "count": 0
           },
           {
            "bin_start": 7,
            "bin_end": 8,
            "count": 3
           },
           {
            "bin_start": 8,
            "bin_end": 9,
            "count": 0
           },
           {
            "bin_start": 9,
            "bin_end": 10,
            "count": 0
           },
           {
            "bin_start": 10,
            "bin_end": 11,
            "count": 0
           },
           {
            "bin_start": 11,
            "bin_end": 12,
            "count": 1
           }
          ]
         }
        },
        {
         "name": "ContractId",
         "dtype": "object",
         "stats": {
          "unique_count": 4,
          "nan_count": 0,
          "categories": [
           {
            "name": "orIBQM9pK7Z7AYBQok1jypK6t",
            "count": 2
           },
           {
            "name": "WWlyRDX8AsGnWUPYiYGjidGKI",
            "count": 1
           },
           {
            "name": "2 others",
            "count": 2
           }
          ]
         }
        },
        {
         "name": "Products",
         "dtype": "object",
         "stats": {
          "unique_count": 3,
          "nan_count": 0,
          "categories": [
           {
            "name": "Product B",
            "count": 2
           },
           {
            "name": "Product D",
            "count": 2
           },
           {
            "name": "Product A",
            "count": 1
           }
          ]
         }
        },
        {
         "name": "Date",
         "dtype": "object",
         "stats": {
          "unique_count": 3,
          "nan_count": 0,
          "categories": [
           {
            "name": "2018-02",
            "count": 3
           },
           {
            "name": "2019-06",
            "count": 1
           },
           {
            "name": "2018-06",
            "count": 1
           }
          ]
         }
        },
        {
         "name": "Score",
         "dtype": "int64",
         "stats": {
          "unique_count": 4,
          "nan_count": 0,
          "min": "487",
          "max": "706",
          "histogram": [
           {
            "bin_start": 487,
            "bin_end": 508.9,
            "count": 2
           },
           {
            "bin_start": 508.9,
            "bin_end": 530.8,
            "count": 0
           },
           {
            "bin_start": 530.8,
            "bin_end": 552.7,
            "count": 0
           },
           {
            "bin_start": 552.7,
            "bin_end": 574.6,
            "count": 0
           },
           {
            "bin_start": 574.6,
            "bin_end": 596.5,
            "count": 1
           },
           {
            "bin_start": 596.5,
            "bin_end": 618.4,
            "count": 0
           },
           {
            "bin_start": 618.4,
            "bin_end": 640.3,
            "count": 0
           },
           {
            "bin_start": 640.3,
            "bin_end": 662.2,
            "count": 0
           },
           {
            "bin_start": 662.2,
            "bin_end": 684.1,
            "count": 1
           },
           {
            "bin_start": 684.1,
            "bin_end": 706,
            "count": 1
           }
          ]
         }
        },
        {
         "name": "Value",
         "dtype": "float64",
         "stats": {
          "unique_count": 4,
          "nan_count": 0,
          "min": "0.0",
          "max": "119657.24",
          "histogram": [
           {
            "bin_start": 0,
            "bin_end": 11965.724,
            "count": 1
           },
           {
            "bin_start": 11965.724,
            "bin_end": 23931.448,
            "count": 0
           },
           {
            "bin_start": 23931.448,
            "bin_end": 35897.172,
            "count": 0
           },
           {
            "bin_start": 35897.172,
            "bin_end": 47862.896,
            "count": 1
           },
           {
            "bin_start": 47862.896,
            "bin_end": 59828.62,
            "count": 0
           },
           {
            "bin_start": 59828.62,
            "bin_end": 71794.344,
            "count": 0
           },
           {
            "bin_start": 71794.344,
            "bin_end": 83760.068,
            "count": 0
           },
           {
            "bin_start": 83760.068,
            "bin_end": 95725.792,
            "count": 1
           },
           {
            "bin_start": 95725.792,
            "bin_end": 107691.516,
            "count": 0
           },
           {
            "bin_start": 107691.516,
            "bin_end": 119657.24,
            "count": 2
           }
          ]
         }
        },
        {
         "name": "eligible",
         "dtype": "int64",
         "stats": {
          "unique_count": 1,
          "nan_count": 0,
          "min": "0",
          "max": "0",
          "histogram": [
           {
            "bin_start": -0.5,
            "bin_end": -0.4,
            "count": 0
           },
           {
            "bin_start": -0.4,
            "bin_end": -0.3,
            "count": 0
           },
           {
            "bin_start": -0.3,
            "bin_end": -0.19999999999999996,
            "count": 0
           },
           {
            "bin_start": -0.19999999999999996,
            "bin_end": -0.09999999999999998,
            "count": 0
           },
           {
            "bin_start": -0.09999999999999998,
            "bin_end": 0,
            "count": 0
           },
           {
            "bin_start": 0,
            "bin_end": 0.10000000000000009,
            "count": 5
           },
           {
            "bin_start": 0.10000000000000009,
            "bin_end": 0.20000000000000007,
            "count": 0
           },
           {
            "bin_start": 0.20000000000000007,
            "bin_end": 0.30000000000000004,
            "count": 0
           },
           {
            "bin_start": 0.30000000000000004,
            "bin_end": 0.4,
            "count": 0
           },
           {
            "bin_start": 0.4,
            "bin_end": 0.5,
            "count": 0
           }
          ]
         }
        },
        {
         "name": "client_age",
         "dtype": "int64",
         "stats": {
          "unique_count": 4,
          "nan_count": 0,
          "min": "23",
          "max": "45",
          "histogram": [
           {
            "bin_start": 23,
            "bin_end": 25.2,
            "count": 1
           },
           {
            "bin_start": 25.2,
            "bin_end": 27.4,
            "count": 0
           },
           {
            "bin_start": 27.4,
            "bin_end": 29.6,
            "count": 0
           },
           {
            "bin_start": 29.6,
            "bin_end": 31.8,
            "count": 0
           },
           {
            "bin_start": 31.8,
            "bin_end": 34,
            "count": 0
           },
           {
            "bin_start": 34,
            "bin_end": 36.2,
            "count": 0
           },
           {
            "bin_start": 36.2,
            "bin_end": 38.400000000000006,
            "count": 0
           },
           {
            "bin_start": 38.400000000000006,
            "bin_end": 40.6,
            "count": 1
           },
           {
            "bin_start": 40.6,
            "bin_end": 42.8,
            "count": 0
           },
           {
            "bin_start": 42.8,
            "bin_end": 45,
            "count": 3
           }
          ]
         }
        },
        {
         "name": "_deepnote_index_column",
         "dtype": "int64"
        }
       ],
       "rows": [
        {
         "CustomerId": 14648573,
         "Surname": "NALLS",
         "Geography": "Spain",
         "Gender": "Male",
         "HasCrCard": 1,
         "IsActiveMember": 0,
         "EstimatedSalary": 140827.98,
         "application_date": "2019-06-19T00:00:00.000000",
         "exit_date": "NaT",
         "birth_date": "1979-02-27T00:00:00.000000",
         "application_date_year": 2019,
         "application_date_month": 6,
         "application_date_day": 19,
         "exit_date_year": "nan",
         "exit_date_month": "nan",
         "exit_date_day": "nan",
         "birth_date_year": 1979,
         "birth_date_month": 2,
         "birth_date_day": 2,
         "ContractId": "WWlyRDX8AsGnWUPYiYGjidGKI",
         "Products": "Product B",
         "Date": "2019-06",
         "Score": 683,
         "Value": 0,
         "eligible": 0,
         "client_age": 40,
         "_deepnote_index_column": 0
        },
        {
         "CustomerId": 15165393,
         "Surname": "LABIANCA",
         "Geography": "Spain",
         "Gender": "Male",
         "HasCrCard": 1,
         "IsActiveMember": 1,
         "EstimatedSalary": 2612.65,
         "application_date": "2018-02-22T00:00:00.000000",
         "exit_date": "2019-06-11 00:00:00",
         "birth_date": "1974-07-11T00:00:00.000000",
         "application_date_year": 2018,
         "application_date_month": 2,
         "application_date_day": 22,
         "exit_date_year": 2019,
         "exit_date_month": 6,
         "exit_date_day": 11,
         "birth_date_year": 1974,
         "birth_date_month": 7,
         "birth_date_day": 7,
         "ContractId": "orIBQM9pK7Z7AYBQok1jypK6t",
         "Products": "Product D",
         "Date": "2018-02",
         "Score": 487,
         "Value": 119657.24,
         "eligible": 0,
         "client_age": 43,
         "_deepnote_index_column": 1
        },
        {
         "CustomerId": 15165393,
         "Surname": "LABIANCA",
         "Geography": "Spain",
         "Gender": "Male",
         "HasCrCard": 1,
         "IsActiveMember": 1,
         "EstimatedSalary": 2612.65,
         "application_date": "2018-02-22T00:00:00.000000",
         "exit_date": "2019-06-11 00:00:00",
         "birth_date": "1974-07-11T00:00:00.000000",
         "application_date_year": 2018,
         "application_date_month": 2,
         "application_date_day": 22,
         "exit_date_year": 2019,
         "exit_date_month": 6,
         "exit_date_day": 11,
         "birth_date_year": 1974,
         "birth_date_month": 7,
         "birth_date_day": 7,
         "ContractId": "orIBQM9pK7Z7AYBQok1jypK6t",
         "Products": "Product D",
         "Date": "2018-02",
         "Score": 487,
         "Value": 119657.24,
         "eligible": 0,
         "client_age": 43,
         "_deepnote_index_column": 2
        },
        {
         "CustomerId": 15982728,
         "Surname": "GOUDEAU",
         "Geography": "France",
         "Gender": "Male",
         "HasCrCard": 0,
         "IsActiveMember": 1,
         "EstimatedSalary": 66465.09,
         "application_date": "2018-02-02T00:00:00.000000",
         "exit_date": "2019-06-01 00:00:00",
         "birth_date": "1972-12-18T00:00:00.000000",
         "application_date_year": 2018,
         "application_date_month": 2,
         "application_date_day": 2,
         "exit_date_year": 2019,
         "exit_date_month": 6,
         "exit_date_day": 1,
         "birth_date_year": 1972,
         "birth_date_month": 12,
         "birth_date_day": 12,
         "ContractId": "sdnOZ3fBpu1sKsYrZJE9tfcRP",
         "Products": "Product B",
         "Date": "2018-02",
         "Score": 595,
         "Value": 43353.5,
         "eligible": 0,
         "client_age": 45,
         "_deepnote_index_column": 3
        },
        {
         "CustomerId": 15434700,
         "Surname": "STIMMELL",
         "Geography": "Germany",
         "Gender": "Male",
         "HasCrCard": 1,
         "IsActiveMember": 0,
         "EstimatedSalary": 138615.32,
         "application_date": "2018-06-06T00:00:00.000000",
         "exit_date": "NaT",
         "birth_date": "1994-07-22T00:00:00.000000",
         "application_date_year": 2018,
         "application_date_month": 6,
         "application_date_day": 6,
         "exit_date_year": "nan",
         "exit_date_month": "nan",
         "exit_date_day": "nan",
         "birth_date_year": 1994,
         "birth_date_month": 7,
         "birth_date_day": 7,
         "ContractId": "dF2Z2DZoUYMmf0ST8keQjvKQL",
         "Products": "Product A",
         "Date": "2018-06",
         "Score": 706,
         "Value": 92357.9,
         "eligible": 0,
         "client_age": 23,
         "_deepnote_index_column": 4
        }
       ]
      },
      "text/plain": "   CustomerId   Surname Geography Gender  HasCrCard  IsActiveMember  \\\n0    14648573     NALLS     Spain   Male        1.0             0.0   \n1    15165393  LABIANCA     Spain   Male        1.0             1.0   \n2    15165393  LABIANCA     Spain   Male        1.0             1.0   \n3    15982728   GOUDEAU    France   Male        0.0             1.0   \n4    15434700  STIMMELL   Germany   Male        1.0             0.0   \n\n   EstimatedSalary application_date  exit_date birth_date  ...  \\\n0        140827.98       2019-06-19        NaT 1979-02-27  ...   \n1          2612.65       2018-02-22 2019-06-11 1974-07-11  ...   \n2          2612.65       2018-02-22 2019-06-11 1974-07-11  ...   \n3         66465.09       2018-02-02 2019-06-01 1972-12-18  ...   \n4        138615.32       2018-06-06        NaT 1994-07-22  ...   \n\n   birth_date_year  birth_date_month  birth_date_day  \\\n0           1979.0               2.0             2.0   \n1           1974.0               7.0             7.0   \n2           1974.0               7.0             7.0   \n3           1972.0              12.0            12.0   \n4           1994.0               7.0             7.0   \n\n                  ContractId   Products     Date  Score      Value  eligible  \\\n0  WWlyRDX8AsGnWUPYiYGjidGKI  Product B  2019-06    683       0.00         0   \n1  orIBQM9pK7Z7AYBQok1jypK6t  Product D  2018-02    487  119657.24         0   \n2  orIBQM9pK7Z7AYBQok1jypK6t  Product D  2018-02    487  119657.24         0   \n3  sdnOZ3fBpu1sKsYrZJE9tfcRP  Product B  2018-02    595   43353.50         0   \n4  dF2Z2DZoUYMmf0ST8keQjvKQL  Product A  2018-06    706   92357.90         0   \n\n  client_age  \n0         40  \n1         43  \n2         43  \n3         45  \n4         23  \n\n[5 rows x 26 columns]",
      "text/html": "<div>\n<style scoped>\n    .dataframe tbody tr th:only-of-type {\n        vertical-align: middle;\n    }\n\n    .dataframe tbody tr th {\n        vertical-align: top;\n    }\n\n    .dataframe thead th {\n        text-align: right;\n    }\n</style>\n<table border=\"1\" class=\"dataframe\">\n  <thead>\n    <tr style=\"text-align: right;\">\n      <th></th>\n      <th>CustomerId</th>\n      <th>Surname</th>\n      <th>Geography</th>\n      <th>Gender</th>\n      <th>HasCrCard</th>\n      <th>IsActiveMember</th>\n      <th>EstimatedSalary</th>\n      <th>application_date</th>\n      <th>exit_date</th>\n      <th>birth_date</th>\n      <th>...</th>\n      <th>birth_date_year</th>\n      <th>birth_date_month</th>\n      <th>birth_date_day</th>\n      <th>ContractId</th>\n      <th>Products</th>\n      <th>Date</th>\n      <th>Score</th>\n      <th>Value</th>\n      <th>eligible</th>\n      <th>client_age</th>\n    </tr>\n  </thead>\n  <tbody>\n    <tr>\n      <th>0</th>\n      <td>14648573</td>\n      <td>NALLS</td>\n      <td>Spain</td>\n      <td>Male</td>\n      <td>1.0</td>\n      <td>0.0</td>\n      <td>140827.98</td>\n      <td>2019-06-19</td>\n      <td>NaT</td>\n      <td>1979-02-27</td>\n      <td>...</td>\n      <td>1979.0</td>\n      <td>2.0</td>\n      <td>2.0</td>\n      <td>WWlyRDX8AsGnWUPYiYGjidGKI</td>\n      <td>Product B</td>\n      <td>2019-06</td>\n      <td>683</td>\n      <td>0.00</td>\n      <td>0</td>\n      <td>40</td>\n    </tr>\n    <tr>\n      <th>1</th>\n      <td>15165393</td>\n      <td>LABIANCA</td>\n      <td>Spain</td>\n      <td>Male</td>\n      <td>1.0</td>\n      <td>1.0</td>\n      <td>2612.65</td>\n      <td>2018-02-22</td>\n      <td>2019-06-11</td>\n      <td>1974-07-11</td>\n      <td>...</td>\n      <td>1974.0</td>\n      <td>7.0</td>\n      <td>7.0</td>\n      <td>orIBQM9pK7Z7AYBQok1jypK6t</td>\n      <td>Product D</td>\n      <td>2018-02</td>\n      <td>487</td>\n      <td>119657.24</td>\n      <td>0</td>\n      <td>43</td>\n    </tr>\n    <tr>\n      <th>2</th>\n      <td>15165393</td>\n      <td>LABIANCA</td>\n      <td>Spain</td>\n      <td>Male</td>\n      <td>1.0</td>\n      <td>1.0</td>\n      <td>2612.65</td>\n      <td>2018-02-22</td>\n      <td>2019-06-11</td>\n      <td>1974-07-11</td>\n      <td>...</td>\n      <td>1974.0</td>\n      <td>7.0</td>\n      <td>7.0</td>\n      <td>orIBQM9pK7Z7AYBQok1jypK6t</td>\n      <td>Product D</td>\n      <td>2018-02</td>\n      <td>487</td>\n      <td>119657.24</td>\n      <td>0</td>\n      <td>43</td>\n    </tr>\n    <tr>\n      <th>3</th>\n      <td>15982728</td>\n      <td>GOUDEAU</td>\n      <td>France</td>\n      <td>Male</td>\n      <td>0.0</td>\n      <td>1.0</td>\n      <td>66465.09</td>\n      <td>2018-02-02</td>\n      <td>2019-06-01</td>\n      <td>1972-12-18</td>\n      <td>...</td>\n      <td>1972.0</td>\n      <td>12.0</td>\n      <td>12.0</td>\n      <td>sdnOZ3fBpu1sKsYrZJE9tfcRP</td>\n      <td>Product B</td>\n      <td>2018-02</td>\n      <td>595</td>\n      <td>43353.50</td>\n      <td>0</td>\n      <td>45</td>\n    </tr>\n    <tr>\n      <th>4</th>\n      <td>15434700</td>\n      <td>STIMMELL</td>\n      <td>Germany</td>\n      <td>Male</td>\n      <td>1.0</td>\n      <td>0.0</td>\n      <td>138615.32</td>\n      <td>2018-06-06</td>\n      <td>NaT</td>\n      <td>1994-07-22</td>\n      <td>...</td>\n      <td>1994.0</td>\n      <td>7.0</td>\n      <td>7.0</td>\n      <td>dF2Z2DZoUYMmf0ST8keQjvKQL</td>\n      <td>Product A</td>\n      <td>2018-06</td>\n      <td>706</td>\n      <td>92357.90</td>\n      <td>0</td>\n      <td>23</td>\n    </tr>\n  </tbody>\n</table>\n<p>5 rows × 26 columns</p>\n</div>"
     },
     "metadata": {}
    }
   ]
  },
  {
   "cell_type": "markdown",
   "source": "## Export data\n\nWe have cleaned data according to the instructions given by desired population. Now, it's time to export that cleaned data to a file which can be analized and processed.",
   "metadata": {
    "tags": [],
    "cell_id": "00049-762773ef-9df9-42a3-921e-d318ebec6693",
    "deepnote_cell_type": "markdown"
   }
  },
  {
   "cell_type": "code",
   "metadata": {
    "tags": [],
    "deepnote_to_be_reexecuted": false,
    "source_hash": "91b23730",
    "execution_start": 1643927185590,
    "execution_millis": 4,
    "cell_id": "00050-5666d882-b417-4c94-ad84-96c2bbe6f8ce",
    "deepnote_cell_type": "code"
   },
   "source": "DATA_PROCESSED_DIR = os.path.join(os.getcwd(), os.pardir, 'data', 'processed')\nprint(DATA_PROCESSED_DIR)",
   "execution_count": null,
   "outputs": [
    {
     "name": "stdout",
     "text": "/work/churn_predictive_model/notebooks/../data/processed\n",
     "output_type": "stream"
    }
   ]
  },
  {
   "cell_type": "code",
   "metadata": {
    "tags": [],
    "deepnote_to_be_reexecuted": false,
    "source_hash": "41100d47",
    "execution_start": 1643927220961,
    "execution_millis": 5067,
    "cell_id": "00051-0fba11e1-2ed3-4e2f-ab6d-9a0762e72b3c",
    "deepnote_cell_type": "code"
   },
   "source": "clients_products_score_transactions.to_csv(DATA_PROCESSED_DIR+'/cleaned_dataset.csv')",
   "execution_count": null,
   "outputs": []
  },
  {
   "cell_type": "markdown",
   "source": "## Important\nRaw data is too large to be uploaded on GitHub. However, processed data is small enough. That's why I'm creating an auxiliar directory in which the processed data will be stored. In other words, this directory will contain the same files as `data/processed`",
   "metadata": {
    "tags": [],
    "cell_id": "00052-d369d485-56f9-4e1a-b023-24869f33f38a",
    "deepnote_cell_type": "markdown"
   }
  },
  {
   "cell_type": "code",
   "metadata": {
    "tags": [],
    "deepnote_to_be_reexecuted": false,
    "source_hash": "9f626637",
    "execution_start": 1643927535174,
    "execution_millis": 1,
    "cell_id": "00053-35c3079b-71d3-4b54-ac43-5e53baa77f41",
    "deepnote_cell_type": "code"
   },
   "source": "DATA_AUX_DIR = os.path.join(os.getcwd(), os.pardir, 'data_sent_github')\nprint(DATA_AUX_DIR)",
   "execution_count": null,
   "outputs": [
    {
     "name": "stdout",
     "text": "/work/churn_predictive_model/notebooks/../data_sent_github\n",
     "output_type": "stream"
    }
   ]
  },
  {
   "cell_type": "code",
   "metadata": {
    "tags": [],
    "deepnote_to_be_reexecuted": false,
    "source_hash": "42e14db9",
    "execution_start": 1643927567951,
    "execution_millis": 5299,
    "cell_id": "00054-1e913526-7d22-4ae6-ad0c-fde5d34a8f4f",
    "deepnote_cell_type": "code"
   },
   "source": "clients_products_score_transactions.to_csv(DATA_AUX_DIR+'/cleaned_dataset.csv')",
   "execution_count": null,
   "outputs": []
  },
  {
   "cell_type": "markdown",
   "source": "<a style='text-decoration:none;line-height:16px;display:flex;color:#5B5B62;padding:10px;justify-content:end;' href='https://deepnote.com?utm_source=created-in-deepnote-cell&projectId=fb2ec55e-ada8-4de4-93de-2d05f236c13b' target=\"_blank\">\n<img alt='Created in deepnote.com' style='display:inline;max-height:16px;margin:0px;margin-right:7.5px;' src='data:image/svg+xml;base64,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' > </img>\nCreated in <span style='font-weight:600;margin-left:4px;'>Deepnote</span></a>",
   "metadata": {
    "tags": [],
    "created_in_deepnote_cell": true,
    "deepnote_cell_type": "markdown"
   }
  }
 ],
 "nbformat": 4,
 "nbformat_minor": 2,
 "metadata": {
  "orig_nbformat": 2,
  "deepnote": {
   "is_reactive": false
  },
  "deepnote_notebook_id": "724aabbc-6f61-4d58-b06d-96dda016d011",
  "deepnote_execution_queue": []
 }
}