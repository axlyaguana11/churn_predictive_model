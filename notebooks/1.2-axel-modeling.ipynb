{
 "cells": [
  {
   "cell_type": "markdown",
   "source": "# Modeling",
   "metadata": {
    "cell_id": "3064ec39-f826-4d7e-9693-e8dcadb24ec2",
    "tags": [],
    "deepnote_cell_type": "markdown"
   }
  },
  {
   "cell_type": "markdown",
   "source": "Here a logistic regression model is created.",
   "metadata": {
    "cell_id": "0240eb86-f30e-49a3-8972-e9153a35d4c4",
    "tags": [],
    "deepnote_cell_type": "markdown"
   }
  },
  {
   "cell_type": "code",
   "metadata": {
    "tags": [],
    "cell_id": "f9aaf0b7-9100-497c-8a18-9ffc2c7ce897",
    "deepnote_to_be_reexecuted": false,
    "source_hash": "90095f2c",
    "execution_start": 1644086861953,
    "execution_millis": 2,
    "deepnote_cell_type": "code"
   },
   "source": "#Libs\nimport pandas as pd\nimport matplotlib.pyplot as plt\nimport seaborn as sns\nimport os",
   "execution_count": 3,
   "outputs": []
  },
  {
   "cell_type": "code",
   "source": "#Libs for modeling\nfrom sklearn import metrics\nfrom sklearn.model_selection import train_test_split\nfrom sklearn.linear_model import LogisticRegression",
   "metadata": {
    "cell_id": "95da5ddf-ea2c-40c4-93d9-ca075f03f121",
    "tags": [],
    "deepnote_to_be_reexecuted": false,
    "source_hash": "714832b4",
    "execution_start": 1644086863797,
    "execution_millis": 2,
    "deepnote_cell_type": "code"
   },
   "outputs": [],
   "execution_count": 4
  },
  {
   "cell_type": "code",
   "source": "DATA_FEATURED_DIR = os.path.join(os.getcwd(), os.pardir, 'data_sent_github')\nprint(DATA_FEATURED_DIR)",
   "metadata": {
    "cell_id": "53663542-cc80-4839-8f03-c4a5ae2b0ed8",
    "tags": [],
    "deepnote_to_be_reexecuted": false,
    "source_hash": "174d9ca0",
    "execution_start": 1644086874970,
    "execution_millis": 7,
    "deepnote_cell_type": "code"
   },
   "outputs": [
    {
     "name": "stdout",
     "text": "/work/churn_predictive_model/notebooks/../data_sent_github\n",
     "output_type": "stream"
    }
   ],
   "execution_count": 6
  },
  {
   "cell_type": "code",
   "source": "df = pd.read_csv(DATA_FEATURED_DIR+'/featured_dataset.csv', index_col=[0])",
   "metadata": {
    "cell_id": "6ca3c50b-823f-4afb-8163-8d5d935c4573",
    "tags": [],
    "deepnote_to_be_reexecuted": false,
    "source_hash": "29fa2286",
    "execution_start": 1644086902981,
    "execution_millis": 144,
    "deepnote_cell_type": "code"
   },
   "outputs": [],
   "execution_count": 8
  },
  {
   "cell_type": "code",
   "source": "df.head()",
   "metadata": {
    "cell_id": "d9b446b4-d53f-4a4f-b663-7c60c937c175",
    "tags": [],
    "deepnote_to_be_reexecuted": false,
    "source_hash": "c085b6ba",
    "execution_start": 1644086916587,
    "execution_millis": 71,
    "deepnote_cell_type": "code"
   },
   "outputs": [
    {
     "output_type": "execute_result",
     "execution_count": 9,
     "data": {
      "application/vnd.deepnote.dataframe.v3+json": {
       "column_count": 19,
       "row_count": 5,
       "columns": [
        {
         "name": "index",
         "dtype": "int64",
         "stats": {
          "unique_count": 5,
          "nan_count": 0,
          "min": "0",
          "max": "4",
          "histogram": [
           {
            "bin_start": 0,
            "bin_end": 0.4,
            "count": 1
           },
           {
            "bin_start": 0.4,
            "bin_end": 0.8,
            "count": 0
           },
           {
            "bin_start": 0.8,
            "bin_end": 1.2000000000000002,
            "count": 1
           },
           {
            "bin_start": 1.2000000000000002,
            "bin_end": 1.6,
            "count": 0
           },
           {
            "bin_start": 1.6,
            "bin_end": 2,
            "count": 0
           },
           {
            "bin_start": 2,
            "bin_end": 2.4000000000000004,
            "count": 1
           },
           {
            "bin_start": 2.4000000000000004,
            "bin_end": 2.8000000000000003,
            "count": 0
           },
           {
            "bin_start": 2.8000000000000003,
            "bin_end": 3.2,
            "count": 1
           },
           {
            "bin_start": 3.2,
            "bin_end": 3.6,
            "count": 0
           },
           {
            "bin_start": 3.6,
            "bin_end": 4,
            "count": 1
           }
          ]
         }
        },
        {
         "name": "EstimatedSalary_scaled",
         "dtype": "float64",
         "stats": {
          "unique_count": 5,
          "nan_count": 0,
          "min": "0.007484394393853",
          "max": "0.564614015917512",
          "histogram": [
           {
            "bin_start": 0.007484394393853,
            "bin_end": 0.06319735654621891,
            "count": 1
           },
           {
            "bin_start": 0.06319735654621891,
            "bin_end": 0.11891031869858482,
            "count": 0
           },
           {
            "bin_start": 0.11891031869858482,
            "bin_end": 0.17462328085095075,
            "count": 0
           },
           {
            "bin_start": 0.17462328085095075,
            "bin_end": 0.23033624300331665,
            "count": 1
           },
           {
            "bin_start": 0.23033624300331665,
            "bin_end": 0.28604920515568255,
            "count": 0
           },
           {
            "bin_start": 0.28604920515568255,
            "bin_end": 0.3417621673080485,
            "count": 0
           },
           {
            "bin_start": 0.3417621673080485,
            "bin_end": 0.39747512946041436,
            "count": 1
           },
           {
            "bin_start": 0.39747512946041436,
            "bin_end": 0.4531880916127803,
            "count": 1
           },
           {
            "bin_start": 0.4531880916127803,
            "bin_end": 0.5089010537651462,
            "count": 0
           },
           {
            "bin_start": 0.5089010537651462,
            "bin_end": 0.564614015917512,
            "count": 1
           }
          ]
         }
        },
        {
         "name": "Score_scaled",
         "dtype": "float64",
         "stats": {
          "unique_count": 5,
          "nan_count": 0,
          "min": "0.3789346246973366",
          "max": "0.6440677966101696",
          "histogram": [
           {
            "bin_start": 0.3789346246973366,
            "bin_end": 0.4054479418886199,
            "count": 1
           },
           {
            "bin_start": 0.4054479418886199,
            "bin_end": 0.4319612590799032,
            "count": 0
           },
           {
            "bin_start": 0.4319612590799032,
            "bin_end": 0.4584745762711865,
            "count": 1
           },
           {
            "bin_start": 0.4584745762711865,
            "bin_end": 0.48498789346246973,
            "count": 0
           },
           {
            "bin_start": 0.48498789346246973,
            "bin_end": 0.5115012106537531,
            "count": 1
           },
           {
            "bin_start": 0.5115012106537531,
            "bin_end": 0.5380145278450363,
            "count": 0
           },
           {
            "bin_start": 0.5380145278450363,
            "bin_end": 0.5645278450363196,
            "count": 0
           },
           {
            "bin_start": 0.5645278450363196,
            "bin_end": 0.591041162227603,
            "count": 0
           },
           {
            "bin_start": 0.591041162227603,
            "bin_end": 0.6175544794188863,
            "count": 1
           },
           {
            "bin_start": 0.6175544794188863,
            "bin_end": 0.6440677966101696,
            "count": 1
           }
          ]
         }
        },
        {
         "name": "Value_scaled",
         "dtype": "float64",
         "stats": {
          "unique_count": 4,
          "nan_count": 0,
          "min": "4.8553816641725595e-18",
          "max": "0.3193979953643247",
          "histogram": [
           {
            "bin_start": 4.8553816641725595e-18,
            "bin_end": 0.03193979953643248,
            "count": 2
           },
           {
            "bin_start": 0.03193979953643248,
            "bin_end": 0.06387959907286495,
            "count": 0
           },
           {
            "bin_start": 0.06387959907286495,
            "bin_end": 0.09581939860929742,
            "count": 0
           },
           {
            "bin_start": 0.09581939860929742,
            "bin_end": 0.1277591981457299,
            "count": 1
           },
           {
            "bin_start": 0.1277591981457299,
            "bin_end": 0.15969899768216236,
            "count": 0
           },
           {
            "bin_start": 0.15969899768216236,
            "bin_end": 0.19163879721859484,
            "count": 0
           },
           {
            "bin_start": 0.19163879721859484,
            "bin_end": 0.2235785967550273,
            "count": 0
           },
           {
            "bin_start": 0.2235785967550273,
            "bin_end": 0.2555183962914598,
            "count": 1
           },
           {
            "bin_start": 0.2555183962914598,
            "bin_end": 0.2874581958278922,
            "count": 0
           },
           {
            "bin_start": 0.2874581958278922,
            "bin_end": 0.3193979953643247,
            "count": 1
           }
          ]
         }
        },
        {
         "name": "client_age_scaled",
         "dtype": "float64",
         "stats": {
          "unique_count": 5,
          "nan_count": 0,
          "min": "0.027027027027027",
          "max": "0.3648648648648648",
          "histogram": [
           {
            "bin_start": 0.027027027027027,
            "bin_end": 0.060810810810810786,
            "count": 1
           },
           {
            "bin_start": 0.060810810810810786,
            "bin_end": 0.09459459459459457,
            "count": 1
           },
           {
            "bin_start": 0.09459459459459457,
            "bin_end": 0.12837837837837834,
            "count": 0
           },
           {
            "bin_start": 0.12837837837837834,
            "bin_end": 0.16216216216216214,
            "count": 0
           },
           {
            "bin_start": 0.16216216216216214,
            "bin_end": 0.19594594594594592,
            "count": 0
           },
           {
            "bin_start": 0.19594594594594592,
            "bin_end": 0.22972972972972971,
            "count": 0
           },
           {
            "bin_start": 0.22972972972972971,
            "bin_end": 0.2635135135135135,
            "count": 0
           },
           {
            "bin_start": 0.2635135135135135,
            "bin_end": 0.29729729729729726,
            "count": 0
           },
           {
            "bin_start": 0.29729729729729726,
            "bin_end": 0.33108108108108103,
            "count": 1
           },
           {
            "bin_start": 0.33108108108108103,
            "bin_end": 0.3648648648648648,
            "count": 2
           }
          ]
         }
        },
        {
         "name": "France",
         "dtype": "int64",
         "stats": {
          "unique_count": 2,
          "nan_count": 0,
          "min": "0",
          "max": "1",
          "histogram": [
           {
            "bin_start": 0,
            "bin_end": 0.1,
            "count": 4
           },
           {
            "bin_start": 0.1,
            "bin_end": 0.2,
            "count": 0
           },
           {
            "bin_start": 0.2,
            "bin_end": 0.30000000000000004,
            "count": 0
           },
           {
            "bin_start": 0.30000000000000004,
            "bin_end": 0.4,
            "count": 0
           },
           {
            "bin_start": 0.4,
            "bin_end": 0.5,
            "count": 0
           },
           {
            "bin_start": 0.5,
            "bin_end": 0.6000000000000001,
            "count": 0
           },
           {
            "bin_start": 0.6000000000000001,
            "bin_end": 0.7000000000000001,
            "count": 0
           },
           {
            "bin_start": 0.7000000000000001,
            "bin_end": 0.8,
            "count": 0
           },
           {
            "bin_start": 0.8,
            "bin_end": 0.9,
            "count": 0
           },
           {
            "bin_start": 0.9,
            "bin_end": 1,
            "count": 1
           }
          ]
         }
        },
        {
         "name": "Germany",
         "dtype": "int64",
         "stats": {
          "unique_count": 2,
          "nan_count": 0,
          "min": "0",
          "max": "1",
          "histogram": [
           {
            "bin_start": 0,
            "bin_end": 0.1,
            "count": 3
           },
           {
            "bin_start": 0.1,
            "bin_end": 0.2,
            "count": 0
           },
           {
            "bin_start": 0.2,
            "bin_end": 0.30000000000000004,
            "count": 0
           },
           {
            "bin_start": 0.30000000000000004,
            "bin_end": 0.4,
            "count": 0
           },
           {
            "bin_start": 0.4,
            "bin_end": 0.5,
            "count": 0
           },
           {
            "bin_start": 0.5,
            "bin_end": 0.6000000000000001,
            "count": 0
           },
           {
            "bin_start": 0.6000000000000001,
            "bin_end": 0.7000000000000001,
            "count": 0
           },
           {
            "bin_start": 0.7000000000000001,
            "bin_end": 0.8,
            "count": 0
           },
           {
            "bin_start": 0.8,
            "bin_end": 0.9,
            "count": 0
           },
           {
            "bin_start": 0.9,
            "bin_end": 1,
            "count": 2
           }
          ]
         }
        },
        {
         "name": "Spain",
         "dtype": "int64",
         "stats": {
          "unique_count": 2,
          "nan_count": 0,
          "min": "0",
          "max": "1",
          "histogram": [
           {
            "bin_start": 0,
            "bin_end": 0.1,
            "count": 3
           },
           {
            "bin_start": 0.1,
            "bin_end": 0.2,
            "count": 0
           },
           {
            "bin_start": 0.2,
            "bin_end": 0.30000000000000004,
            "count": 0
           },
           {
            "bin_start": 0.30000000000000004,
            "bin_end": 0.4,
            "count": 0
           },
           {
            "bin_start": 0.4,
            "bin_end": 0.5,
            "count": 0
           },
           {
            "bin_start": 0.5,
            "bin_end": 0.6000000000000001,
            "count": 0
           },
           {
            "bin_start": 0.6000000000000001,
            "bin_end": 0.7000000000000001,
            "count": 0
           },
           {
            "bin_start": 0.7000000000000001,
            "bin_end": 0.8,
            "count": 0
           },
           {
            "bin_start": 0.8,
            "bin_end": 0.9,
            "count": 0
           },
           {
            "bin_start": 0.9,
            "bin_end": 1,
            "count": 2
           }
          ]
         }
        },
        {
         "name": "Female",
         "dtype": "int64",
         "stats": {
          "unique_count": 2,
          "nan_count": 0,
          "min": "0",
          "max": "1",
          "histogram": [
           {
            "bin_start": 0,
            "bin_end": 0.1,
            "count": 4
           },
           {
            "bin_start": 0.1,
            "bin_end": 0.2,
            "count": 0
           },
           {
            "bin_start": 0.2,
            "bin_end": 0.30000000000000004,
            "count": 0
           },
           {
            "bin_start": 0.30000000000000004,
            "bin_end": 0.4,
            "count": 0
           },
           {
            "bin_start": 0.4,
            "bin_end": 0.5,
            "count": 0
           },
           {
            "bin_start": 0.5,
            "bin_end": 0.6000000000000001,
            "count": 0
           },
           {
            "bin_start": 0.6000000000000001,
            "bin_end": 0.7000000000000001,
            "count": 0
           },
           {
            "bin_start": 0.7000000000000001,
            "bin_end": 0.8,
            "count": 0
           },
           {
            "bin_start": 0.8,
            "bin_end": 0.9,
            "count": 0
           },
           {
            "bin_start": 0.9,
            "bin_end": 1,
            "count": 1
           }
          ]
         }
        },
        {
         "name": "Male",
         "dtype": "int64",
         "stats": {
          "unique_count": 2,
          "nan_count": 0,
          "min": "0",
          "max": "1",
          "histogram": [
           {
            "bin_start": 0,
            "bin_end": 0.1,
            "count": 1
           },
           {
            "bin_start": 0.1,
            "bin_end": 0.2,
            "count": 0
           },
           {
            "bin_start": 0.2,
            "bin_end": 0.30000000000000004,
            "count": 0
           },
           {
            "bin_start": 0.30000000000000004,
            "bin_end": 0.4,
            "count": 0
           },
           {
            "bin_start": 0.4,
            "bin_end": 0.5,
            "count": 0
           },
           {
            "bin_start": 0.5,
            "bin_end": 0.6000000000000001,
            "count": 0
           },
           {
            "bin_start": 0.6000000000000001,
            "bin_end": 0.7000000000000001,
            "count": 0
           },
           {
            "bin_start": 0.7000000000000001,
            "bin_end": 0.8,
            "count": 0
           },
           {
            "bin_start": 0.8,
            "bin_end": 0.9,
            "count": 0
           },
           {
            "bin_start": 0.9,
            "bin_end": 1,
            "count": 4
           }
          ]
         }
        },
        {
         "name": "HasCrCard_0.0",
         "dtype": "int64",
         "stats": {
          "unique_count": 2,
          "nan_count": 0,
          "min": "0",
          "max": "1",
          "histogram": [
           {
            "bin_start": 0,
            "bin_end": 0.1,
            "count": 3
           },
           {
            "bin_start": 0.1,
            "bin_end": 0.2,
            "count": 0
           },
           {
            "bin_start": 0.2,
            "bin_end": 0.30000000000000004,
            "count": 0
           },
           {
            "bin_start": 0.30000000000000004,
            "bin_end": 0.4,
            "count": 0
           },
           {
            "bin_start": 0.4,
            "bin_end": 0.5,
            "count": 0
           },
           {
            "bin_start": 0.5,
            "bin_end": 0.6000000000000001,
            "count": 0
           },
           {
            "bin_start": 0.6000000000000001,
            "bin_end": 0.7000000000000001,
            "count": 0
           },
           {
            "bin_start": 0.7000000000000001,
            "bin_end": 0.8,
            "count": 0
           },
           {
            "bin_start": 0.8,
            "bin_end": 0.9,
            "count": 0
           },
           {
            "bin_start": 0.9,
            "bin_end": 1,
            "count": 2
           }
          ]
         }
        },
        {
         "name": "HasCrCard_1.0",
         "dtype": "int64",
         "stats": {
          "unique_count": 2,
          "nan_count": 0,
          "min": "0",
          "max": "1",
          "histogram": [
           {
            "bin_start": 0,
            "bin_end": 0.1,
            "count": 2
           },
           {
            "bin_start": 0.1,
            "bin_end": 0.2,
            "count": 0
           },
           {
            "bin_start": 0.2,
            "bin_end": 0.30000000000000004,
            "count": 0
           },
           {
            "bin_start": 0.30000000000000004,
            "bin_end": 0.4,
            "count": 0
           },
           {
            "bin_start": 0.4,
            "bin_end": 0.5,
            "count": 0
           },
           {
            "bin_start": 0.5,
            "bin_end": 0.6000000000000001,
            "count": 0
           },
           {
            "bin_start": 0.6000000000000001,
            "bin_end": 0.7000000000000001,
            "count": 0
           },
           {
            "bin_start": 0.7000000000000001,
            "bin_end": 0.8,
            "count": 0
           },
           {
            "bin_start": 0.8,
            "bin_end": 0.9,
            "count": 0
           },
           {
            "bin_start": 0.9,
            "bin_end": 1,
            "count": 3
           }
          ]
         }
        },
        {
         "name": "IsActiveMember_0.0",
         "dtype": "int64",
         "stats": {
          "unique_count": 2,
          "nan_count": 0,
          "min": "0",
          "max": "1",
          "histogram": [
           {
            "bin_start": 0,
            "bin_end": 0.1,
            "count": 2
           },
           {
            "bin_start": 0.1,
            "bin_end": 0.2,
            "count": 0
           },
           {
            "bin_start": 0.2,
            "bin_end": 0.30000000000000004,
            "count": 0
           },
           {
            "bin_start": 0.30000000000000004,
            "bin_end": 0.4,
            "count": 0
           },
           {
            "bin_start": 0.4,
            "bin_end": 0.5,
            "count": 0
           },
           {
            "bin_start": 0.5,
            "bin_end": 0.6000000000000001,
            "count": 0
           },
           {
            "bin_start": 0.6000000000000001,
            "bin_end": 0.7000000000000001,
            "count": 0
           },
           {
            "bin_start": 0.7000000000000001,
            "bin_end": 0.8,
            "count": 0
           },
           {
            "bin_start": 0.8,
            "bin_end": 0.9,
            "count": 0
           },
           {
            "bin_start": 0.9,
            "bin_end": 1,
            "count": 3
           }
          ]
         }
        },
        {
         "name": "IsActiveMember_1.0",
         "dtype": "int64",
         "stats": {
          "unique_count": 2,
          "nan_count": 0,
          "min": "0",
          "max": "1",
          "histogram": [
           {
            "bin_start": 0,
            "bin_end": 0.1,
            "count": 3
           },
           {
            "bin_start": 0.1,
            "bin_end": 0.2,
            "count": 0
           },
           {
            "bin_start": 0.2,
            "bin_end": 0.30000000000000004,
            "count": 0
           },
           {
            "bin_start": 0.30000000000000004,
            "bin_end": 0.4,
            "count": 0
           },
           {
            "bin_start": 0.4,
            "bin_end": 0.5,
            "count": 0
           },
           {
            "bin_start": 0.5,
            "bin_end": 0.6000000000000001,
            "count": 0
           },
           {
            "bin_start": 0.6000000000000001,
            "bin_end": 0.7000000000000001,
            "count": 0
           },
           {
            "bin_start": 0.7000000000000001,
            "bin_end": 0.8,
            "count": 0
           },
           {
            "bin_start": 0.8,
            "bin_end": 0.9,
            "count": 0
           },
           {
            "bin_start": 0.9,
            "bin_end": 1,
            "count": 2
           }
          ]
         }
        },
        {
         "name": "Products_Product A",
         "dtype": "int64",
         "stats": {
          "unique_count": 2,
          "nan_count": 0,
          "min": "0",
          "max": "1",
          "histogram": [
           {
            "bin_start": 0,
            "bin_end": 0.1,
            "count": 4
           },
           {
            "bin_start": 0.1,
            "bin_end": 0.2,
            "count": 0
           },
           {
            "bin_start": 0.2,
            "bin_end": 0.30000000000000004,
            "count": 0
           },
           {
            "bin_start": 0.30000000000000004,
            "bin_end": 0.4,
            "count": 0
           },
           {
            "bin_start": 0.4,
            "bin_end": 0.5,
            "count": 0
           },
           {
            "bin_start": 0.5,
            "bin_end": 0.6000000000000001,
            "count": 0
           },
           {
            "bin_start": 0.6000000000000001,
            "bin_end": 0.7000000000000001,
            "count": 0
           },
           {
            "bin_start": 0.7000000000000001,
            "bin_end": 0.8,
            "count": 0
           },
           {
            "bin_start": 0.8,
            "bin_end": 0.9,
            "count": 0
           },
           {
            "bin_start": 0.9,
            "bin_end": 1,
            "count": 1
           }
          ]
         }
        },
        {
         "name": "Products_Product B",
         "dtype": "int64",
         "stats": {
          "unique_count": 2,
          "nan_count": 0,
          "min": "0",
          "max": "1",
          "histogram": [
           {
            "bin_start": 0,
            "bin_end": 0.1,
            "count": 3
           },
           {
            "bin_start": 0.1,
            "bin_end": 0.2,
            "count": 0
           },
           {
            "bin_start": 0.2,
            "bin_end": 0.30000000000000004,
            "count": 0
           },
           {
            "bin_start": 0.30000000000000004,
            "bin_end": 0.4,
            "count": 0
           },
           {
            "bin_start": 0.4,
            "bin_end": 0.5,
            "count": 0
           },
           {
            "bin_start": 0.5,
            "bin_end": 0.6000000000000001,
            "count": 0
           },
           {
            "bin_start": 0.6000000000000001,
            "bin_end": 0.7000000000000001,
            "count": 0
           },
           {
            "bin_start": 0.7000000000000001,
            "bin_end": 0.8,
            "count": 0
           },
           {
            "bin_start": 0.8,
            "bin_end": 0.9,
            "count": 0
           },
           {
            "bin_start": 0.9,
            "bin_end": 1,
            "count": 2
           }
          ]
         }
        },
        {
         "name": "Products_Product C",
         "dtype": "int64",
         "stats": {
          "unique_count": 1,
          "nan_count": 0,
          "min": "0",
          "max": "0",
          "histogram": [
           {
            "bin_start": -0.5,
            "bin_end": -0.4,
            "count": 0
           },
           {
            "bin_start": -0.4,
            "bin_end": -0.3,
            "count": 0
           },
           {
            "bin_start": -0.3,
            "bin_end": -0.19999999999999996,
            "count": 0
           },
           {
            "bin_start": -0.19999999999999996,
            "bin_end": -0.09999999999999998,
            "count": 0
           },
           {
            "bin_start": -0.09999999999999998,
            "bin_end": 0,
            "count": 0
           },
           {
            "bin_start": 0,
            "bin_end": 0.10000000000000009,
            "count": 5
           },
           {
            "bin_start": 0.10000000000000009,
            "bin_end": 0.20000000000000007,
            "count": 0
           },
           {
            "bin_start": 0.20000000000000007,
            "bin_end": 0.30000000000000004,
            "count": 0
           },
           {
            "bin_start": 0.30000000000000004,
            "bin_end": 0.4,
            "count": 0
           },
           {
            "bin_start": 0.4,
            "bin_end": 0.5,
            "count": 0
           }
          ]
         }
        },
        {
         "name": "Products_Product D",
         "dtype": "int64",
         "stats": {
          "unique_count": 2,
          "nan_count": 0,
          "min": "0",
          "max": "1",
          "histogram": [
           {
            "bin_start": 0,
            "bin_end": 0.1,
            "count": 3
           },
           {
            "bin_start": 0.1,
            "bin_end": 0.2,
            "count": 0
           },
           {
            "bin_start": 0.2,
            "bin_end": 0.30000000000000004,
            "count": 0
           },
           {
            "bin_start": 0.30000000000000004,
            "bin_end": 0.4,
            "count": 0
           },
           {
            "bin_start": 0.4,
            "bin_end": 0.5,
            "count": 0
           },
           {
            "bin_start": 0.5,
            "bin_end": 0.6000000000000001,
            "count": 0
           },
           {
            "bin_start": 0.6000000000000001,
            "bin_end": 0.7000000000000001,
            "count": 0
           },
           {
            "bin_start": 0.7000000000000001,
            "bin_end": 0.8,
            "count": 0
           },
           {
            "bin_start": 0.8,
            "bin_end": 0.9,
            "count": 0
           },
           {
            "bin_start": 0.9,
            "bin_end": 1,
            "count": 2
           }
          ]
         }
        },
        {
         "name": "eligible",
         "dtype": "int64",
         "stats": {
          "unique_count": 2,
          "nan_count": 0,
          "min": "0",
          "max": "1",
          "histogram": [
           {
            "bin_start": 0,
            "bin_end": 0.1,
            "count": 3
           },
           {
            "bin_start": 0.1,
            "bin_end": 0.2,
            "count": 0
           },
           {
            "bin_start": 0.2,
            "bin_end": 0.30000000000000004,
            "count": 0
           },
           {
            "bin_start": 0.30000000000000004,
            "bin_end": 0.4,
            "count": 0
           },
           {
            "bin_start": 0.4,
            "bin_end": 0.5,
            "count": 0
           },
           {
            "bin_start": 0.5,
            "bin_end": 0.6000000000000001,
            "count": 0
           },
           {
            "bin_start": 0.6000000000000001,
            "bin_end": 0.7000000000000001,
            "count": 0
           },
           {
            "bin_start": 0.7000000000000001,
            "bin_end": 0.8,
            "count": 0
           },
           {
            "bin_start": 0.8,
            "bin_end": 0.9,
            "count": 0
           },
           {
            "bin_start": 0.9,
            "bin_end": 1,
            "count": 2
           }
          ]
         }
        },
        {
         "name": "_deepnote_index_column",
         "dtype": "int64"
        }
       ],
       "rows": [
        {
         "index": 0,
         "EstimatedSalary_scaled": 0.4034264612595039,
         "Score_scaled": 0.616222760290557,
         "Value_scaled": 4.8553816641725595e-18,
         "client_age_scaled": 0.2972972972972973,
         "France": 0,
         "Germany": 0,
         "Spain": 1,
         "Female": 0,
         "Male": 1,
         "HasCrCard_0.0": 0,
         "HasCrCard_1.0": 1,
         "IsActiveMember_0.0": 1,
         "IsActiveMember_1.0": 0,
         "Products_Product A": 0,
         "Products_Product B": 1,
         "Products_Product C": 0,
         "Products_Product D": 0,
         "eligible": 1,
         "_deepnote_index_column": 0
        },
        {
         "index": 1,
         "EstimatedSalary_scaled": 0.007484394393853,
         "Score_scaled": 0.3789346246973366,
         "Value_scaled": 0.3193979953643247,
         "client_age_scaled": 0.3378378378378379,
         "France": 0,
         "Germany": 0,
         "Spain": 1,
         "Female": 0,
         "Male": 1,
         "HasCrCard_0.0": 0,
         "HasCrCard_1.0": 1,
         "IsActiveMember_0.0": 0,
         "IsActiveMember_1.0": 1,
         "Products_Product A": 0,
         "Products_Product B": 0,
         "Products_Product C": 0,
         "Products_Product D": 1,
         "eligible": 0,
         "_deepnote_index_column": 1
        },
        {
         "index": 2,
         "EstimatedSalary_scaled": 0.1904009136252216,
         "Score_scaled": 0.5096852300242132,
         "Value_scaled": 0.1157223833010627,
         "client_age_scaled": 0.3648648648648648,
         "France": 1,
         "Germany": 0,
         "Spain": 0,
         "Female": 0,
         "Male": 1,
         "HasCrCard_0.0": 1,
         "HasCrCard_1.0": 0,
         "IsActiveMember_0.0": 0,
         "IsActiveMember_1.0": 1,
         "Products_Product A": 0,
         "Products_Product B": 1,
         "Products_Product C": 0,
         "Products_Product D": 0,
         "eligible": 0,
         "_deepnote_index_column": 2
        },
        {
         "index": 3,
         "EstimatedSalary_scaled": 0.3970879084110539,
         "Score_scaled": 0.6440677966101696,
         "Value_scaled": 0.2465285687356549,
         "client_age_scaled": 0.0675675675675676,
         "France": 0,
         "Germany": 1,
         "Spain": 0,
         "Female": 0,
         "Male": 1,
         "HasCrCard_0.0": 0,
         "HasCrCard_1.0": 1,
         "IsActiveMember_0.0": 1,
         "IsActiveMember_1.0": 0,
         "Products_Product A": 1,
         "Products_Product B": 0,
         "Products_Product C": 0,
         "Products_Product D": 0,
         "eligible": 1,
         "_deepnote_index_column": 3
        },
        {
         "index": 4,
         "EstimatedSalary_scaled": 0.564614015917512,
         "Score_scaled": 0.4334140435835352,
         "Value_scaled": 4.8553816641725595e-18,
         "client_age_scaled": 0.027027027027027,
         "France": 0,
         "Germany": 1,
         "Spain": 0,
         "Female": 1,
         "Male": 0,
         "HasCrCard_0.0": 1,
         "HasCrCard_1.0": 0,
         "IsActiveMember_0.0": 1,
         "IsActiveMember_1.0": 0,
         "Products_Product A": 0,
         "Products_Product B": 0,
         "Products_Product C": 0,
         "Products_Product D": 1,
         "eligible": 0,
         "_deepnote_index_column": 4
        }
       ]
      },
      "text/plain": "   index  EstimatedSalary_scaled  Score_scaled  Value_scaled  \\\n0      0                0.403426      0.616223  4.855382e-18   \n1      1                0.007484      0.378935  3.193980e-01   \n2      2                0.190401      0.509685  1.157224e-01   \n3      3                0.397088      0.644068  2.465286e-01   \n4      4                0.564614      0.433414  4.855382e-18   \n\n   client_age_scaled  France  Germany  Spain  Female  Male  HasCrCard_0.0  \\\n0           0.297297       0        0      1       0     1              0   \n1           0.337838       0        0      1       0     1              0   \n2           0.364865       1        0      0       0     1              1   \n3           0.067568       0        1      0       0     1              0   \n4           0.027027       0        1      0       1     0              1   \n\n   HasCrCard_1.0  IsActiveMember_0.0  IsActiveMember_1.0  Products_Product A  \\\n0              1                   1                   0                   0   \n1              1                   0                   1                   0   \n2              0                   0                   1                   0   \n3              1                   1                   0                   1   \n4              0                   1                   0                   0   \n\n   Products_Product B  Products_Product C  Products_Product D  eligible  \n0                   1                   0                   0         1  \n1                   0                   0                   1         0  \n2                   1                   0                   0         0  \n3                   0                   0                   0         1  \n4                   0                   0                   1         0  ",
      "text/html": "<div>\n<style scoped>\n    .dataframe tbody tr th:only-of-type {\n        vertical-align: middle;\n    }\n\n    .dataframe tbody tr th {\n        vertical-align: top;\n    }\n\n    .dataframe thead th {\n        text-align: right;\n    }\n</style>\n<table border=\"1\" class=\"dataframe\">\n  <thead>\n    <tr style=\"text-align: right;\">\n      <th></th>\n      <th>index</th>\n      <th>EstimatedSalary_scaled</th>\n      <th>Score_scaled</th>\n      <th>Value_scaled</th>\n      <th>client_age_scaled</th>\n      <th>France</th>\n      <th>Germany</th>\n      <th>Spain</th>\n      <th>Female</th>\n      <th>Male</th>\n      <th>HasCrCard_0.0</th>\n      <th>HasCrCard_1.0</th>\n      <th>IsActiveMember_0.0</th>\n      <th>IsActiveMember_1.0</th>\n      <th>Products_Product A</th>\n      <th>Products_Product B</th>\n      <th>Products_Product C</th>\n      <th>Products_Product D</th>\n      <th>eligible</th>\n    </tr>\n  </thead>\n  <tbody>\n    <tr>\n      <th>0</th>\n      <td>0</td>\n      <td>0.403426</td>\n      <td>0.616223</td>\n      <td>4.855382e-18</td>\n      <td>0.297297</td>\n      <td>0</td>\n      <td>0</td>\n      <td>1</td>\n      <td>0</td>\n      <td>1</td>\n      <td>0</td>\n      <td>1</td>\n      <td>1</td>\n      <td>0</td>\n      <td>0</td>\n      <td>1</td>\n      <td>0</td>\n      <td>0</td>\n      <td>1</td>\n    </tr>\n    <tr>\n      <th>1</th>\n      <td>1</td>\n      <td>0.007484</td>\n      <td>0.378935</td>\n      <td>3.193980e-01</td>\n      <td>0.337838</td>\n      <td>0</td>\n      <td>0</td>\n      <td>1</td>\n      <td>0</td>\n      <td>1</td>\n      <td>0</td>\n      <td>1</td>\n      <td>0</td>\n      <td>1</td>\n      <td>0</td>\n      <td>0</td>\n      <td>0</td>\n      <td>1</td>\n      <td>0</td>\n    </tr>\n    <tr>\n      <th>2</th>\n      <td>2</td>\n      <td>0.190401</td>\n      <td>0.509685</td>\n      <td>1.157224e-01</td>\n      <td>0.364865</td>\n      <td>1</td>\n      <td>0</td>\n      <td>0</td>\n      <td>0</td>\n      <td>1</td>\n      <td>1</td>\n      <td>0</td>\n      <td>0</td>\n      <td>1</td>\n      <td>0</td>\n      <td>1</td>\n      <td>0</td>\n      <td>0</td>\n      <td>0</td>\n    </tr>\n    <tr>\n      <th>3</th>\n      <td>3</td>\n      <td>0.397088</td>\n      <td>0.644068</td>\n      <td>2.465286e-01</td>\n      <td>0.067568</td>\n      <td>0</td>\n      <td>1</td>\n      <td>0</td>\n      <td>0</td>\n      <td>1</td>\n      <td>0</td>\n      <td>1</td>\n      <td>1</td>\n      <td>0</td>\n      <td>1</td>\n      <td>0</td>\n      <td>0</td>\n      <td>0</td>\n      <td>1</td>\n    </tr>\n    <tr>\n      <th>4</th>\n      <td>4</td>\n      <td>0.564614</td>\n      <td>0.433414</td>\n      <td>4.855382e-18</td>\n      <td>0.027027</td>\n      <td>0</td>\n      <td>1</td>\n      <td>0</td>\n      <td>1</td>\n      <td>0</td>\n      <td>1</td>\n      <td>0</td>\n      <td>1</td>\n      <td>0</td>\n      <td>0</td>\n      <td>0</td>\n      <td>0</td>\n      <td>1</td>\n      <td>0</td>\n    </tr>\n  </tbody>\n</table>\n</div>"
     },
     "metadata": {}
    }
   ],
   "execution_count": 9
  },
  {
   "cell_type": "code",
   "source": "df.columns",
   "metadata": {
    "cell_id": "5cadfe15-fb2e-4238-89a1-2a567f659120",
    "tags": [],
    "deepnote_to_be_reexecuted": false,
    "source_hash": "25d43fa0",
    "execution_start": 1644086936604,
    "execution_millis": 19,
    "deepnote_output_heights": [
     117.15625
    ],
    "deepnote_cell_type": "code"
   },
   "outputs": [
    {
     "output_type": "execute_result",
     "execution_count": 10,
     "data": {
      "text/plain": "Index(['index', 'EstimatedSalary_scaled', 'Score_scaled', 'Value_scaled',\n       'client_age_scaled', 'France', 'Germany', 'Spain', 'Female', 'Male',\n       'HasCrCard_0.0', 'HasCrCard_1.0', 'IsActiveMember_0.0',\n       'IsActiveMember_1.0', 'Products_Product A', 'Products_Product B',\n       'Products_Product C', 'Products_Product D', 'eligible'],\n      dtype='object')"
     },
     "metadata": {}
    }
   ],
   "execution_count": 10
  },
  {
   "cell_type": "code",
   "source": "feature_cols = ['EstimatedSalary_scaled',\n                'Score_scaled',\n                'Value_scaled',\n                'client_age_scaled',\n                'France',\n                'Germany',\n                'Spain',\n                'Female',\n                'Male',\n                'HasCrCard_0.0',\n                'HasCrCard_1.0',\n                'IsActiveMember_0.0',\n                'IsActiveMember_1.0',\n                'Products_Product A',\n                'Products_Product B',\n                'Products_Product C',\n                'Products_Product D']",
   "metadata": {
    "cell_id": "9de544a9-454f-4229-9c47-6739737e594d",
    "tags": [],
    "deepnote_to_be_reexecuted": false,
    "source_hash": "c62941aa",
    "execution_start": 1644087142677,
    "execution_millis": 1,
    "deepnote_cell_type": "code"
   },
   "outputs": [],
   "execution_count": 12
  },
  {
   "cell_type": "code",
   "source": "x = df[feature_cols]\ny = df['eligible']",
   "metadata": {
    "cell_id": "0637f96f-fcbf-49e4-90fb-2523f831fc5e",
    "tags": [],
    "deepnote_to_be_reexecuted": false,
    "source_hash": "8d2c5b89",
    "execution_start": 1644087164897,
    "execution_millis": 6,
    "deepnote_cell_type": "code"
   },
   "outputs": [],
   "execution_count": 13
  },
  {
   "cell_type": "code",
   "source": "X_train, X_test, Y_train, Y_test = train_test_split(x, y, test_size=0.25, random_state=0)\n",
   "metadata": {
    "cell_id": "003932d6-5e60-40b7-9d7a-28b4773b7205",
    "tags": [],
    "deepnote_to_be_reexecuted": false,
    "source_hash": "21ba5072",
    "execution_start": 1644087179921,
    "execution_millis": 1,
    "deepnote_cell_type": "code"
   },
   "outputs": [],
   "execution_count": 14
  },
  {
   "cell_type": "code",
   "source": "log_reg = LogisticRegression(max_iter=len(X_train))\nlog_reg.fit(X_train, Y_train)",
   "metadata": {
    "cell_id": "3fbfba33-042f-4c57-8ba9-baf17edcb99f",
    "tags": [],
    "deepnote_to_be_reexecuted": false,
    "source_hash": "cf99f805",
    "execution_start": 1644087206357,
    "execution_millis": 823,
    "deepnote_output_heights": [
     21.1875
    ],
    "deepnote_cell_type": "code"
   },
   "outputs": [
    {
     "output_type": "execute_result",
     "execution_count": 15,
     "data": {
      "text/plain": "LogisticRegression(max_iter=86594)"
     },
     "metadata": {}
    }
   ],
   "execution_count": 15
  },
  {
   "cell_type": "code",
   "source": "y_pred = log_reg.predict(X_test)",
   "metadata": {
    "cell_id": "d1d9a3da-efc6-498b-8525-2bdd6c5ee206",
    "tags": [],
    "deepnote_to_be_reexecuted": false,
    "source_hash": "ca076381",
    "execution_start": 1644087220362,
    "execution_millis": 7,
    "deepnote_cell_type": "code"
   },
   "outputs": [],
   "execution_count": 16
  },
  {
   "cell_type": "code",
   "source": "y_pred",
   "metadata": {
    "cell_id": "8e0501f4-99b3-4ab5-a5c6-5428fb3f5015",
    "tags": [],
    "deepnote_to_be_reexecuted": false,
    "source_hash": "ba549d12",
    "execution_start": 1644087230873,
    "execution_millis": 9,
    "deepnote_output_heights": [
     21.1875
    ],
    "deepnote_cell_type": "code"
   },
   "outputs": [
    {
     "output_type": "execute_result",
     "execution_count": 17,
     "data": {
      "text/plain": "array([1, 1, 1, ..., 1, 1, 1])"
     },
     "metadata": {}
    }
   ],
   "execution_count": 17
  },
  {
   "cell_type": "markdown",
   "source": "## Evaluation",
   "metadata": {
    "cell_id": "8a9b3881-3664-4cca-8a47-c85881d249e1",
    "tags": [],
    "deepnote_cell_type": "markdown"
   }
  },
  {
   "cell_type": "code",
   "source": "cnf_matrix = metrics.confusion_matrix(Y_test, y_pred)\ncnf_matrix",
   "metadata": {
    "cell_id": "5956b38b-f3b9-4c45-9c83-b2a6378dd2b7",
    "tags": [],
    "deepnote_to_be_reexecuted": false,
    "source_hash": "4ccd4f69",
    "execution_start": 1644087270970,
    "execution_millis": 19,
    "deepnote_output_heights": [
     40.375
    ],
    "deepnote_cell_type": "code"
   },
   "outputs": [
    {
     "output_type": "execute_result",
     "execution_count": 18,
     "data": {
      "text/plain": "array([[    0,  5993],\n       [    0, 22872]])"
     },
     "metadata": {}
    }
   ],
   "execution_count": 18
  },
  {
   "cell_type": "code",
   "source": "df_cnf_matrix = pd.DataFrame(cnf_matrix)\ndf_cnf_matrix",
   "metadata": {
    "cell_id": "6646c6d7-d994-43d2-a33f-ce24c3235b95",
    "tags": [],
    "deepnote_to_be_reexecuted": false,
    "source_hash": "3506a810",
    "execution_start": 1644087292870,
    "execution_millis": 2,
    "deepnote_cell_type": "code"
   },
   "outputs": [
    {
     "output_type": "execute_result",
     "execution_count": 19,
     "data": {
      "application/vnd.deepnote.dataframe.v3+json": {
       "column_count": 2,
       "row_count": 2,
       "columns": [
        {
         "name": 0,
         "dtype": "int64",
         "stats": {
          "unique_count": 1,
          "nan_count": 0,
          "min": "0",
          "max": "0",
          "histogram": [
           {
            "bin_start": -0.5,
            "bin_end": -0.4,
            "count": 0
           },
           {
            "bin_start": -0.4,
            "bin_end": -0.3,
            "count": 0
           },
           {
            "bin_start": -0.3,
            "bin_end": -0.19999999999999996,
            "count": 0
           },
           {
            "bin_start": -0.19999999999999996,
            "bin_end": -0.09999999999999998,
            "count": 0
           },
           {
            "bin_start": -0.09999999999999998,
            "bin_end": 0,
            "count": 0
           },
           {
            "bin_start": 0,
            "bin_end": 0.10000000000000009,
            "count": 2
           },
           {
            "bin_start": 0.10000000000000009,
            "bin_end": 0.20000000000000007,
            "count": 0
           },
           {
            "bin_start": 0.20000000000000007,
            "bin_end": 0.30000000000000004,
            "count": 0
           },
           {
            "bin_start": 0.30000000000000004,
            "bin_end": 0.4,
            "count": 0
           },
           {
            "bin_start": 0.4,
            "bin_end": 0.5,
            "count": 0
           }
          ]
         }
        },
        {
         "name": 1,
         "dtype": "int64",
         "stats": {
          "unique_count": 2,
          "nan_count": 0,
          "min": "5993",
          "max": "22872",
          "histogram": [
           {
            "bin_start": 5993,
            "bin_end": 7680.9,
            "count": 1
           },
           {
            "bin_start": 7680.9,
            "bin_end": 9368.8,
            "count": 0
           },
           {
            "bin_start": 9368.8,
            "bin_end": 11056.7,
            "count": 0
           },
           {
            "bin_start": 11056.7,
            "bin_end": 12744.6,
            "count": 0
           },
           {
            "bin_start": 12744.6,
            "bin_end": 14432.5,
            "count": 0
           },
           {
            "bin_start": 14432.5,
            "bin_end": 16120.400000000001,
            "count": 0
           },
           {
            "bin_start": 16120.400000000001,
            "bin_end": 17808.300000000003,
            "count": 0
           },
           {
            "bin_start": 17808.300000000003,
            "bin_end": 19496.2,
            "count": 0
           },
           {
            "bin_start": 19496.2,
            "bin_end": 21184.1,
            "count": 0
           },
           {
            "bin_start": 21184.1,
            "bin_end": 22872,
            "count": 1
           }
          ]
         }
        },
        {
         "name": "_deepnote_index_column",
         "dtype": "int64"
        }
       ],
       "rows": [
        {
         "0": 0,
         "1": 5993,
         "_deepnote_index_column": 0
        },
        {
         "0": 0,
         "1": 22872,
         "_deepnote_index_column": 1
        }
       ]
      },
      "text/plain": "   0      1\n0  0   5993\n1  0  22872",
      "text/html": "<div>\n<style scoped>\n    .dataframe tbody tr th:only-of-type {\n        vertical-align: middle;\n    }\n\n    .dataframe tbody tr th {\n        vertical-align: top;\n    }\n\n    .dataframe thead th {\n        text-align: right;\n    }\n</style>\n<table border=\"1\" class=\"dataframe\">\n  <thead>\n    <tr style=\"text-align: right;\">\n      <th></th>\n      <th>0</th>\n      <th>1</th>\n    </tr>\n  </thead>\n  <tbody>\n    <tr>\n      <th>0</th>\n      <td>0</td>\n      <td>5993</td>\n    </tr>\n    <tr>\n      <th>1</th>\n      <td>0</td>\n      <td>22872</td>\n    </tr>\n  </tbody>\n</table>\n</div>"
     },
     "metadata": {}
    }
   ],
   "execution_count": 19
  },
  {
   "cell_type": "code",
   "source": "fig, ax = plt.subplots(figsize=(10, 7))\nplt.title('Confusion Matrix')\nplt.tight_layout()\nsns.heatmap(df_cnf_matrix, annot=True, fmt='g', cmap=\"YlGnBu\")",
   "metadata": {
    "cell_id": "4be2a73f-7f7f-4aaf-b956-a0a4d7bb5410",
    "tags": [],
    "deepnote_to_be_reexecuted": false,
    "source_hash": "b1e20acf",
    "execution_start": 1644089249406,
    "execution_millis": 332,
    "deepnote_output_heights": [
     21.1875,
     498
    ],
    "deepnote_cell_type": "code"
   },
   "outputs": [
    {
     "output_type": "execute_result",
     "execution_count": 25,
     "data": {
      "text/plain": "<AxesSubplot:title={'center':'Confusion Matrix'}>"
     },
     "metadata": {}
    },
    {
     "data": {
      "text/plain": "<Figure size 720x504 with 2 Axes>",
      "image/png": "[encoded data removed]"
     },
     "metadata": {
      "needs_background": "light",
      "image/png": {
       "width": 659,
       "height": 496
      }
     },
     "output_type": "display_data"
    }
   ],
   "execution_count": 25
  },
  {
   "cell_type": "markdown",
   "source": "* 22872 true positives.\n* 5993 false positives.\n* 0 true negatives.\n* 0 false negatives.",
   "metadata": {
    "cell_id": "a93487b9-104e-47e7-bd61-34dc3641e24e",
    "tags": [],
    "deepnote_cell_type": "markdown"
   }
  },
  {
   "cell_type": "code",
   "source": "metrics.accuracy_score(Y_test, y_pred)",
   "metadata": {
    "cell_id": "8a4f72e7-4239-49e1-926a-f4dc7f60cad8",
    "tags": [],
    "deepnote_to_be_reexecuted": false,
    "source_hash": "19b2b4f3",
    "execution_start": 1644087320294,
    "execution_millis": 14,
    "deepnote_output_heights": [
     21.1875
    ],
    "deepnote_cell_type": "code"
   },
   "outputs": [
    {
     "output_type": "execute_result",
     "execution_count": 20,
     "data": {
      "text/plain": "0.7923783128356141"
     },
     "metadata": {}
    }
   ],
   "execution_count": 20
  },
  {
   "cell_type": "markdown",
   "source": "The logistic regression model has an accuracy of `79.24%`.",
   "metadata": {
    "cell_id": "f4c2fb8c-f7a9-4187-9be3-bdbeec6cf1dd",
    "tags": [],
    "deepnote_cell_type": "markdown"
   }
  },
  {
   "cell_type": "markdown",
   "source": "<a style='text-decoration:none;line-height:16px;display:flex;color:#5B5B62;padding:10px;justify-content:end;' href='https://deepnote.com?utm_source=created-in-deepnote-cell&projectId=fb2ec55e-ada8-4de4-93de-2d05f236c13b' target=\"_blank\">\n<img alt='Created in deepnote.com' style='display:inline;max-height:16px;margin:0px;margin-right:7.5px;' src='data:image/svg+xml;base64,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' > </img>\nCreated in <span style='font-weight:600;margin-left:4px;'>Deepnote</span></a>",
   "metadata": {
    "tags": [],
    "created_in_deepnote_cell": true,
    "deepnote_cell_type": "markdown"
   }
  }
 ],
 "nbformat": 4,
 "nbformat_minor": 2,
 "metadata": {
  "orig_nbformat": 2,
  "deepnote": {
   "is_reactive": false
  },
  "deepnote_notebook_id": "003e612a-739d-4e8e-bc2c-33bb6a5f449b",
  "deepnote_execution_queue": []
 }
}